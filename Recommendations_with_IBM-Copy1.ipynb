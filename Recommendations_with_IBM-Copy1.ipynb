{
 "cells": [
  {
   "cell_type": "markdown",
   "metadata": {},
   "source": [
    "# Recommendations with IBM\n",
    "\n",
    "In this notebook, you will be putting your recommendation skills to use on real data from the IBM Watson Studio platform. \n",
    "\n",
    "\n",
    "You may either submit your notebook through the workspace here, or you may work from your local machine and submit through the next page.  Either way assure that your code passes the project [RUBRIC](https://review.udacity.com/#!/rubrics/2322/view).  **Please save regularly.**\n",
    "\n",
    "By following the table of contents, you will build out a number of different methods for making recommendations that can be used for different situations. \n",
    "\n",
    "\n",
    "## Table of Contents\n",
    "\n",
    "I. [Exploratory Data Analysis](#Exploratory-Data-Analysis)<br>\n",
    "II. [Rank Based Recommendations](#Rank)<br>\n",
    "III. [User-User Based Collaborative Filtering](#User-User)<br>\n",
    "IV. [Content Based Recommendations (EXTRA - NOT REQUIRED)](#Content-Recs)<br>\n",
    "V. [Matrix Factorization](#Matrix-Fact)<br>\n",
    "VI. [Extras & Concluding](#conclusions)\n",
    "\n",
    "At the end of the notebook, you will find directions for how to submit your work.  Let's get started by importing the necessary libraries and reading in the data."
   ]
  },
  {
   "cell_type": "code",
   "execution_count": 1,
   "metadata": {
    "ExecuteTime": {
     "end_time": "2019-03-04T10:37:02.608513Z",
     "start_time": "2019-03-04T10:37:01.375813Z"
    }
   },
   "outputs": [],
   "source": [
    "import pandas as pd\n",
    "import numpy as np\n",
    "import matplotlib.pyplot as plt\n",
    "import project_tests as t\n",
    "import pickle\n",
    "\n",
    "%matplotlib inline"
   ]
  },
  {
   "cell_type": "code",
   "execution_count": 2,
   "metadata": {
    "ExecuteTime": {
     "end_time": "2019-03-04T10:37:02.801003Z",
     "start_time": "2019-03-04T10:37:02.626467Z"
    }
   },
   "outputs": [
    {
     "data": {
      "text/html": [
       "<div>\n",
       "<style scoped>\n",
       "    .dataframe tbody tr th:only-of-type {\n",
       "        vertical-align: middle;\n",
       "    }\n",
       "\n",
       "    .dataframe tbody tr th {\n",
       "        vertical-align: top;\n",
       "    }\n",
       "\n",
       "    .dataframe thead th {\n",
       "        text-align: right;\n",
       "    }\n",
       "</style>\n",
       "<table border=\"1\" class=\"dataframe\">\n",
       "  <thead>\n",
       "    <tr style=\"text-align: right;\">\n",
       "      <th></th>\n",
       "      <th>article_id</th>\n",
       "      <th>title</th>\n",
       "      <th>email</th>\n",
       "    </tr>\n",
       "  </thead>\n",
       "  <tbody>\n",
       "    <tr>\n",
       "      <th>0</th>\n",
       "      <td>1430.0</td>\n",
       "      <td>using pixiedust for fast, flexible, and easier...</td>\n",
       "      <td>ef5f11f77ba020cd36e1105a00ab868bbdbf7fe7</td>\n",
       "    </tr>\n",
       "    <tr>\n",
       "      <th>1</th>\n",
       "      <td>1314.0</td>\n",
       "      <td>healthcare python streaming application demo</td>\n",
       "      <td>083cbdfa93c8444beaa4c5f5e0f5f9198e4f9e0b</td>\n",
       "    </tr>\n",
       "    <tr>\n",
       "      <th>2</th>\n",
       "      <td>1429.0</td>\n",
       "      <td>use deep learning for image classification</td>\n",
       "      <td>b96a4f2e92d8572034b1e9b28f9ac673765cd074</td>\n",
       "    </tr>\n",
       "    <tr>\n",
       "      <th>3</th>\n",
       "      <td>1338.0</td>\n",
       "      <td>ml optimization using cognitive assistant</td>\n",
       "      <td>06485706b34a5c9bf2a0ecdac41daf7e7654ceb7</td>\n",
       "    </tr>\n",
       "    <tr>\n",
       "      <th>4</th>\n",
       "      <td>1276.0</td>\n",
       "      <td>deploy your python model as a restful api</td>\n",
       "      <td>f01220c46fc92c6e6b161b1849de11faacd7ccb2</td>\n",
       "    </tr>\n",
       "  </tbody>\n",
       "</table>\n",
       "</div>"
      ],
      "text/plain": [
       "   article_id                                              title  \\\n",
       "0      1430.0  using pixiedust for fast, flexible, and easier...   \n",
       "1      1314.0       healthcare python streaming application demo   \n",
       "2      1429.0         use deep learning for image classification   \n",
       "3      1338.0          ml optimization using cognitive assistant   \n",
       "4      1276.0          deploy your python model as a restful api   \n",
       "\n",
       "                                      email  \n",
       "0  ef5f11f77ba020cd36e1105a00ab868bbdbf7fe7  \n",
       "1  083cbdfa93c8444beaa4c5f5e0f5f9198e4f9e0b  \n",
       "2  b96a4f2e92d8572034b1e9b28f9ac673765cd074  \n",
       "3  06485706b34a5c9bf2a0ecdac41daf7e7654ceb7  \n",
       "4  f01220c46fc92c6e6b161b1849de11faacd7ccb2  "
      ]
     },
     "execution_count": 2,
     "metadata": {},
     "output_type": "execute_result"
    }
   ],
   "source": [
    "df = pd.read_csv('data/user-item-interactions.csv')\n",
    "df_content = pd.read_csv('data/articles_community.csv')\n",
    "del df['Unnamed: 0']\n",
    "del df_content['Unnamed: 0']\n",
    "\n",
    "# Show df to get an idea of the data\n",
    "df.head()"
   ]
  },
  {
   "cell_type": "code",
   "execution_count": 3,
   "metadata": {
    "ExecuteTime": {
     "end_time": "2019-03-04T07:20:02.857021Z",
     "start_time": "2019-03-04T07:20:02.847047Z"
    }
   },
   "outputs": [
    {
     "name": "stdout",
     "output_type": "stream",
     "text": [
      "<class 'pandas.core.frame.DataFrame'>\n",
      "RangeIndex: 45993 entries, 0 to 45992\n",
      "Data columns (total 3 columns):\n",
      "article_id    45993 non-null float64\n",
      "title         45993 non-null object\n",
      "email         45976 non-null object\n",
      "dtypes: float64(1), object(2)\n",
      "memory usage: 1.1+ MB\n"
     ]
    }
   ],
   "source": [
    "df.info()"
   ]
  },
  {
   "cell_type": "code",
   "execution_count": 4,
   "metadata": {
    "ExecuteTime": {
     "end_time": "2019-03-04T07:20:04.450088Z",
     "start_time": "2019-03-04T07:20:04.442110Z"
    }
   },
   "outputs": [
    {
     "data": {
      "text/html": [
       "<div>\n",
       "<style scoped>\n",
       "    .dataframe tbody tr th:only-of-type {\n",
       "        vertical-align: middle;\n",
       "    }\n",
       "\n",
       "    .dataframe tbody tr th {\n",
       "        vertical-align: top;\n",
       "    }\n",
       "\n",
       "    .dataframe thead th {\n",
       "        text-align: right;\n",
       "    }\n",
       "</style>\n",
       "<table border=\"1\" class=\"dataframe\">\n",
       "  <thead>\n",
       "    <tr style=\"text-align: right;\">\n",
       "      <th></th>\n",
       "      <th>doc_body</th>\n",
       "      <th>doc_description</th>\n",
       "      <th>doc_full_name</th>\n",
       "      <th>doc_status</th>\n",
       "      <th>article_id</th>\n",
       "    </tr>\n",
       "  </thead>\n",
       "  <tbody>\n",
       "    <tr>\n",
       "      <th>0</th>\n",
       "      <td>Skip navigation Sign in SearchLoading...\\r\\n\\r...</td>\n",
       "      <td>Detect bad readings in real time using Python ...</td>\n",
       "      <td>Detect Malfunctioning IoT Sensors with Streami...</td>\n",
       "      <td>Live</td>\n",
       "      <td>0</td>\n",
       "    </tr>\n",
       "    <tr>\n",
       "      <th>1</th>\n",
       "      <td>No Free Hunch Navigation * kaggle.com\\r\\n\\r\\n ...</td>\n",
       "      <td>See the forest, see the trees. Here lies the c...</td>\n",
       "      <td>Communicating data science: A guide to present...</td>\n",
       "      <td>Live</td>\n",
       "      <td>1</td>\n",
       "    </tr>\n",
       "    <tr>\n",
       "      <th>2</th>\n",
       "      <td>☰ * Login\\r\\n * Sign Up\\r\\n\\r\\n * Learning Pat...</td>\n",
       "      <td>Here’s this week’s news in Data Science and Bi...</td>\n",
       "      <td>This Week in Data Science (April 18, 2017)</td>\n",
       "      <td>Live</td>\n",
       "      <td>2</td>\n",
       "    </tr>\n",
       "    <tr>\n",
       "      <th>3</th>\n",
       "      <td>DATALAYER: HIGH THROUGHPUT, LOW LATENCY AT SCA...</td>\n",
       "      <td>Learn how distributed DBs solve the problem of...</td>\n",
       "      <td>DataLayer Conference: Boost the performance of...</td>\n",
       "      <td>Live</td>\n",
       "      <td>3</td>\n",
       "    </tr>\n",
       "    <tr>\n",
       "      <th>4</th>\n",
       "      <td>Skip navigation Sign in SearchLoading...\\r\\n\\r...</td>\n",
       "      <td>This video demonstrates the power of IBM DataS...</td>\n",
       "      <td>Analyze NY Restaurant data using Spark in DSX</td>\n",
       "      <td>Live</td>\n",
       "      <td>4</td>\n",
       "    </tr>\n",
       "  </tbody>\n",
       "</table>\n",
       "</div>"
      ],
      "text/plain": [
       "                                            doc_body  \\\n",
       "0  Skip navigation Sign in SearchLoading...\\r\\n\\r...   \n",
       "1  No Free Hunch Navigation * kaggle.com\\r\\n\\r\\n ...   \n",
       "2  ☰ * Login\\r\\n * Sign Up\\r\\n\\r\\n * Learning Pat...   \n",
       "3  DATALAYER: HIGH THROUGHPUT, LOW LATENCY AT SCA...   \n",
       "4  Skip navigation Sign in SearchLoading...\\r\\n\\r...   \n",
       "\n",
       "                                     doc_description  \\\n",
       "0  Detect bad readings in real time using Python ...   \n",
       "1  See the forest, see the trees. Here lies the c...   \n",
       "2  Here’s this week’s news in Data Science and Bi...   \n",
       "3  Learn how distributed DBs solve the problem of...   \n",
       "4  This video demonstrates the power of IBM DataS...   \n",
       "\n",
       "                                       doc_full_name doc_status  article_id  \n",
       "0  Detect Malfunctioning IoT Sensors with Streami...       Live           0  \n",
       "1  Communicating data science: A guide to present...       Live           1  \n",
       "2         This Week in Data Science (April 18, 2017)       Live           2  \n",
       "3  DataLayer Conference: Boost the performance of...       Live           3  \n",
       "4      Analyze NY Restaurant data using Spark in DSX       Live           4  "
      ]
     },
     "execution_count": 4,
     "metadata": {},
     "output_type": "execute_result"
    }
   ],
   "source": [
    "# Show df_content to get an idea of the data\n",
    "df_content.head()"
   ]
  },
  {
   "cell_type": "markdown",
   "metadata": {},
   "source": [
    "### <a class=\"anchor\" id=\"Exploratory-Data-Analysis\">Part I : Exploratory Data Analysis</a>\n",
    "\n",
    "Use the dictionary and cells below to provide some insight into the descriptive statistics of the data.\n",
    "\n",
    "`1.` What is the distribution of how many articles a user interacts with in the dataset?  Provide a visual and descriptive statistics to assist with giving a look at the number of times each user interacts with an article.  "
   ]
  },
  {
   "cell_type": "code",
   "execution_count": 5,
   "metadata": {
    "ExecuteTime": {
     "end_time": "2019-03-04T07:20:25.458047Z",
     "start_time": "2019-03-04T07:20:24.581519Z"
    }
   },
   "outputs": [
    {
     "data": {
      "text/plain": [
       "<matplotlib.legend.Legend at 0x1fe45ea0eb8>"
      ]
     },
     "execution_count": 5,
     "metadata": {},
     "output_type": "execute_result"
    },
    {
     "data": {
      "image/png": "[encoded data removed]",
      "text/plain": [
       "<Figure size 1152x432 with 2 Axes>"
      ]
     },
     "metadata": {
      "needs_background": "light"
     },
     "output_type": "display_data"
    }
   ],
   "source": [
    "fig, (ax1, ax2) = plt.subplots(figsize=(16,6), nrows=1, ncols=2)\n",
    "\n",
    "\n",
    "articles_distribution = df.groupby('article_id')['title'].count()\n",
    "articles_distribution.hist(ax=ax1, bins=40, bottom=0.1)\n",
    "ax1.set_yscale('log')\n",
    "ax1.set_xlabel('Number of articles')\n",
    "ax1.set_ylabel('Frequency of users per article')\n",
    "ax1.set_title('Frequency distribution of users')\n",
    "ax1.axvline(x=articles_distribution.min(), color='b', label='Mode')\n",
    "ax1.axvline(x=articles_distribution.median(), color='r', label='Median')\n",
    "ax1.axvline(x=articles_distribution.mean(), color='g', label='Mean')\n",
    "ax1.legend()\n",
    "\n",
    "users_distribution = df.groupby('email')['title'].count()\n",
    "users_distribution.hist(ax=ax2, bins=40, bottom=0.1)\n",
    "ax2.set_yscale('log')\n",
    "ax2.set_xlabel('Number of users')\n",
    "ax2.set_ylabel('Frequency of articles per user')\n",
    "ax2.set_title('Frequency distribution of articles')\n",
    "ax2.axvline(x=users_distribution.min(), color='b', label='Mode')\n",
    "ax2.axvline(x=users_distribution.median(), color='r', label='Median')\n",
    "ax2.axvline(x=users_distribution.mean(), color='g', label='Mean')\n",
    "ax2.legend()"
   ]
  },
  {
   "cell_type": "code",
   "execution_count": 6,
   "metadata": {
    "ExecuteTime": {
     "end_time": "2019-03-04T07:20:32.371599Z",
     "start_time": "2019-03-04T07:20:32.360623Z"
    }
   },
   "outputs": [
    {
     "data": {
      "text/plain": [
       "count    714.000000\n",
       "mean      64.415966\n",
       "std      109.175923\n",
       "min        1.000000\n",
       "25%        8.000000\n",
       "50%       25.000000\n",
       "75%       69.000000\n",
       "max      937.000000\n",
       "Name: title, dtype: float64"
      ]
     },
     "metadata": {},
     "output_type": "display_data"
    },
    {
     "data": {
      "text/plain": [
       "count    5148.000000\n",
       "mean        8.930847\n",
       "std        16.802267\n",
       "min         1.000000\n",
       "25%         1.000000\n",
       "50%         3.000000\n",
       "75%         9.000000\n",
       "max       364.000000\n",
       "Name: title, dtype: float64"
      ]
     },
     "metadata": {},
     "output_type": "display_data"
    }
   ],
   "source": [
    "display(articles_distribution.describe(), users_distribution.describe())"
   ]
  },
  {
   "cell_type": "markdown",
   "metadata": {},
   "source": [
    "The distribution is clearly right skewed, means that there are few articles used \n",
    "most of the time/by most users, while most of the other articles are user by few \n",
    "users."
   ]
  },
  {
   "cell_type": "code",
   "execution_count": 7,
   "metadata": {
    "ExecuteTime": {
     "end_time": "2019-03-04T07:20:36.942627Z",
     "start_time": "2019-03-04T07:20:36.937639Z"
    }
   },
   "outputs": [
    {
     "data": {
      "text/plain": [
       "(3.0, 364)"
      ]
     },
     "execution_count": 7,
     "metadata": {},
     "output_type": "execute_result"
    }
   ],
   "source": [
    "# Fill in the median and maximum number of user_article interactios below\n",
    "\n",
    "median_val = users_distribution.median()# 50% of individuals interact with ____ number of articles or fewer.\n",
    "max_views_by_user = users_distribution.max() # The maximum number of user-article interactions by any 1 user is ______.\n",
    "median_val, max_views_by_user"
   ]
  },
  {
   "cell_type": "markdown",
   "metadata": {},
   "source": [
    "`2.` Explore and remove duplicate articles from the **df_content** dataframe.  "
   ]
  },
  {
   "cell_type": "code",
   "execution_count": 8,
   "metadata": {
    "ExecuteTime": {
     "end_time": "2019-03-04T07:20:59.036449Z",
     "start_time": "2019-03-04T07:20:59.033457Z"
    },
    "code_folding": []
   },
   "outputs": [],
   "source": [
    "# Find and explore duplicate articles"
   ]
  },
  {
   "cell_type": "code",
   "execution_count": 9,
   "metadata": {
    "ExecuteTime": {
     "end_time": "2019-03-04T07:20:59.880238Z",
     "start_time": "2019-03-04T07:20:59.877245Z"
    },
    "code_folding": []
   },
   "outputs": [],
   "source": [
    "# Remove any rows that have the same article_id - only keep the first"
   ]
  },
  {
   "cell_type": "code",
   "execution_count": 10,
   "metadata": {
    "ExecuteTime": {
     "end_time": "2019-03-04T07:21:00.515562Z",
     "start_time": "2019-03-04T07:21:00.510576Z"
    }
   },
   "outputs": [
    {
     "data": {
      "text/plain": [
       "((45993, 3), (1056, 5))"
      ]
     },
     "execution_count": 10,
     "metadata": {},
     "output_type": "execute_result"
    }
   ],
   "source": [
    "# get some infos about the two datasets\n",
    "df.shape, df_content.shape"
   ]
  },
  {
   "cell_type": "markdown",
   "metadata": {},
   "source": [
    "*Is the `article_id` unique in the each of the two datasets?*"
   ]
  },
  {
   "cell_type": "code",
   "execution_count": 11,
   "metadata": {
    "ExecuteTime": {
     "end_time": "2019-03-04T07:21:03.087261Z",
     "start_time": "2019-03-04T07:21:03.080280Z"
    }
   },
   "outputs": [
    {
     "data": {
      "text/plain": [
       "(714, 1051)"
      ]
     },
     "execution_count": 11,
     "metadata": {},
     "output_type": "execute_result"
    }
   ],
   "source": [
    "df.article_id.unique().shape[0], df_content.article_id.unique().shape[0]"
   ]
  },
  {
   "cell_type": "markdown",
   "metadata": {},
   "source": [
    "It seems that:\n",
    "1. there are many rows in the `df` dataset for each `article_id`.\n",
    "2. the unique `article_id` in the `df_content` dataset =1051, which almost equals the dataset rows.\n",
    "> it seems that the `df_content` contains duplicate rows, let's investigate"
   ]
  },
  {
   "cell_type": "code",
   "execution_count": 12,
   "metadata": {
    "ExecuteTime": {
     "end_time": "2019-03-04T07:21:08.702743Z",
     "start_time": "2019-03-04T07:21:08.688781Z"
    }
   },
   "outputs": [
    {
     "data": {
      "text/html": [
       "<div>\n",
       "<style scoped>\n",
       "    .dataframe tbody tr th:only-of-type {\n",
       "        vertical-align: middle;\n",
       "    }\n",
       "\n",
       "    .dataframe tbody tr th {\n",
       "        vertical-align: top;\n",
       "    }\n",
       "\n",
       "    .dataframe thead th {\n",
       "        text-align: right;\n",
       "    }\n",
       "</style>\n",
       "<table border=\"1\" class=\"dataframe\">\n",
       "  <thead>\n",
       "    <tr style=\"text-align: right;\">\n",
       "      <th></th>\n",
       "      <th>doc_body</th>\n",
       "      <th>doc_description</th>\n",
       "      <th>doc_full_name</th>\n",
       "      <th>doc_status</th>\n",
       "      <th>article_id</th>\n",
       "    </tr>\n",
       "  </thead>\n",
       "  <tbody>\n",
       "    <tr>\n",
       "      <th>50</th>\n",
       "      <td>Follow Sign in / Sign up Home About Insight Da...</td>\n",
       "      <td>Community Detection at Scale</td>\n",
       "      <td>Graph-based machine learning</td>\n",
       "      <td>Live</td>\n",
       "      <td>50</td>\n",
       "    </tr>\n",
       "    <tr>\n",
       "      <th>365</th>\n",
       "      <td>Follow Sign in / Sign up Home About Insight Da...</td>\n",
       "      <td>During the seven-week Insight Data Engineering...</td>\n",
       "      <td>Graph-based machine learning</td>\n",
       "      <td>Live</td>\n",
       "      <td>50</td>\n",
       "    </tr>\n",
       "    <tr>\n",
       "      <th>221</th>\n",
       "      <td>* United States\\r\\n\\r\\nIBM® * Site map\\r\\n\\r\\n...</td>\n",
       "      <td>When used to make sense of huge amounts of con...</td>\n",
       "      <td>How smart catalogs can turn the big data flood...</td>\n",
       "      <td>Live</td>\n",
       "      <td>221</td>\n",
       "    </tr>\n",
       "    <tr>\n",
       "      <th>692</th>\n",
       "      <td>Homepage Follow Sign in / Sign up Homepage * H...</td>\n",
       "      <td>One of the earliest documented catalogs was co...</td>\n",
       "      <td>How smart catalogs can turn the big data flood...</td>\n",
       "      <td>Live</td>\n",
       "      <td>221</td>\n",
       "    </tr>\n",
       "    <tr>\n",
       "      <th>232</th>\n",
       "      <td>Homepage Follow Sign in Get started Homepage *...</td>\n",
       "      <td>If you are like most data scientists, you are ...</td>\n",
       "      <td>Self-service data preparation with IBM Data Re...</td>\n",
       "      <td>Live</td>\n",
       "      <td>232</td>\n",
       "    </tr>\n",
       "    <tr>\n",
       "      <th>971</th>\n",
       "      <td>Homepage Follow Sign in Get started * Home\\r\\n...</td>\n",
       "      <td>If you are like most data scientists, you are ...</td>\n",
       "      <td>Self-service data preparation with IBM Data Re...</td>\n",
       "      <td>Live</td>\n",
       "      <td>232</td>\n",
       "    </tr>\n",
       "    <tr>\n",
       "      <th>399</th>\n",
       "      <td>Homepage Follow Sign in Get started * Home\\r\\n...</td>\n",
       "      <td>Today’s world of data science leverages data f...</td>\n",
       "      <td>Using Apache Spark as a parallel processing fr...</td>\n",
       "      <td>Live</td>\n",
       "      <td>398</td>\n",
       "    </tr>\n",
       "    <tr>\n",
       "      <th>761</th>\n",
       "      <td>Homepage Follow Sign in Get started Homepage *...</td>\n",
       "      <td>Today’s world of data science leverages data f...</td>\n",
       "      <td>Using Apache Spark as a parallel processing fr...</td>\n",
       "      <td>Live</td>\n",
       "      <td>398</td>\n",
       "    </tr>\n",
       "    <tr>\n",
       "      <th>578</th>\n",
       "      <td>This video shows you how to construct queries ...</td>\n",
       "      <td>This video shows you how to construct queries ...</td>\n",
       "      <td>Use the Primary Index</td>\n",
       "      <td>Live</td>\n",
       "      <td>577</td>\n",
       "    </tr>\n",
       "    <tr>\n",
       "      <th>970</th>\n",
       "      <td>This video shows you how to construct queries ...</td>\n",
       "      <td>This video shows you how to construct queries ...</td>\n",
       "      <td>Use the Primary Index</td>\n",
       "      <td>Live</td>\n",
       "      <td>577</td>\n",
       "    </tr>\n",
       "  </tbody>\n",
       "</table>\n",
       "</div>"
      ],
      "text/plain": [
       "                                              doc_body  \\\n",
       "50   Follow Sign in / Sign up Home About Insight Da...   \n",
       "365  Follow Sign in / Sign up Home About Insight Da...   \n",
       "221  * United States\\r\\n\\r\\nIBM® * Site map\\r\\n\\r\\n...   \n",
       "692  Homepage Follow Sign in / Sign up Homepage * H...   \n",
       "232  Homepage Follow Sign in Get started Homepage *...   \n",
       "971  Homepage Follow Sign in Get started * Home\\r\\n...   \n",
       "399  Homepage Follow Sign in Get started * Home\\r\\n...   \n",
       "761  Homepage Follow Sign in Get started Homepage *...   \n",
       "578  This video shows you how to construct queries ...   \n",
       "970  This video shows you how to construct queries ...   \n",
       "\n",
       "                                       doc_description  \\\n",
       "50                        Community Detection at Scale   \n",
       "365  During the seven-week Insight Data Engineering...   \n",
       "221  When used to make sense of huge amounts of con...   \n",
       "692  One of the earliest documented catalogs was co...   \n",
       "232  If you are like most data scientists, you are ...   \n",
       "971  If you are like most data scientists, you are ...   \n",
       "399  Today’s world of data science leverages data f...   \n",
       "761  Today’s world of data science leverages data f...   \n",
       "578  This video shows you how to construct queries ...   \n",
       "970  This video shows you how to construct queries ...   \n",
       "\n",
       "                                         doc_full_name doc_status  article_id  \n",
       "50                        Graph-based machine learning       Live          50  \n",
       "365                       Graph-based machine learning       Live          50  \n",
       "221  How smart catalogs can turn the big data flood...       Live         221  \n",
       "692  How smart catalogs can turn the big data flood...       Live         221  \n",
       "232  Self-service data preparation with IBM Data Re...       Live         232  \n",
       "971  Self-service data preparation with IBM Data Re...       Live         232  \n",
       "399  Using Apache Spark as a parallel processing fr...       Live         398  \n",
       "761  Using Apache Spark as a parallel processing fr...       Live         398  \n",
       "578                              Use the Primary Index       Live         577  \n",
       "970                              Use the Primary Index       Live         577  "
      ]
     },
     "execution_count": 12,
     "metadata": {},
     "output_type": "execute_result"
    }
   ],
   "source": [
    "# the duplicates\n",
    "df_content[df_content.duplicated(subset='article_id', keep=False)].sort_values(by='article_id')"
   ]
  },
  {
   "cell_type": "markdown",
   "metadata": {},
   "source": [
    "There are 5 duplicates in the `article_id`, we will keep the first occurence."
   ]
  },
  {
   "cell_type": "code",
   "execution_count": 13,
   "metadata": {
    "ExecuteTime": {
     "end_time": "2019-03-04T07:21:15.146979Z",
     "start_time": "2019-03-04T07:21:15.140994Z"
    }
   },
   "outputs": [
    {
     "data": {
      "text/plain": [
       "(1051, 5)"
      ]
     },
     "execution_count": 13,
     "metadata": {},
     "output_type": "execute_result"
    }
   ],
   "source": [
    "df_content = df_content[~df_content.duplicated(subset='article_id', keep='first')]\n",
    "df_content.shape"
   ]
  },
  {
   "cell_type": "markdown",
   "metadata": {},
   "source": [
    "`3.` Use the cells below to find:\n",
    "\n",
    "**a.** The number of unique articles that have an interaction with a user.  \n",
    "**b.** The number of unique articles in the dataset (whether they have any interactions or not).<br>\n",
    "**c.** The number of unique users in the dataset. (excluding null values) <br>\n",
    "**d.** The number of user-article interactions in the dataset."
   ]
  },
  {
   "cell_type": "code",
   "execution_count": 14,
   "metadata": {
    "ExecuteTime": {
     "end_time": "2019-03-04T07:21:18.093317Z",
     "start_time": "2019-03-04T07:21:18.085338Z"
    }
   },
   "outputs": [
    {
     "name": "stdout",
     "output_type": "stream",
     "text": [
      "Answers of a=714, b=1051, c=5149, d=45993\n"
     ]
    }
   ],
   "source": [
    "# df.info()\n",
    "print('Answers of a={}, b={}, c={}, d={}'.format(\n",
    "    df.article_id.unique().shape[0], len(df_content.article_id.unique()),\n",
    "    len(df.email.unique()), df.shape[0]))"
   ]
  },
  {
   "cell_type": "code",
   "execution_count": 15,
   "metadata": {
    "ExecuteTime": {
     "end_time": "2019-03-04T07:21:27.272670Z",
     "start_time": "2019-03-04T07:21:27.259714Z"
    }
   },
   "outputs": [
    {
     "data": {
      "text/plain": [
       "5148"
      ]
     },
     "execution_count": 15,
     "metadata": {},
     "output_type": "execute_result"
    }
   ],
   "source": [
    "len(df[~df.email.isna()].email.unique())"
   ]
  },
  {
   "cell_type": "code",
   "execution_count": 16,
   "metadata": {
    "ExecuteTime": {
     "end_time": "2019-03-04T07:21:28.156902Z",
     "start_time": "2019-03-04T07:21:28.140943Z"
    }
   },
   "outputs": [],
   "source": [
    "unique_articles = df.article_id.unique().shape[0]# The number of unique articles that have at least one interaction\n",
    "total_articles = len(df_content.article_id.unique())# The number of unique articles on the IBM platform\n",
    "unique_users = len(df[~df.email.isna()].email.unique())# The number of unique users\n",
    "user_article_interactions = df.shape[0]# The number of user-article interactions"
   ]
  },
  {
   "cell_type": "markdown",
   "metadata": {},
   "source": [
    "`4.` Use the cells below to find the most viewed **article_id**, as well as how often it was viewed.  After talking to the company leaders, the `email_mapper` function was deemed a reasonable way to map users to ids.  There were a small number of null values, and it was found that all of these null values likely belonged to a single user (which is how they are stored using the function below)."
   ]
  },
  {
   "cell_type": "code",
   "execution_count": 17,
   "metadata": {
    "ExecuteTime": {
     "end_time": "2019-03-04T07:21:30.972531Z",
     "start_time": "2019-03-04T07:21:30.960405Z"
    }
   },
   "outputs": [
    {
     "data": {
      "text/plain": [
       "1429.0    937\n",
       "1330.0    927\n",
       "1431.0    671\n",
       "1427.0    643\n",
       "1364.0    627\n",
       "Name: article_id, dtype: int64"
      ]
     },
     "metadata": {},
     "output_type": "display_data"
    },
    {
     "data": {
      "text/plain": [
       "1429.0"
      ]
     },
     "metadata": {},
     "output_type": "display_data"
    },
    {
     "data": {
      "text/plain": [
       "937"
      ]
     },
     "metadata": {},
     "output_type": "display_data"
    }
   ],
   "source": [
    "# top 5 articles\n",
    "display(df.article_id.value_counts().iloc[:5, ],\n",
    "        df.article_id.value_counts().iloc[:1, ].index[0],\n",
    "        df.article_id.value_counts().iloc[:1, ].to_list()[0])"
   ]
  },
  {
   "cell_type": "code",
   "execution_count": 18,
   "metadata": {
    "ExecuteTime": {
     "end_time": "2019-03-04T07:21:35.223754Z",
     "start_time": "2019-03-04T07:21:35.217770Z"
    }
   },
   "outputs": [],
   "source": [
    "most_viewed=df.article_id.value_counts().iloc[:1,]\n",
    "most_viewed_article_id = str(most_viewed.index[0])# The most viewed article in the dataset as a string with one value following the decimal \n",
    "max_views = most_viewed.to_list()[0]# The most viewed article in the dataset was viewed how many times?"
   ]
  },
  {
   "cell_type": "code",
   "execution_count": 19,
   "metadata": {
    "ExecuteTime": {
     "end_time": "2019-03-04T07:21:36.238360Z",
     "start_time": "2019-03-04T07:21:36.234371Z"
    }
   },
   "outputs": [
    {
     "data": {
      "text/plain": [
       "str"
      ]
     },
     "execution_count": 19,
     "metadata": {},
     "output_type": "execute_result"
    }
   ],
   "source": [
    "type(most_viewed_article_id)"
   ]
  },
  {
   "cell_type": "code",
   "execution_count": 20,
   "metadata": {
    "ExecuteTime": {
     "end_time": "2019-03-04T07:21:38.101011Z",
     "start_time": "2019-03-04T07:21:38.078511Z"
    }
   },
   "outputs": [
    {
     "data": {
      "text/html": [
       "<div>\n",
       "<style scoped>\n",
       "    .dataframe tbody tr th:only-of-type {\n",
       "        vertical-align: middle;\n",
       "    }\n",
       "\n",
       "    .dataframe tbody tr th {\n",
       "        vertical-align: top;\n",
       "    }\n",
       "\n",
       "    .dataframe thead th {\n",
       "        text-align: right;\n",
       "    }\n",
       "</style>\n",
       "<table border=\"1\" class=\"dataframe\">\n",
       "  <thead>\n",
       "    <tr style=\"text-align: right;\">\n",
       "      <th></th>\n",
       "      <th>article_id</th>\n",
       "      <th>title</th>\n",
       "      <th>user_id</th>\n",
       "    </tr>\n",
       "  </thead>\n",
       "  <tbody>\n",
       "    <tr>\n",
       "      <th>0</th>\n",
       "      <td>1430.0</td>\n",
       "      <td>using pixiedust for fast, flexible, and easier...</td>\n",
       "      <td>1</td>\n",
       "    </tr>\n",
       "    <tr>\n",
       "      <th>1</th>\n",
       "      <td>1314.0</td>\n",
       "      <td>healthcare python streaming application demo</td>\n",
       "      <td>2</td>\n",
       "    </tr>\n",
       "    <tr>\n",
       "      <th>2</th>\n",
       "      <td>1429.0</td>\n",
       "      <td>use deep learning for image classification</td>\n",
       "      <td>3</td>\n",
       "    </tr>\n",
       "    <tr>\n",
       "      <th>3</th>\n",
       "      <td>1338.0</td>\n",
       "      <td>ml optimization using cognitive assistant</td>\n",
       "      <td>4</td>\n",
       "    </tr>\n",
       "    <tr>\n",
       "      <th>4</th>\n",
       "      <td>1276.0</td>\n",
       "      <td>deploy your python model as a restful api</td>\n",
       "      <td>5</td>\n",
       "    </tr>\n",
       "  </tbody>\n",
       "</table>\n",
       "</div>"
      ],
      "text/plain": [
       "   article_id                                              title  user_id\n",
       "0      1430.0  using pixiedust for fast, flexible, and easier...        1\n",
       "1      1314.0       healthcare python streaming application demo        2\n",
       "2      1429.0         use deep learning for image classification        3\n",
       "3      1338.0          ml optimization using cognitive assistant        4\n",
       "4      1276.0          deploy your python model as a restful api        5"
      ]
     },
     "execution_count": 20,
     "metadata": {},
     "output_type": "execute_result"
    }
   ],
   "source": [
    "## No need to change the code here - this will be helpful for later parts of the notebook\n",
    "# Run this cell to map the user email to a user_id column and remove the email column\n",
    "\n",
    "\n",
    "def email_mapper():\n",
    "    coded_dict = dict()\n",
    "    cter = 1\n",
    "    email_encoded = []\n",
    "\n",
    "    for val in df['email']:\n",
    "        if val not in coded_dict:\n",
    "            coded_dict[val] = cter\n",
    "            cter += 1\n",
    "\n",
    "        email_encoded.append(coded_dict[val])\n",
    "    return email_encoded\n",
    "\n",
    "\n",
    "email_encoded = email_mapper()\n",
    "del df['email']\n",
    "df['user_id'] = email_encoded\n",
    "\n",
    "# show header\n",
    "df.head()"
   ]
  },
  {
   "cell_type": "code",
   "execution_count": 21,
   "metadata": {
    "ExecuteTime": {
     "end_time": "2019-03-04T07:21:40.636485Z",
     "start_time": "2019-03-04T07:21:40.632497Z"
    }
   },
   "outputs": [
    {
     "name": "stdout",
     "output_type": "stream",
     "text": [
      "It looks like you have everything right here! Nice job!\n"
     ]
    }
   ],
   "source": [
    "## If you stored all your results in the variable names above, \n",
    "## you shouldn't need to change anything in this cell\n",
    "\n",
    "sol_1_dict = {\n",
    "    '`50% of individuals have _____ or fewer interactions.`': median_val,\n",
    "    '`The total number of user-article interactions in the dataset is ______.`': user_article_interactions,\n",
    "    '`The maximum number of user-article interactions by any 1 user is ______.`': max_views_by_user,\n",
    "    '`The most viewed article in the dataset was viewed _____ times.`': max_views,\n",
    "    '`The article_id of the most viewed article is ______.`': most_viewed_article_id,\n",
    "    '`The number of unique articles that have at least 1 rating ______.`': unique_articles,\n",
    "    '`The number of unique users in the dataset is ______`': unique_users,\n",
    "    '`The number of unique articles on the IBM platform`': total_articles\n",
    "}\n",
    "\n",
    "# Test your dictionary against the solution\n",
    "t.sol_1_test(sol_1_dict)"
   ]
  },
  {
   "cell_type": "markdown",
   "metadata": {},
   "source": [
    "### <a class=\"anchor\" id=\"Rank\">Part II: Rank-Based Recommendations</a>\n",
    "\n",
    "Unlike in the earlier lessons, we don't actually have ratings for whether a user liked an article or not.  We only know that a user has interacted with an article.  In these cases, the popularity of an article can really only be based on how often an article was interacted with.\n",
    "\n",
    "`1.` Fill in the function below to return the **n** top articles ordered with most interactions as the top. Test your function using the tests below."
   ]
  },
  {
   "cell_type": "code",
   "execution_count": 22,
   "metadata": {
    "ExecuteTime": {
     "end_time": "2019-03-04T07:21:48.282509Z",
     "start_time": "2019-03-04T07:21:48.271540Z"
    }
   },
   "outputs": [
    {
     "data": {
      "text/plain": [
       "['use deep learning for image classification',\n",
       " 'insights from new york car accident reports',\n",
       " 'visualize car data with brunel']"
      ]
     },
     "execution_count": 22,
     "metadata": {},
     "output_type": "execute_result"
    }
   ],
   "source": [
    "n=3\n",
    "tt=df.article_id.value_counts().iloc[:n, ].index.tolist()\n",
    "tt\n",
    "[df[df.article_id==id].iloc[0]['title'] for id in tt]\n",
    "# df[df.article_id==id].iloc[0]['title']"
   ]
  },
  {
   "cell_type": "code",
   "execution_count": 23,
   "metadata": {
    "ExecuteTime": {
     "end_time": "2019-03-04T07:21:51.917528Z",
     "start_time": "2019-03-04T07:21:51.912541Z"
    }
   },
   "outputs": [],
   "source": [
    "def get_top_articles(n, df=df):\n",
    "    '''\n",
    "    INPUT:\n",
    "    n - (int) the number of top articles to return\n",
    "    df - (pandas dataframe) df as defined at the top of the notebook \n",
    "    \n",
    "    OUTPUT:\n",
    "    top_articles - (list) A list of the top 'n' article titles \n",
    "    \n",
    "    '''\n",
    "    # Your code here\n",
    "    top_articles = [\n",
    "        df[df.article_id == id].iloc[0]['title']\n",
    "        for id in get_top_article_ids(n, df)\n",
    "    ]\n",
    "    # Return the top article titles from df (not df_content)\n",
    "    return top_articles  \n",
    "\n",
    "\n",
    "def get_top_article_ids(n, df=df):\n",
    "    '''\n",
    "    INPUT:\n",
    "    n - (int) the number of top articles to return\n",
    "    df - (pandas dataframe) df as defined at the top of the notebook \n",
    "    \n",
    "    OUTPUT:\n",
    "    top_articles - (list) A list of the top 'n' article titles \n",
    "    \n",
    "    '''\n",
    "    # Your code here\n",
    "    top_articles = df.article_id.value_counts().iloc[:n, ].index.tolist()\n",
    "    return top_articles  # Return the top article ids"
   ]
  },
  {
   "cell_type": "code",
   "execution_count": 24,
   "metadata": {
    "ExecuteTime": {
     "end_time": "2019-03-04T07:21:53.111151Z",
     "start_time": "2019-03-04T07:21:53.095195Z"
    }
   },
   "outputs": [
    {
     "name": "stdout",
     "output_type": "stream",
     "text": [
      "['use deep learning for image classification', 'insights from new york car accident reports', 'visualize car data with brunel', 'use xgboost, scikit-learn & ibm watson machine learning apis', 'predicting churn with the spss random tree algorithm', 'healthcare python streaming application demo', 'finding optimal locations of new store using decision optimization', 'apache spark lab, part 1: basic concepts', 'analyze energy consumption in buildings', 'gosales transactions for logistic regression model']\n",
      "[1429.0, 1330.0, 1431.0, 1427.0, 1364.0, 1314.0, 1293.0, 1170.0, 1162.0, 1304.0]\n"
     ]
    }
   ],
   "source": [
    "print(get_top_articles(10))\n",
    "print(get_top_article_ids(10))"
   ]
  },
  {
   "cell_type": "code",
   "execution_count": 25,
   "metadata": {
    "ExecuteTime": {
     "end_time": "2019-03-04T07:21:54.383565Z",
     "start_time": "2019-03-04T07:21:54.319736Z"
    }
   },
   "outputs": [
    {
     "name": "stdout",
     "output_type": "stream",
     "text": [
      "Your top_5 looks like the solution list! Nice job.\n",
      "Your top_10 looks like the solution list! Nice job.\n",
      "Your top_20 looks like the solution list! Nice job.\n"
     ]
    }
   ],
   "source": [
    "# Test your function by returning the top 5, 10, and 20 articles\n",
    "top_5 = get_top_articles(5)\n",
    "top_10 = get_top_articles(10)\n",
    "top_20 = get_top_articles(20)\n",
    "\n",
    "# Test each of your three lists from above\n",
    "t.sol_2_test(get_top_articles)"
   ]
  },
  {
   "cell_type": "markdown",
   "metadata": {},
   "source": [
    "### <a class=\"anchor\" id=\"User-User\">Part III: User-User Based Collaborative Filtering</a>\n",
    "\n",
    "\n",
    "`1.` Use the function below to reformat the **df** dataframe to be shaped with users as the rows and articles as the columns.  \n",
    "\n",
    "* Each **user** should only appear in each **row** once.\n",
    "\n",
    "\n",
    "* Each **article** should only show up in one **column**.  \n",
    "\n",
    "\n",
    "* **If a user has interacted with an article, then place a 1 where the user-row meets for that article-column**.  It does not matter how many times a user has interacted with the article, all entries where a user has interacted with an article should be a 1.  \n",
    "\n",
    "\n",
    "* **If a user has not interacted with an item, then place a zero where the user-row meets for that article-column**. \n",
    "\n",
    "Use the tests to make sure the basic structure of your matrix matches what is expected by the solution."
   ]
  },
  {
   "cell_type": "code",
   "execution_count": 26,
   "metadata": {
    "ExecuteTime": {
     "end_time": "2019-03-04T07:21:59.071401Z",
     "start_time": "2019-03-04T07:21:59.067412Z"
    }
   },
   "outputs": [
    {
     "data": {
      "text/plain": [
       "['article_id', 'title', 'user_id']"
      ]
     },
     "execution_count": 26,
     "metadata": {},
     "output_type": "execute_result"
    }
   ],
   "source": [
    "list(df)"
   ]
  },
  {
   "cell_type": "code",
   "execution_count": 27,
   "metadata": {
    "ExecuteTime": {
     "end_time": "2019-03-04T07:22:00.690676Z",
     "start_time": "2019-03-04T07:22:00.686659Z"
    }
   },
   "outputs": [
    {
     "data": {
      "text/plain": [
       "[1, 0, 0, 1, 1, 0]"
      ]
     },
     "execution_count": 27,
     "metadata": {},
     "output_type": "execute_result"
    }
   ],
   "source": [
    "# Create an aggregate function to take 1 or 0\n",
    "one_func = lambda x: 1 if sum(x)>0 else 0\n",
    "# Test\n",
    "[one_func(x) for x in ([0, 1, 0], [0,0,0], [0], [4, 2], [1], [np.nan, np.nan])]"
   ]
  },
  {
   "cell_type": "code",
   "execution_count": null,
   "metadata": {
    "ExecuteTime": {
     "end_time": "2019-02-28T12:52:39.607361Z",
     "start_time": "2019-02-28T12:52:39.330141Z"
    },
    "scrolled": true
   },
   "outputs": [],
   "source": [
    "# pd.pivot_table(\n",
    "#     df,\n",
    "#     values='title',\n",
    "#     index=['user_id'],\n",
    "#     columns=['article_id'],\n",
    "#     aggfunc=lambda x: 1 if len(x)>0 else 0).fillna(0).astype(int)"
   ]
  },
  {
   "cell_type": "code",
   "execution_count": 8,
   "metadata": {
    "ExecuteTime": {
     "end_time": "2019-03-04T10:35:24.300525Z",
     "start_time": "2019-03-04T10:35:23.800863Z"
    }
   },
   "outputs": [
    {
     "ename": "KeyError",
     "evalue": "'user_id'",
     "output_type": "error",
     "traceback": [
      "\u001b[1;31m---------------------------------------------------------------------------\u001b[0m",
      "\u001b[1;31mKeyError\u001b[0m                                  Traceback (most recent call last)",
      "\u001b[1;32m<ipython-input-8-09a7fa046c4c>\u001b[0m in \u001b[0;36m<module>\u001b[1;34m\u001b[0m\n\u001b[0;32m     24\u001b[0m \u001b[1;33m\u001b[0m\u001b[0m\n\u001b[0;32m     25\u001b[0m \u001b[1;33m\u001b[0m\u001b[0m\n\u001b[1;32m---> 26\u001b[1;33m \u001b[0muser_item\u001b[0m \u001b[1;33m=\u001b[0m \u001b[0mcreate_user_item_matrix\u001b[0m\u001b[1;33m(\u001b[0m\u001b[0mdf\u001b[0m\u001b[1;33m)\u001b[0m\u001b[1;33m\u001b[0m\u001b[1;33m\u001b[0m\u001b[0m\n\u001b[0m",
      "\u001b[1;32m<ipython-input-8-09a7fa046c4c>\u001b[0m in \u001b[0;36mcreate_user_item_matrix\u001b[1;34m(df)\u001b[0m\n\u001b[0;32m     20\u001b[0m         \u001b[0mindex\u001b[0m\u001b[1;33m=\u001b[0m\u001b[1;33m[\u001b[0m\u001b[1;34m'user_id'\u001b[0m\u001b[1;33m]\u001b[0m\u001b[1;33m,\u001b[0m\u001b[1;33m\u001b[0m\u001b[1;33m\u001b[0m\u001b[0m\n\u001b[0;32m     21\u001b[0m         \u001b[0mcolumns\u001b[0m\u001b[1;33m=\u001b[0m\u001b[1;33m[\u001b[0m\u001b[1;34m'article_id'\u001b[0m\u001b[1;33m]\u001b[0m\u001b[1;33m,\u001b[0m\u001b[1;33m\u001b[0m\u001b[1;33m\u001b[0m\u001b[0m\n\u001b[1;32m---> 22\u001b[1;33m         aggfunc=lambda x: 1 if len(x) > 0 else 0).fillna(0).astype(int)\n\u001b[0m\u001b[0;32m     23\u001b[0m     \u001b[1;32mreturn\u001b[0m \u001b[0muser_item\u001b[0m\u001b[1;31m#.values  # return the user_item matrix\u001b[0m\u001b[1;33m\u001b[0m\u001b[1;33m\u001b[0m\u001b[0m\n\u001b[0;32m     24\u001b[0m \u001b[1;33m\u001b[0m\u001b[0m\n",
      "\u001b[1;32mC:\\ProgramData\\Anaconda3\\lib\\site-packages\\pandas\\core\\reshape\\pivot.py\u001b[0m in \u001b[0;36mpivot_table\u001b[1;34m(data, values, index, columns, aggfunc, fill_value, margins, dropna, margins_name)\u001b[0m\n\u001b[0;32m     79\u001b[0m         \u001b[0mvalues\u001b[0m \u001b[1;33m=\u001b[0m \u001b[0mlist\u001b[0m\u001b[1;33m(\u001b[0m\u001b[0mvalues\u001b[0m\u001b[1;33m)\u001b[0m\u001b[1;33m\u001b[0m\u001b[1;33m\u001b[0m\u001b[0m\n\u001b[0;32m     80\u001b[0m \u001b[1;33m\u001b[0m\u001b[0m\n\u001b[1;32m---> 81\u001b[1;33m     \u001b[0mgrouped\u001b[0m \u001b[1;33m=\u001b[0m \u001b[0mdata\u001b[0m\u001b[1;33m.\u001b[0m\u001b[0mgroupby\u001b[0m\u001b[1;33m(\u001b[0m\u001b[0mkeys\u001b[0m\u001b[1;33m,\u001b[0m \u001b[0mobserved\u001b[0m\u001b[1;33m=\u001b[0m\u001b[1;32mFalse\u001b[0m\u001b[1;33m)\u001b[0m\u001b[1;33m\u001b[0m\u001b[1;33m\u001b[0m\u001b[0m\n\u001b[0m\u001b[0;32m     82\u001b[0m     \u001b[0magged\u001b[0m \u001b[1;33m=\u001b[0m \u001b[0mgrouped\u001b[0m\u001b[1;33m.\u001b[0m\u001b[0magg\u001b[0m\u001b[1;33m(\u001b[0m\u001b[0maggfunc\u001b[0m\u001b[1;33m)\u001b[0m\u001b[1;33m\u001b[0m\u001b[1;33m\u001b[0m\u001b[0m\n\u001b[0;32m     83\u001b[0m     \u001b[1;32mif\u001b[0m \u001b[0mdropna\u001b[0m \u001b[1;32mand\u001b[0m \u001b[0misinstance\u001b[0m\u001b[1;33m(\u001b[0m\u001b[0magged\u001b[0m\u001b[1;33m,\u001b[0m \u001b[0mABCDataFrame\u001b[0m\u001b[1;33m)\u001b[0m \u001b[1;32mand\u001b[0m \u001b[0mlen\u001b[0m\u001b[1;33m(\u001b[0m\u001b[0magged\u001b[0m\u001b[1;33m.\u001b[0m\u001b[0mcolumns\u001b[0m\u001b[1;33m)\u001b[0m\u001b[1;33m:\u001b[0m\u001b[1;33m\u001b[0m\u001b[1;33m\u001b[0m\u001b[0m\n",
      "\u001b[1;32mC:\\ProgramData\\Anaconda3\\lib\\site-packages\\pandas\\core\\generic.py\u001b[0m in \u001b[0;36mgroupby\u001b[1;34m(self, by, axis, level, as_index, sort, group_keys, squeeze, observed, **kwargs)\u001b[0m\n\u001b[0;32m   7630\u001b[0m         return groupby(self, by=by, axis=axis, level=level, as_index=as_index,\n\u001b[0;32m   7631\u001b[0m                        \u001b[0msort\u001b[0m\u001b[1;33m=\u001b[0m\u001b[0msort\u001b[0m\u001b[1;33m,\u001b[0m \u001b[0mgroup_keys\u001b[0m\u001b[1;33m=\u001b[0m\u001b[0mgroup_keys\u001b[0m\u001b[1;33m,\u001b[0m \u001b[0msqueeze\u001b[0m\u001b[1;33m=\u001b[0m\u001b[0msqueeze\u001b[0m\u001b[1;33m,\u001b[0m\u001b[1;33m\u001b[0m\u001b[1;33m\u001b[0m\u001b[0m\n\u001b[1;32m-> 7632\u001b[1;33m                        observed=observed, **kwargs)\n\u001b[0m\u001b[0;32m   7633\u001b[0m \u001b[1;33m\u001b[0m\u001b[0m\n\u001b[0;32m   7634\u001b[0m     def asfreq(self, freq, method=None, how=None, normalize=False,\n",
      "\u001b[1;32mC:\\ProgramData\\Anaconda3\\lib\\site-packages\\pandas\\core\\groupby\\groupby.py\u001b[0m in \u001b[0;36mgroupby\u001b[1;34m(obj, by, **kwds)\u001b[0m\n\u001b[0;32m   2108\u001b[0m         \u001b[1;32mraise\u001b[0m \u001b[0mTypeError\u001b[0m\u001b[1;33m(\u001b[0m\u001b[1;34m'invalid type: {}'\u001b[0m\u001b[1;33m.\u001b[0m\u001b[0mformat\u001b[0m\u001b[1;33m(\u001b[0m\u001b[0mobj\u001b[0m\u001b[1;33m)\u001b[0m\u001b[1;33m)\u001b[0m\u001b[1;33m\u001b[0m\u001b[1;33m\u001b[0m\u001b[0m\n\u001b[0;32m   2109\u001b[0m \u001b[1;33m\u001b[0m\u001b[0m\n\u001b[1;32m-> 2110\u001b[1;33m     \u001b[1;32mreturn\u001b[0m \u001b[0mklass\u001b[0m\u001b[1;33m(\u001b[0m\u001b[0mobj\u001b[0m\u001b[1;33m,\u001b[0m \u001b[0mby\u001b[0m\u001b[1;33m,\u001b[0m \u001b[1;33m**\u001b[0m\u001b[0mkwds\u001b[0m\u001b[1;33m)\u001b[0m\u001b[1;33m\u001b[0m\u001b[1;33m\u001b[0m\u001b[0m\n\u001b[0m",
      "\u001b[1;32mC:\\ProgramData\\Anaconda3\\lib\\site-packages\\pandas\\core\\groupby\\groupby.py\u001b[0m in \u001b[0;36m__init__\u001b[1;34m(self, obj, keys, axis, level, grouper, exclusions, selection, as_index, sort, group_keys, squeeze, observed, **kwargs)\u001b[0m\n\u001b[0;32m    358\u001b[0m                                                     \u001b[0msort\u001b[0m\u001b[1;33m=\u001b[0m\u001b[0msort\u001b[0m\u001b[1;33m,\u001b[0m\u001b[1;33m\u001b[0m\u001b[1;33m\u001b[0m\u001b[0m\n\u001b[0;32m    359\u001b[0m                                                     \u001b[0mobserved\u001b[0m\u001b[1;33m=\u001b[0m\u001b[0mobserved\u001b[0m\u001b[1;33m,\u001b[0m\u001b[1;33m\u001b[0m\u001b[1;33m\u001b[0m\u001b[0m\n\u001b[1;32m--> 360\u001b[1;33m                                                     mutated=self.mutated)\n\u001b[0m\u001b[0;32m    361\u001b[0m \u001b[1;33m\u001b[0m\u001b[0m\n\u001b[0;32m    362\u001b[0m         \u001b[0mself\u001b[0m\u001b[1;33m.\u001b[0m\u001b[0mobj\u001b[0m \u001b[1;33m=\u001b[0m \u001b[0mobj\u001b[0m\u001b[1;33m\u001b[0m\u001b[1;33m\u001b[0m\u001b[0m\n",
      "\u001b[1;32mC:\\ProgramData\\Anaconda3\\lib\\site-packages\\pandas\\core\\groupby\\grouper.py\u001b[0m in \u001b[0;36m_get_grouper\u001b[1;34m(obj, key, axis, level, sort, observed, mutated, validate)\u001b[0m\n\u001b[0;32m    576\u001b[0m                 \u001b[0min_axis\u001b[0m\u001b[1;33m,\u001b[0m \u001b[0mname\u001b[0m\u001b[1;33m,\u001b[0m \u001b[0mlevel\u001b[0m\u001b[1;33m,\u001b[0m \u001b[0mgpr\u001b[0m \u001b[1;33m=\u001b[0m \u001b[1;32mFalse\u001b[0m\u001b[1;33m,\u001b[0m \u001b[1;32mNone\u001b[0m\u001b[1;33m,\u001b[0m \u001b[0mgpr\u001b[0m\u001b[1;33m,\u001b[0m \u001b[1;32mNone\u001b[0m\u001b[1;33m\u001b[0m\u001b[1;33m\u001b[0m\u001b[0m\n\u001b[0;32m    577\u001b[0m             \u001b[1;32melse\u001b[0m\u001b[1;33m:\u001b[0m\u001b[1;33m\u001b[0m\u001b[1;33m\u001b[0m\u001b[0m\n\u001b[1;32m--> 578\u001b[1;33m                 \u001b[1;32mraise\u001b[0m \u001b[0mKeyError\u001b[0m\u001b[1;33m(\u001b[0m\u001b[0mgpr\u001b[0m\u001b[1;33m)\u001b[0m\u001b[1;33m\u001b[0m\u001b[1;33m\u001b[0m\u001b[0m\n\u001b[0m\u001b[0;32m    579\u001b[0m         \u001b[1;32melif\u001b[0m \u001b[0misinstance\u001b[0m\u001b[1;33m(\u001b[0m\u001b[0mgpr\u001b[0m\u001b[1;33m,\u001b[0m \u001b[0mGrouper\u001b[0m\u001b[1;33m)\u001b[0m \u001b[1;32mand\u001b[0m \u001b[0mgpr\u001b[0m\u001b[1;33m.\u001b[0m\u001b[0mkey\u001b[0m \u001b[1;32mis\u001b[0m \u001b[1;32mnot\u001b[0m \u001b[1;32mNone\u001b[0m\u001b[1;33m:\u001b[0m\u001b[1;33m\u001b[0m\u001b[1;33m\u001b[0m\u001b[0m\n\u001b[0;32m    580\u001b[0m             \u001b[1;31m# Add key to exclusions\u001b[0m\u001b[1;33m\u001b[0m\u001b[1;33m\u001b[0m\u001b[1;33m\u001b[0m\u001b[0m\n",
      "\u001b[1;31mKeyError\u001b[0m: 'user_id'"
     ]
    }
   ],
   "source": [
    "# create the user-article matrix with 1's and 0's\n",
    "\n",
    "\n",
    "def create_user_item_matrix(df):\n",
    "    '''\n",
    "    INPUT:\n",
    "    df - pandas dataframe with article_id, title, user_id columns\n",
    "    \n",
    "    OUTPUT:\n",
    "    user_item - user item matrix \n",
    "    \n",
    "    Description:\n",
    "    Return a matrix with user ids as rows and article ids on the columns with 1 values where a user interacted with \n",
    "    an article and a 0 otherwise\n",
    "    '''\n",
    "    # Fill in the function here\n",
    "    user_item = pd.pivot_table(\n",
    "        df,\n",
    "        values='title',\n",
    "        index=['user_id'],\n",
    "        columns=['article_id'],\n",
    "        aggfunc=lambda x: 1 if len(x) > 0 else 0).fillna(0).astype(int)\n",
    "    return user_item#.values  # return the user_item matrix\n",
    "\n",
    "\n",
    "user_item = create_user_item_matrix(df)"
   ]
  },
  {
   "cell_type": "code",
   "execution_count": 29,
   "metadata": {
    "ExecuteTime": {
     "end_time": "2019-03-04T07:22:26.058733Z",
     "start_time": "2019-03-04T07:22:26.029811Z"
    }
   },
   "outputs": [
    {
     "name": "stdout",
     "output_type": "stream",
     "text": [
      "You have passed our quick tests!  Please proceed!\n"
     ]
    }
   ],
   "source": [
    "## Tests: You should just need to run this cell.  Don't change the code.\n",
    "assert user_item.shape[0] == 5149, \"Oops!  The number of users in the user-article matrix doesn't look right.\"\n",
    "assert user_item.shape[1] == 714, \"Oops!  The number of articles in the user-article matrix doesn't look right.\"\n",
    "assert user_item.sum(axis=1)[1] == 36, \"Oops!  The number of articles seen by user 1 doesn't look right.\"\n",
    "print(\"You have passed our quick tests!  Please proceed!\")"
   ]
  },
  {
   "cell_type": "markdown",
   "metadata": {},
   "source": [
    "`2.` Complete the function below which should take a user_id and provide an ordered list of the most similar users to that user (from most similar to least similar).  The returned result should not contain the provided user_id, as we know that each user is similar to him/herself. Because the results for each user here are binary, it (perhaps) makes sense to compute similarity as the dot product of two users. \n",
    "\n",
    "Use the tests to test your function."
   ]
  },
  {
   "cell_type": "code",
   "execution_count": 55,
   "metadata": {
    "ExecuteTime": {
     "end_time": "2019-03-04T07:29:38.226017Z",
     "start_time": "2019-03-04T07:29:38.223025Z"
    }
   },
   "outputs": [],
   "source": [
    "# # tx=np.dot(user_item, user_item.loc[1])\n",
    "# tx=user_item.dot(user_item.loc[1])\n",
    "# # tx.sort()\n",
    "# tx=tx.sort_values(ascending=False)\n",
    "# tx.index.tolist()[:5]"
   ]
  },
  {
   "cell_type": "code",
   "execution_count": 31,
   "metadata": {
    "ExecuteTime": {
     "end_time": "2019-03-04T07:22:41.784833Z",
     "start_time": "2019-03-04T07:22:41.778847Z"
    }
   },
   "outputs": [],
   "source": [
    "def find_similar_users(user_id, user_item=user_item):\n",
    "    '''\n",
    "    INPUT:\n",
    "    user_id - (int) a user_id\n",
    "    user_item - (pandas dataframe) matrix of users by articles: \n",
    "                1's when a user has interacted with an article, 0 otherwise\n",
    "    \n",
    "    OUTPUT:\n",
    "    similar_users - (list) an ordered list where the closest users \n",
    "                    (largest dot product users)\n",
    "                    are listed first\n",
    "    \n",
    "    Description:\n",
    "    Computes the similarity of every pair of users based on the dot product\n",
    "    Returns an ordered\n",
    "    \n",
    "    '''\n",
    "    # compute similarity of each user to the provided user\n",
    "    #similarity = np.dot(user_item, user_item.loc[user_id])\n",
    "    similarity = user_item.dot(user_item.loc[user_id])\n",
    "    # sort by similarity\n",
    "    similarity = similarity.sort_values(ascending=False)\n",
    "    # create list of just the ids\n",
    "    most_similar_users = similarity.index.tolist()\n",
    "    # remove the own user's id\n",
    "    most_similar_users.remove(user_id)\n",
    "\n",
    "    # return a list of the users in order from most to least similar\n",
    "    return most_similar_users"
   ]
  },
  {
   "cell_type": "code",
   "execution_count": 32,
   "metadata": {
    "ExecuteTime": {
     "end_time": "2019-03-04T07:22:42.699301Z",
     "start_time": "2019-03-04T07:22:42.661985Z"
    }
   },
   "outputs": [
    {
     "name": "stdout",
     "output_type": "stream",
     "text": [
      "The 10 most similar users to user 1 are: [3933, 23, 3782, 203, 4459, 131, 3870, 46, 4201, 5041]\n",
      "The 5 most similar users to user 3933 are: [1, 23, 3782, 4459, 203]\n",
      "The 3 most similar users to user 46 are: [4201, 23, 3782]\n"
     ]
    }
   ],
   "source": [
    "# Do a spot check of your function\n",
    "print(\"The 10 most similar users to user 1 are: {}\".format(find_similar_users(1)[:10]))\n",
    "print(\"The 5 most similar users to user 3933 are: {}\".format(find_similar_users(3933)[:5]))\n",
    "print(\"The 3 most similar users to user 46 are: {}\".format(find_similar_users(46)[:3]))"
   ]
  },
  {
   "cell_type": "markdown",
   "metadata": {},
   "source": [
    "`3.` Now that you have a function that provides the most similar users to each user, you will want to use these users to find articles you can recommend.  Complete the functions below to return the articles you would recommend to each user. "
   ]
  },
  {
   "cell_type": "code",
   "execution_count": 33,
   "metadata": {
    "ExecuteTime": {
     "end_time": "2019-03-04T07:22:49.093097Z",
     "start_time": "2019-03-04T07:22:49.082124Z"
    }
   },
   "outputs": [
    {
     "data": {
      "text/plain": [
       "['this week in data science (april 18, 2017)',\n",
       " 'analyze ny restaurant data using spark in dsx',\n",
       " 'data science bowl 2017',\n",
       " '3992    using apache spark to predict attack vectors a...\\nName: title, dtype: object',\n",
       " 'timeseries data analysis of iot events by using jupyter notebook']"
      ]
     },
     "execution_count": 33,
     "metadata": {},
     "output_type": "execute_result"
    }
   ],
   "source": [
    "# Trials\n",
    "articles_ids = [2.0, 4.0, 8.0, 9.0, 12.0]\n",
    "[df[df.article_id == id].iloc[0]['title'] for id in articles_ids]"
   ]
  },
  {
   "cell_type": "code",
   "execution_count": null,
   "metadata": {
    "ExecuteTime": {
     "end_time": "2019-02-28T14:14:19.712572Z",
     "start_time": "2019-02-28T14:14:19.709581Z"
    },
    "scrolled": true
   },
   "outputs": [],
   "source": [
    "# user_id=1\n",
    "# # df[df.user_id==user_id]['article_id'].unique()\n",
    "# s=user_item.loc[user_id]\n",
    "# s.where(s==1).dropna().index.tolist()"
   ]
  },
  {
   "cell_type": "code",
   "execution_count": null,
   "metadata": {
    "ExecuteTime": {
     "end_time": "2019-02-28T15:03:58.793521Z",
     "start_time": "2019-02-28T15:03:58.755596Z"
    }
   },
   "outputs": [],
   "source": [
    "# user_id=1\n",
    "# collected = []\n",
    "# # I will call the similar users 'friends'\n",
    "# friends = find_similar_users(user_id)\n",
    "# # The target user's items\n",
    "# user_items = get_user_articles(user_id)[0]\n",
    "# display(user_id, friends[:10], user_items[:10])"
   ]
  },
  {
   "cell_type": "code",
   "execution_count": null,
   "metadata": {
    "ExecuteTime": {
     "end_time": "2019-02-28T15:16:40.719155Z",
     "start_time": "2019-02-28T15:16:40.715140Z"
    }
   },
   "outputs": [],
   "source": [
    "# m=10\n",
    "# # friend = 0\n",
    "# col_num = len(collected)\n",
    "# friend_items = get_user_articles(friends[friend])[0]\n",
    "# selected = [x for x in friend_items if x not in user_items]\n",
    "# lsel, lcol = len(selected), len(collected)\n",
    "# diff = lsel + lcol - m\n",
    "# if diff > 0:\n",
    "#     # select random items counted as diff\n",
    "#     selected = np.random.choice(selected, diff, \n",
    "#                                 replace=False).tolist()\n",
    "#     print('her')\n",
    "# if lsel >0:\n",
    "#     collected.extend(selected)\n",
    "# friend += 1\n",
    "# friend, friends[friend], selected, lsel, lcol"
   ]
  },
  {
   "cell_type": "code",
   "execution_count": null,
   "metadata": {
    "ExecuteTime": {
     "end_time": "2019-02-28T14:24:30.418672Z",
     "start_time": "2019-02-28T14:24:30.413684Z"
    }
   },
   "outputs": [],
   "source": [
    "df.article_id.dtype==float\n",
    "articles_ids=['1024.0', '1176.0', '1305.0', '1314.0', '1422.0', '1427.0']\n",
    "type(articles_ids[0])==str"
   ]
  },
  {
   "cell_type": "code",
   "execution_count": 34,
   "metadata": {
    "ExecuteTime": {
     "end_time": "2019-03-04T07:23:39.454462Z",
     "start_time": "2019-03-04T07:23:39.448478Z"
    },
    "code_folding": []
   },
   "outputs": [
    {
     "name": "stdout",
     "output_type": "stream",
     "text": [
      "[[1024, 1305, 1314, 1427], [1024.0, 1305.0, 1314.0, 1427.0], ['1024.0', '1305.0', '1314.0', '1427.0']]\n",
      "[[1040, 2015, 1236], [1040.0, 2015.0, 1236.0], ['1040', '2015', '1236']]\n",
      "[[1050, 7015, 1896], [1050.0, 7015.0, 1896.0], ['1050.0', '7015.0', '1896.0']]\n"
     ]
    }
   ],
   "source": [
    "def correct_ids_datatype(ids, desired_datatype=int):\n",
    "    '''\n",
    "    A function to make the datatype of gived ids == the dataframe's datatype\n",
    "    in:>\n",
    "        ids: a list or iterable\n",
    "        desired_datatype: the desired datatype (int, str, float)\n",
    "    out:>\n",
    "        a list of items with same datatype as desired\n",
    "    \n",
    "    '''\n",
    "    if desired_datatype==int:\n",
    "        return [int(float(x)) for x in ids]\n",
    "    elif desired_datatype==float:\n",
    "        return [float(x) for x in ids]\n",
    "    elif desired_datatype==str:\n",
    "        return [str(x) for x in ids]\n",
    "    else:\n",
    "        print('The desired datatype can only be int, float, or str')\n",
    "        raise\n",
    "# tests\n",
    "ids=['1024.0', '1305.0', '1314.0',  '1427.0']\n",
    "print([correct_ids_datatype(ids, dtyp) for dtyp in [int, float, str]])\n",
    "ids=[1040, 2015, 1236]\n",
    "print([correct_ids_datatype(ids, dtyp) for dtyp in [int, float, str]])\n",
    "ids=[1050.0, 7015.0, 1896.0]\n",
    "print([correct_ids_datatype(ids, dtyp) for dtyp in [int, float, str]])"
   ]
  },
  {
   "cell_type": "code",
   "execution_count": 35,
   "metadata": {
    "ExecuteTime": {
     "end_time": "2019-03-04T07:23:45.332419Z",
     "start_time": "2019-03-04T07:23:45.327432Z"
    },
    "code_folding": []
   },
   "outputs": [],
   "source": [
    "def get_article_names(article_ids, df=df):\n",
    "    '''\n",
    "    INPUT:\n",
    "    article_ids - (list) a list of article ids\n",
    "    df - (pandas dataframe) df as defined at the top of the notebook\n",
    "    \n",
    "    OUTPUT:\n",
    "    article_names - (list) a list of article names associated \n",
    "                            with the list of article ids \n",
    "                    (this is identified by the title column)\n",
    "    '''\n",
    "    # Your code here\n",
    "    # check teh given index if it is string, float, or int:\n",
    "    given_data_type = type(article_ids[0])\n",
    "    dataframe_datatype = df.article_id.dtype\n",
    "    if given_data_type != dataframe_datatype:\n",
    "        articles_ids2 = correct_ids_datatype(article_ids, dataframe_datatype)\n",
    "    else:\n",
    "        articles_ids2=article_ids\n",
    "        \n",
    "    article_names = [\n",
    "        df[df.article_id == id1].iloc[0]['title'] for id1 in articles_ids2\n",
    "    ]\n",
    "    return article_names  # Return the article names associated with list of article ids"
   ]
  },
  {
   "cell_type": "code",
   "execution_count": 36,
   "metadata": {
    "ExecuteTime": {
     "end_time": "2019-03-04T07:23:51.275147Z",
     "start_time": "2019-03-04T07:23:51.270160Z"
    },
    "code_folding": []
   },
   "outputs": [],
   "source": [
    "def get_user_articles(user_id, user_item=user_item):\n",
    "    '''\n",
    "    INPUT:\n",
    "    user_id - (int) a user id\n",
    "    user_item - (pandas dataframe) matrix of users by articles: \n",
    "                1's when a user has interacted with an article, 0 otherwise\n",
    "    \n",
    "    OUTPUT:\n",
    "    article_ids - (list) a list of the article ids seen by the user\n",
    "    article_names - (list) \n",
    "       a list of article names associated with the list of article ids \n",
    "       (this is identified by the doc_full_name column in df_content)\n",
    "    \n",
    "    Description:\n",
    "    Provides a list of the article_ids and article titles \n",
    "                that have been seen by a user\n",
    "    '''\n",
    "    # Your code here\n",
    "    # articles_ids = df[df.user_id==user_id]['article_id'].unique()\n",
    "    s = user_item.loc[user_id]\n",
    "    article_ids = s.where(s == 1).dropna().index.tolist()\n",
    "    article_names = get_article_names(article_ids)\n",
    "    return article_ids, article_names  # return the ids and names"
   ]
  },
  {
   "cell_type": "code",
   "execution_count": 39,
   "metadata": {
    "ExecuteTime": {
     "end_time": "2019-03-04T07:24:40.796876Z",
     "start_time": "2019-03-04T07:24:40.788898Z"
    },
    "code_folding": []
   },
   "outputs": [],
   "source": [
    "def user_user_recs(user_id, m=10):\n",
    "    '''\n",
    "    INPUT:\n",
    "    user_id - (int) a user id\n",
    "    m - (int) the number of recommendations you want for the user\n",
    "    \n",
    "    OUTPUT:\n",
    "    recs - (list) a list of recommendations for the user\n",
    "    \n",
    "    Description:\n",
    "    Loops through the users based on closeness to the input user_id\n",
    "    For each user - finds articles the user hasn't seen before \n",
    "    and provides them as recs\n",
    "    Does this until m recommendations are found\n",
    "    \n",
    "    Notes:\n",
    "    Users who are the same closeness are chosen arbitrarily as the 'next' user\n",
    "    \n",
    "    For the user where the number of recommended articles starts below m \n",
    "    and ends exceeding m, the last items are chosen arbitrarily\n",
    "    \n",
    "    '''\n",
    "    # Your code here\n",
    "    collected = []\n",
    "    # I will call the similar users 'friends'\n",
    "    friends = find_similar_users(user_id)\n",
    "    # The target user's items\n",
    "    user_items = get_user_articles(user_id)[0]\n",
    "    friend = 0\n",
    "\n",
    "    while len(collected) < m:\n",
    "        col_num = len(collected)\n",
    "        friend_items = get_user_articles(friends[friend])[0]\n",
    "        selected = [x for x in friend_items if x not in user_items]\n",
    "        lsel, lcol = len(selected), len(collected)\n",
    "        diff = lsel + lcol - m\n",
    "        if diff > 0:\n",
    "            # select random items counted as diff\n",
    "            selected = np.random.choice(selected, diff, \n",
    "                                        replace=False).tolist()\n",
    "\n",
    "        if lsel >0:\n",
    "            collected.extend(selected)\n",
    "        friend += 1\n",
    "    recs = collected[:m]\n",
    "    return recs  # return your recommendations for this user_id"
   ]
  },
  {
   "cell_type": "code",
   "execution_count": 40,
   "metadata": {
    "ExecuteTime": {
     "end_time": "2019-03-04T07:24:42.112313Z",
     "start_time": "2019-03-04T07:24:42.104334Z"
    }
   },
   "outputs": [
    {
     "data": {
      "text/plain": [
       "[232.0, 844.0, 1320.0]"
      ]
     },
     "execution_count": 40,
     "metadata": {},
     "output_type": "execute_result"
    }
   ],
   "source": [
    "get_user_articles(20)[0]"
   ]
  },
  {
   "cell_type": "code",
   "execution_count": 41,
   "metadata": {
    "ExecuteTime": {
     "end_time": "2019-03-04T07:24:43.169027Z",
     "start_time": "2019-03-04T07:24:43.167003Z"
    },
    "code_folding": []
   },
   "outputs": [],
   "source": [
    "# user_user_recs(1, 10)"
   ]
  },
  {
   "cell_type": "code",
   "execution_count": 42,
   "metadata": {
    "ExecuteTime": {
     "end_time": "2019-03-04T07:24:45.121292Z",
     "start_time": "2019-03-04T07:24:44.962717Z"
    },
    "code_folding": []
   },
   "outputs": [
    {
     "data": {
      "text/plain": [
       "['502    forgetting the past to learn the future: long ...\\nName: title, dtype: object',\n",
       " 'maximize oil company profits',\n",
       " 'healthcare python streaming application demo',\n",
       " 'car performance data',\n",
       " 'analyze open data sets with pandas dataframes',\n",
       " 'brunel interactive visualizations in jupyter notebooks',\n",
       " 'this week in data science (april 25, 2017)',\n",
       " 'using deep learning with keras to predict customer churn',\n",
       " 'pixieapp for outlier detection',\n",
       " 'easy json loading and social sharing in dsx notebooks']"
      ]
     },
     "execution_count": 42,
     "metadata": {},
     "output_type": "execute_result"
    }
   ],
   "source": [
    "# Check Results\n",
    "get_article_names(user_user_recs(1, 10)) # Return 10 recommendations for user 1"
   ]
  },
  {
   "cell_type": "code",
   "execution_count": 43,
   "metadata": {
    "ExecuteTime": {
     "end_time": "2019-03-04T07:24:48.740610Z",
     "start_time": "2019-03-04T07:24:48.712160Z"
    }
   },
   "outputs": [
    {
     "name": "stdout",
     "output_type": "stream",
     "text": [
      "If this is all you see, you passed all of our tests!  Nice job!\n"
     ]
    }
   ],
   "source": [
    "# Test your functions here - No need to change this code - just run this cell\n",
    "assert set(get_article_names(['1024.0', '1176.0', '1305.0', '1314.0', '1422.0', '1427.0'])) == set(['using deep learning to reconstruct high-resolution audio', 'build a python app on the streaming analytics service', 'gosales transactions for naive bayes model', 'healthcare python streaming application demo', 'use r dataframes & ibm watson natural language understanding', 'use xgboost, scikit-learn & ibm watson machine learning apis']), \"Oops! Your the get_article_names function doesn't work quite how we expect.\"\n",
    "assert set(get_article_names(['1320.0', '232.0', '844.0'])) == set(['housing (2015): united states demographic measures','self-service data preparation with ibm data refinery','use the cloudant-spark connector in python notebook']), \"Oops! Your the get_article_names function doesn't work quite how we expect.\"\n",
    "assert set(map(str, get_user_articles(20)[0])) == set(['1320.0', '232.0', '844.0'])\n",
    "assert set(get_user_articles(20)[1]) == set(['housing (2015): united states demographic measures', 'self-service data preparation with ibm data refinery','use the cloudant-spark connector in python notebook'])\n",
    "assert set((map(str, get_user_articles(2)[0]))) == set(['1024.0', '1176.0', '1305.0', '1314.0', '1422.0', '1427.0'])\n",
    "assert set(get_user_articles(2)[1]) == set(['using deep learning to reconstruct high-resolution audio', \n",
    "                                            'build a python app on the streaming analytics service', \n",
    "                                            'gosales transactions for naive bayes model', \n",
    "                                            'healthcare python streaming application demo', \n",
    "                                            'use r dataframes & ibm watson natural language understanding', \n",
    "                                            'use xgboost, scikit-learn & ibm watson machine learning apis'])\n",
    "print(\"If this is all you see, you passed all of our tests!  Nice job!\")"
   ]
  },
  {
   "cell_type": "markdown",
   "metadata": {},
   "source": [
    "`4.` Now we are going to improve the consistency of the **user_user_recs** function from above.  \n",
    "\n",
    "* Instead of arbitrarily choosing when we obtain users who are all the same closeness to a given user - choose the users that have the most total article interactions before choosing those with fewer article interactions.\n",
    "\n",
    "\n",
    "* Instead of arbitrarily choosing articles from the user where the number of recommended articles starts below m and ends exceeding m, choose articles with the articles with the most total interactions before choosing those with fewer total interactions. This ranking should be  what would be obtained from the **top_articles** function you wrote earlier."
   ]
  },
  {
   "cell_type": "code",
   "execution_count": 45,
   "metadata": {
    "ExecuteTime": {
     "end_time": "2019-03-04T07:25:13.537246Z",
     "start_time": "2019-03-04T07:25:13.534253Z"
    },
    "scrolled": true
   },
   "outputs": [],
   "source": [
    "# user_id=5\n",
    "# friend_similarity = user_item.dot(user_item.loc[user_id]).sort_values(ascending=False)#[1:]\n",
    "# friend_activity = df.groupby('user_id')['article_id'].count()\n",
    "# # remove the current user\n",
    "# # ,columns=['similarity', 'activity']\n",
    "# test=pd.concat([friend_similarity, friend_activity], axis=1)\n",
    "# test.columns=['similarity', 'activity']\n",
    "# test.index.names = ['neighbor_id']\n",
    "# test=test[test.index!=user_id]\n",
    "# test = test.sort_values(by=['similarity', 'activity'],ascending=False)\n",
    "# test = test.reset_index()\n",
    "# test"
   ]
  },
  {
   "cell_type": "code",
   "execution_count": 46,
   "metadata": {
    "ExecuteTime": {
     "end_time": "2019-03-04T07:25:15.844951Z",
     "start_time": "2019-03-04T07:25:15.819431Z"
    }
   },
   "outputs": [
    {
     "data": {
      "text/html": [
       "<div>\n",
       "<style scoped>\n",
       "    .dataframe tbody tr th:only-of-type {\n",
       "        vertical-align: middle;\n",
       "    }\n",
       "\n",
       "    .dataframe tbody tr th {\n",
       "        vertical-align: top;\n",
       "    }\n",
       "\n",
       "    .dataframe thead th {\n",
       "        text-align: right;\n",
       "    }\n",
       "</style>\n",
       "<table border=\"1\" class=\"dataframe\">\n",
       "  <thead>\n",
       "    <tr style=\"text-align: right;\">\n",
       "      <th></th>\n",
       "      <th>neighbor_id</th>\n",
       "      <th>similarity</th>\n",
       "      <th>activity</th>\n",
       "    </tr>\n",
       "  </thead>\n",
       "  <tbody>\n",
       "    <tr>\n",
       "      <th>0</th>\n",
       "      <td>3933</td>\n",
       "      <td>35</td>\n",
       "      <td>45</td>\n",
       "    </tr>\n",
       "    <tr>\n",
       "      <th>1</th>\n",
       "      <td>23</td>\n",
       "      <td>17</td>\n",
       "      <td>364</td>\n",
       "    </tr>\n",
       "    <tr>\n",
       "      <th>2</th>\n",
       "      <td>3782</td>\n",
       "      <td>17</td>\n",
       "      <td>363</td>\n",
       "    </tr>\n",
       "    <tr>\n",
       "      <th>3</th>\n",
       "      <td>203</td>\n",
       "      <td>15</td>\n",
       "      <td>160</td>\n",
       "    </tr>\n",
       "    <tr>\n",
       "      <th>4</th>\n",
       "      <td>4459</td>\n",
       "      <td>15</td>\n",
       "      <td>158</td>\n",
       "    </tr>\n",
       "  </tbody>\n",
       "</table>\n",
       "</div>"
      ],
      "text/plain": [
       "   neighbor_id  similarity  activity\n",
       "0         3933          35        45\n",
       "1           23          17       364\n",
       "2         3782          17       363\n",
       "3          203          15       160\n",
       "4         4459          15       158"
      ]
     },
     "execution_count": 46,
     "metadata": {},
     "output_type": "execute_result"
    }
   ],
   "source": [
    "def get_top_sorted_users(user_id, df=df, user_item=user_item):\n",
    "    '''\n",
    "    INPUT:\n",
    "    user_id - (int)\n",
    "    df - (pandas dataframe) df as defined at the top of the notebook \n",
    "    user_item - (pandas dataframe) matrix of users by articles: \n",
    "            1's when a user has interacted with an article, 0 otherwise\n",
    "    \n",
    "            \n",
    "    OUTPUT:\n",
    "    neighbors_df - (pandas dataframe) a dataframe with:\n",
    "                    neighbor_id - is a neighbor user_id\n",
    "                    similarity - measure of the similarity of \n",
    "                    each user to the provided user_id\n",
    "                    num_interactions - the number of articles \n",
    "                    viewed by the user - if a u\n",
    "                    \n",
    "    Other Details - sort the neighbors_df by the similarity and \n",
    "                    then by number of interactions where \n",
    "                    highest of each is higher in the dataframe\n",
    "     \n",
    "    '''\n",
    "    # Your code here\n",
    "    friend_similarity = user_item.dot(user_item.loc[user_id]).sort_values(ascending=False)#[1:]\n",
    "    friend_activity = df.groupby('user_id')['article_id'].count()\n",
    "    # remove the current user\n",
    "    # ,columns=['similarity', 'activity']\n",
    "    neighbors_df=pd.concat([friend_similarity, friend_activity], axis=1)\n",
    "    neighbors_df.columns=['similarity', 'activity']\n",
    "    neighbors_df.index.names = ['neighbor_id']\n",
    "    neighbors_df=neighbors_df[neighbors_df.index!=user_id]\n",
    "    neighbors_df = neighbors_df.sort_values(by=['similarity', 'activity'],ascending=False)\n",
    "    neighbors_df = neighbors_df.reset_index()\n",
    "\n",
    "    return neighbors_df  # Return the dataframe specified in the doc_string\n",
    "\n",
    "#Test\n",
    "get_top_sorted_users(1).head()"
   ]
  },
  {
   "cell_type": "code",
   "execution_count": 47,
   "metadata": {
    "ExecuteTime": {
     "end_time": "2019-03-04T07:25:21.373370Z",
     "start_time": "2019-03-04T07:25:21.362400Z"
    },
    "scrolled": true
   },
   "outputs": [
    {
     "data": {
      "text/plain": [
       "[1429.0, 1162.0, 1052.0, 1346.0, 984.0]"
      ]
     },
     "execution_count": 47,
     "metadata": {},
     "output_type": "execute_result"
    }
   ],
   "source": [
    "article_id = 12.0\n",
    "article_interaction = df.groupby('article_id')['user_id'].count().to_frame(\n",
    "    name='interaction').sort_values(\n",
    "        by='interaction', ascending=False).reset_index()\n",
    "article_interaction\n",
    "selected =[1429, 1162.0, 1346.0, 984.0, 1790, 1052.0]\n",
    "article_interaction[article_interaction.article_id.isin(selected)].article_id.tolist()"
   ]
  },
  {
   "cell_type": "code",
   "execution_count": 48,
   "metadata": {
    "ExecuteTime": {
     "end_time": "2019-03-04T07:25:23.819175Z",
     "start_time": "2019-03-04T07:25:23.806207Z"
    }
   },
   "outputs": [
    {
     "data": {
      "text/plain": [
       "[1429.0, 1162.0, 1052.0, 1346.0, 984.0]"
      ]
     },
     "execution_count": 48,
     "metadata": {},
     "output_type": "execute_result"
    }
   ],
   "source": [
    "def get_top_sorted_articles(selected, df=df):\n",
    "    '''\n",
    "    INPUT:\n",
    "    selected - list of article ids\n",
    "    df - (pandas dataframe) df as defined at the top of the notebook \n",
    "             \n",
    "    OUTPUT:\n",
    "    sorted_articles - (list) a sorted list of articles based on \n",
    "                            their attraction\n",
    "                    \n",
    "    Other Details - get a sorted list of articles based on their attraction\n",
    "     \n",
    "    '''\n",
    "    # Your code here\n",
    "    article_interaction = df.groupby('article_id')['user_id'].count().to_frame(\n",
    "        name='interaction').sort_values(\n",
    "            by='interaction', ascending=False).reset_index()\n",
    "    article_interaction\n",
    "    #     selected =[1429, 1162.0, 1346.0, 984.0, 1790, 1052.0]\n",
    "    sorted_articles = article_interaction[article_interaction.article_id.isin(\n",
    "        selected)].article_id.tolist()\n",
    "\n",
    "    return sorted_articles  # Return the dataframe specified in the doc_string\n",
    "\n",
    "\n",
    "#Test\n",
    "selected =[1429, 1162.0, 1346.0, 984.0, 1790, 1052.0]\n",
    "get_top_sorted_articles(selected)"
   ]
  },
  {
   "cell_type": "code",
   "execution_count": null,
   "metadata": {
    "ExecuteTime": {
     "end_time": "2019-02-28T16:41:08.859057Z",
     "start_time": "2019-02-28T16:41:08.797224Z"
    },
    "code_folding": []
   },
   "outputs": [],
   "source": [
    "# m=10\n",
    "# user_id=333\n",
    "# collected = []\n",
    "# # I will call the similar users 'friends'\n",
    "# friends = get_top_sorted_users(user_id)['neighbor_id'].tolist()\n",
    "# # The target user's items\n",
    "# user_items = get_user_articles(user_id)[0]\n",
    "# friend = 0\n",
    "# while len(collected) < m:\n",
    "# #     print(collected)\n",
    "#     col_num = len(collected)\n",
    "#     friend_items = get_user_articles(friends[friend])[0]\n",
    "#     selected = [x for x in friend_items if x not in user_items]\n",
    "#     lsel, lcol = len(selected), len(collected)\n",
    "#     diff = lsel + lcol - m\n",
    "#     if diff > 0:\n",
    "#         # select random items counted as diff\n",
    "#         selected = get_top_sorted_articles(selected)\n",
    "\n",
    "#     if lsel >0:\n",
    "#         collected.extend(selected)\n",
    "#     friend += 1\n",
    "# recs = collected[:m]\n",
    "# recs  # return your recommendations for this user_id"
   ]
  },
  {
   "cell_type": "code",
   "execution_count": 49,
   "metadata": {
    "ExecuteTime": {
     "end_time": "2019-03-04T07:25:30.282092Z",
     "start_time": "2019-03-04T07:25:30.276107Z"
    }
   },
   "outputs": [],
   "source": [
    "def user_user_recs_part2(user_id, m=10):\n",
    "    '''\n",
    "    INPUT:\n",
    "    user_id - (int) a user id\n",
    "    m - (int) the number of recommendations you want for the user\n",
    "    \n",
    "    OUTPUT:\n",
    "    recs - (list) a list of recommendations for the user by article id\n",
    "    rec_names - (list) a list of recommendations for the user by article title\n",
    "    \n",
    "    Description:\n",
    "    Loops through the users based on closeness to the input user_id\n",
    "    For each user - finds articles the user hasn't seen before and provides them as recs\n",
    "    Does this until m recommendations are found\n",
    "    \n",
    "    Notes:\n",
    "    * Choose the users that have the most total article interactions \n",
    "    before choosing those with fewer article interactions.\n",
    "\n",
    "    * Choose articles with the articles with the most total interactions \n",
    "    before choosing those with fewer total interactions. \n",
    "   \n",
    "    '''\n",
    "    # Your code here\n",
    "    collected = []\n",
    "    # I will call the similar users 'friends'\n",
    "    friends = get_top_sorted_users(user_id)['neighbor_id'].tolist()\n",
    "    # The target user's items\n",
    "    user_items = get_user_articles(user_id)[0]\n",
    "    friend = 0\n",
    "    while len(collected) < m:\n",
    "    #     print(collected)\n",
    "        col_num = len(collected)\n",
    "        friend_items = get_user_articles(friends[friend])[0]\n",
    "        selected = [x for x in friend_items if x not in user_items]\n",
    "        lsel, lcol = len(selected), len(collected)\n",
    "        diff = lsel + lcol - m\n",
    "        if diff > 0:\n",
    "            # select random items counted as diff\n",
    "            selected = get_top_sorted_articles(selected)\n",
    "\n",
    "        if lsel >0:\n",
    "            collected.extend(selected)\n",
    "        friend += 1\n",
    "    recs = collected[:m]\n",
    "    rec_names = get_article_names(recs)\n",
    "    return recs, rec_names"
   ]
  },
  {
   "cell_type": "code",
   "execution_count": 50,
   "metadata": {
    "ExecuteTime": {
     "end_time": "2019-03-04T07:25:32.285492Z",
     "start_time": "2019-03-04T07:25:32.195730Z"
    }
   },
   "outputs": [
    {
     "name": "stdout",
     "output_type": "stream",
     "text": [
      "The top 10 recommendations for user 20 are the following article ids:\n",
      "[1330.0, 1427.0, 1364.0, 1170.0, 1162.0, 1304.0, 1351.0, 1160.0, 1354.0, 1368.0]\n",
      "\n",
      "The top 10 recommendations for user 20 are the following article names:\n",
      "['insights from new york car accident reports', 'use xgboost, scikit-learn & ibm watson machine learning apis', 'predicting churn with the spss random tree algorithm', 'apache spark lab, part 1: basic concepts', 'analyze energy consumption in buildings', 'gosales transactions for logistic regression model', 'model bike sharing data with spss', 'analyze accident reports on amazon emr spark', 'movie recommender system with spark machine learning', 'putting a human face on machine learning']\n"
     ]
    }
   ],
   "source": [
    "# Quick spot check - don't change this code - just use it to test your functions\n",
    "rec_ids, rec_names = user_user_recs_part2(20, 10)\n",
    "print(\"The top 10 recommendations for user 20 are the following article ids:\")\n",
    "print(rec_ids)\n",
    "print()\n",
    "print(\"The top 10 recommendations for user 20 are the following article names:\")\n",
    "print(rec_names)"
   ]
  },
  {
   "cell_type": "markdown",
   "metadata": {},
   "source": [
    "`5.` Use your functions from above to correctly fill in the solutions to the dictionary below.  Then test your dictionary against the solution.  Provide the code you need to answer each following the comments below."
   ]
  },
  {
   "cell_type": "code",
   "execution_count": 51,
   "metadata": {
    "ExecuteTime": {
     "end_time": "2019-03-04T07:25:34.828539Z",
     "start_time": "2019-03-04T07:25:34.805560Z"
    }
   },
   "outputs": [
    {
     "data": {
      "text/plain": [
       "242"
      ]
     },
     "execution_count": 51,
     "metadata": {},
     "output_type": "execute_result"
    }
   ],
   "source": [
    "get_top_sorted_users(131).loc[9]['neighbor_id']    "
   ]
  },
  {
   "cell_type": "code",
   "execution_count": 52,
   "metadata": {
    "ExecuteTime": {
     "end_time": "2019-03-04T07:25:38.880652Z",
     "start_time": "2019-03-04T07:25:38.837766Z"
    }
   },
   "outputs": [],
   "source": [
    "### Tests with a dictionary of results\n",
    "\n",
    "user1_most_sim = get_top_sorted_users(1).loc[0]['neighbor_id']# Find the user that is most similar to user 1 \n",
    "user131_10th_sim = get_top_sorted_users(131).loc[9]['neighbor_id']    # Find the 10th most similar user to user 131"
   ]
  },
  {
   "cell_type": "code",
   "execution_count": 56,
   "metadata": {
    "ExecuteTime": {
     "end_time": "2019-03-04T07:30:15.127776Z",
     "start_time": "2019-03-04T07:30:15.122790Z"
    }
   },
   "outputs": [
    {
     "name": "stdout",
     "output_type": "stream",
     "text": [
      "This all looks good!  Nice job!\n"
     ]
    }
   ],
   "source": [
    "## Dictionary Test Here\n",
    "sol_5_dict = {\n",
    "    'The user that is most similar to user 1.': user1_most_sim, \n",
    "    'The user that is the 10th most similar to user 131': user131_10th_sim,\n",
    "}\n",
    "\n",
    "t.sol_5_test(sol_5_dict)"
   ]
  },
  {
   "cell_type": "markdown",
   "metadata": {},
   "source": [
    "`6.` If we were given a new user, which of the above functions would you be able to use to make recommendations?  Explain.  Can you think of a better way we might make recommendations?  Use the cell below to explain a better method for new users."
   ]
  },
  {
   "cell_type": "markdown",
   "metadata": {},
   "source": [
    "**Provide your response here.**\n",
    "\n",
    "**My Response** For a new user, none of the *\"near\"* above functions would be suitable to get recommendations. because all of the above functions depend on user's similarity, which is not known for a new user. \n",
    "\n",
    "***A better approach*** to suggest the top articles that are used by other users (the articles with top interactions) This is performed by the very early function `get_top_article_ids` which seems to get a very good start for any *normal* user."
   ]
  },
  {
   "cell_type": "markdown",
   "metadata": {},
   "source": [
    "`7.` Using your existing functions, provide the top 10 recommended articles you would provide for the a new user below.  You can test your function against our thoughts to make sure we are all on the same page with how we might make a recommendation."
   ]
  },
  {
   "cell_type": "code",
   "execution_count": 58,
   "metadata": {
    "ExecuteTime": {
     "end_time": "2019-03-04T07:31:03.250141Z",
     "start_time": "2019-03-04T07:31:03.245155Z"
    }
   },
   "outputs": [],
   "source": [
    "new_user = '0.0'\n",
    "\n",
    "# What would your recommendations be for this new user '0.0'?  As a new user,\n",
    "# they have no observed articles.\n",
    "# Provide a list of the top 10 article ids you would give to \n",
    "new_user_recs = get_top_article_ids(10) # Your recommendations here"
   ]
  },
  {
   "cell_type": "code",
   "execution_count": 59,
   "metadata": {
    "ExecuteTime": {
     "end_time": "2019-03-04T07:31:04.500314Z",
     "start_time": "2019-03-04T07:31:04.495752Z"
    }
   },
   "outputs": [
    {
     "name": "stdout",
     "output_type": "stream",
     "text": [
      "That's right!  Nice job!\n"
     ]
    }
   ],
   "source": [
    "assert set(map(str, new_user_recs)) == set(['1314.0','1429.0','1293.0','1427.0','1162.0','1364.0','1304.0','1170.0','1431.0','1330.0']), \"Oops!  It makes sense that in this case we would want to recommend the most popular articles, because we don't know anything about these users.\"\n",
    "\n",
    "print(\"That's right!  Nice job!\")"
   ]
  },
  {
   "cell_type": "markdown",
   "metadata": {},
   "source": [
    "### <a class=\"anchor\" id=\"Content-Recs\">Part IV: Content Based Recommendations (EXTRA - NOT REQUIRED)</a>\n",
    "\n",
    "Another method we might use to make recommendations is to perform a ranking of the highest ranked articles associated with some term.  You might consider content to be the **doc_body**, **doc_description**, or **doc_full_name**.  There isn't one way to create a content based recommendation, especially considering that each of these columns hold content related information.  \n",
    "\n",
    "`1.` Use the function body below to create a content based recommender.  Since there isn't one right answer for this recommendation tactic, no test functions are provided.  Feel free to change the function inputs if you decide you want to try a method that requires more input values.  The input values are currently set with one idea in mind that you may use to make content based recommendations.  One additional idea is that you might want to choose the most popular recommendations that meet your 'content criteria', but again, there is a lot of flexibility in how you might make these recommendations.\n",
    "\n",
    "### This part is NOT REQUIRED to pass this project.  However, you may choose to take this on as an extra way to show off your skills."
   ]
  },
  {
   "cell_type": "code",
   "execution_count": null,
   "metadata": {},
   "outputs": [],
   "source": [
    "def make_content_recs():\n",
    "    '''\n",
    "    INPUT:\n",
    "    \n",
    "    OUTPUT:\n",
    "    \n",
    "    '''"
   ]
  },
  {
   "cell_type": "markdown",
   "metadata": {},
   "source": [
    "`2.` Now that you have put together your content-based recommendation system, use the cell below to write a summary explaining how your content based recommender works.  Do you see any possible improvements that could be made to your function?  Is there anything novel about your content based recommender?\n",
    "\n",
    "### This part is NOT REQUIRED to pass this project.  However, you may choose to take this on as an extra way to show off your skills."
   ]
  },
  {
   "cell_type": "markdown",
   "metadata": {},
   "source": [
    "**Write an explanation of your content based recommendation system here.**"
   ]
  },
  {
   "cell_type": "markdown",
   "metadata": {},
   "source": [
    "`3.` Use your content-recommendation system to make recommendations for the below scenarios based on the comments.  Again no tests are provided here, because there isn't one right answer that could be used to find these content based recommendations.\n",
    "\n",
    "### This part is NOT REQUIRED to pass this project.  However, you may choose to take this on as an extra way to show off your skills."
   ]
  },
  {
   "cell_type": "code",
   "execution_count": null,
   "metadata": {},
   "outputs": [],
   "source": [
    "# make recommendations for a brand new user\n",
    "\n",
    "\n",
    "# make a recommendations for a user who only has interacted with article id '1427.0'\n",
    "\n"
   ]
  },
  {
   "cell_type": "markdown",
   "metadata": {},
   "source": [
    "### <a class=\"anchor\" id=\"Matrix-Fact\">Part V: Matrix Factorization</a>\n",
    "\n",
    "In this part of the notebook, you will build use matrix factorization to make article recommendations to the users on the IBM Watson Studio platform.\n",
    "\n",
    "`1.` You should have already created a **user_item** matrix above in **question 1** of **Part III** above.  This first question here will just require that you run the cells to get things set up for the rest of **Part V** of the notebook. "
   ]
  },
  {
   "cell_type": "code",
   "execution_count": 3,
   "metadata": {
    "ExecuteTime": {
     "end_time": "2019-03-04T10:33:07.912417Z",
     "start_time": "2019-03-04T10:33:07.891473Z"
    }
   },
   "outputs": [],
   "source": [
    "# Load the matrix here\n",
    "user_item_matrix = pd.read_pickle('user_item_matrix.p')"
   ]
  },
  {
   "cell_type": "code",
   "execution_count": 4,
   "metadata": {
    "ExecuteTime": {
     "end_time": "2019-03-04T10:33:09.822306Z",
     "start_time": "2019-03-04T10:33:09.804356Z"
    }
   },
   "outputs": [
    {
     "data": {
      "text/html": [
       "<div>\n",
       "<style scoped>\n",
       "    .dataframe tbody tr th:only-of-type {\n",
       "        vertical-align: middle;\n",
       "    }\n",
       "\n",
       "    .dataframe tbody tr th {\n",
       "        vertical-align: top;\n",
       "    }\n",
       "\n",
       "    .dataframe thead th {\n",
       "        text-align: right;\n",
       "    }\n",
       "</style>\n",
       "<table border=\"1\" class=\"dataframe\">\n",
       "  <thead>\n",
       "    <tr style=\"text-align: right;\">\n",
       "      <th>article_id</th>\n",
       "      <th>0.0</th>\n",
       "      <th>100.0</th>\n",
       "      <th>1000.0</th>\n",
       "      <th>1004.0</th>\n",
       "      <th>1006.0</th>\n",
       "      <th>1008.0</th>\n",
       "      <th>101.0</th>\n",
       "      <th>1014.0</th>\n",
       "      <th>1015.0</th>\n",
       "      <th>1016.0</th>\n",
       "      <th>...</th>\n",
       "      <th>977.0</th>\n",
       "      <th>98.0</th>\n",
       "      <th>981.0</th>\n",
       "      <th>984.0</th>\n",
       "      <th>985.0</th>\n",
       "      <th>986.0</th>\n",
       "      <th>990.0</th>\n",
       "      <th>993.0</th>\n",
       "      <th>996.0</th>\n",
       "      <th>997.0</th>\n",
       "    </tr>\n",
       "    <tr>\n",
       "      <th>user_id</th>\n",
       "      <th></th>\n",
       "      <th></th>\n",
       "      <th></th>\n",
       "      <th></th>\n",
       "      <th></th>\n",
       "      <th></th>\n",
       "      <th></th>\n",
       "      <th></th>\n",
       "      <th></th>\n",
       "      <th></th>\n",
       "      <th></th>\n",
       "      <th></th>\n",
       "      <th></th>\n",
       "      <th></th>\n",
       "      <th></th>\n",
       "      <th></th>\n",
       "      <th></th>\n",
       "      <th></th>\n",
       "      <th></th>\n",
       "      <th></th>\n",
       "      <th></th>\n",
       "    </tr>\n",
       "  </thead>\n",
       "  <tbody>\n",
       "    <tr>\n",
       "      <th>1</th>\n",
       "      <td>0.0</td>\n",
       "      <td>0.0</td>\n",
       "      <td>0.0</td>\n",
       "      <td>0.0</td>\n",
       "      <td>0.0</td>\n",
       "      <td>0.0</td>\n",
       "      <td>0.0</td>\n",
       "      <td>0.0</td>\n",
       "      <td>0.0</td>\n",
       "      <td>0.0</td>\n",
       "      <td>...</td>\n",
       "      <td>0.0</td>\n",
       "      <td>0.0</td>\n",
       "      <td>1.0</td>\n",
       "      <td>0.0</td>\n",
       "      <td>0.0</td>\n",
       "      <td>0.0</td>\n",
       "      <td>0.0</td>\n",
       "      <td>0.0</td>\n",
       "      <td>0.0</td>\n",
       "      <td>0.0</td>\n",
       "    </tr>\n",
       "    <tr>\n",
       "      <th>2</th>\n",
       "      <td>0.0</td>\n",
       "      <td>0.0</td>\n",
       "      <td>0.0</td>\n",
       "      <td>0.0</td>\n",
       "      <td>0.0</td>\n",
       "      <td>0.0</td>\n",
       "      <td>0.0</td>\n",
       "      <td>0.0</td>\n",
       "      <td>0.0</td>\n",
       "      <td>0.0</td>\n",
       "      <td>...</td>\n",
       "      <td>0.0</td>\n",
       "      <td>0.0</td>\n",
       "      <td>0.0</td>\n",
       "      <td>0.0</td>\n",
       "      <td>0.0</td>\n",
       "      <td>0.0</td>\n",
       "      <td>0.0</td>\n",
       "      <td>0.0</td>\n",
       "      <td>0.0</td>\n",
       "      <td>0.0</td>\n",
       "    </tr>\n",
       "    <tr>\n",
       "      <th>3</th>\n",
       "      <td>0.0</td>\n",
       "      <td>0.0</td>\n",
       "      <td>0.0</td>\n",
       "      <td>0.0</td>\n",
       "      <td>0.0</td>\n",
       "      <td>0.0</td>\n",
       "      <td>0.0</td>\n",
       "      <td>0.0</td>\n",
       "      <td>0.0</td>\n",
       "      <td>0.0</td>\n",
       "      <td>...</td>\n",
       "      <td>1.0</td>\n",
       "      <td>0.0</td>\n",
       "      <td>0.0</td>\n",
       "      <td>0.0</td>\n",
       "      <td>0.0</td>\n",
       "      <td>0.0</td>\n",
       "      <td>0.0</td>\n",
       "      <td>0.0</td>\n",
       "      <td>0.0</td>\n",
       "      <td>0.0</td>\n",
       "    </tr>\n",
       "    <tr>\n",
       "      <th>4</th>\n",
       "      <td>0.0</td>\n",
       "      <td>0.0</td>\n",
       "      <td>0.0</td>\n",
       "      <td>0.0</td>\n",
       "      <td>0.0</td>\n",
       "      <td>0.0</td>\n",
       "      <td>0.0</td>\n",
       "      <td>0.0</td>\n",
       "      <td>0.0</td>\n",
       "      <td>0.0</td>\n",
       "      <td>...</td>\n",
       "      <td>0.0</td>\n",
       "      <td>0.0</td>\n",
       "      <td>0.0</td>\n",
       "      <td>0.0</td>\n",
       "      <td>0.0</td>\n",
       "      <td>0.0</td>\n",
       "      <td>0.0</td>\n",
       "      <td>0.0</td>\n",
       "      <td>0.0</td>\n",
       "      <td>0.0</td>\n",
       "    </tr>\n",
       "    <tr>\n",
       "      <th>5</th>\n",
       "      <td>0.0</td>\n",
       "      <td>0.0</td>\n",
       "      <td>0.0</td>\n",
       "      <td>0.0</td>\n",
       "      <td>0.0</td>\n",
       "      <td>0.0</td>\n",
       "      <td>0.0</td>\n",
       "      <td>0.0</td>\n",
       "      <td>0.0</td>\n",
       "      <td>0.0</td>\n",
       "      <td>...</td>\n",
       "      <td>0.0</td>\n",
       "      <td>0.0</td>\n",
       "      <td>0.0</td>\n",
       "      <td>0.0</td>\n",
       "      <td>0.0</td>\n",
       "      <td>0.0</td>\n",
       "      <td>0.0</td>\n",
       "      <td>0.0</td>\n",
       "      <td>0.0</td>\n",
       "      <td>0.0</td>\n",
       "    </tr>\n",
       "  </tbody>\n",
       "</table>\n",
       "<p>5 rows × 714 columns</p>\n",
       "</div>"
      ],
      "text/plain": [
       "article_id  0.0  100.0  1000.0  1004.0  1006.0  1008.0  101.0  1014.0  1015.0  \\\n",
       "user_id                                                                         \n",
       "1           0.0    0.0     0.0     0.0     0.0     0.0    0.0     0.0     0.0   \n",
       "2           0.0    0.0     0.0     0.0     0.0     0.0    0.0     0.0     0.0   \n",
       "3           0.0    0.0     0.0     0.0     0.0     0.0    0.0     0.0     0.0   \n",
       "4           0.0    0.0     0.0     0.0     0.0     0.0    0.0     0.0     0.0   \n",
       "5           0.0    0.0     0.0     0.0     0.0     0.0    0.0     0.0     0.0   \n",
       "\n",
       "article_id  1016.0  ...  977.0  98.0  981.0  984.0  985.0  986.0  990.0  \\\n",
       "user_id             ...                                                   \n",
       "1              0.0  ...    0.0   0.0    1.0    0.0    0.0    0.0    0.0   \n",
       "2              0.0  ...    0.0   0.0    0.0    0.0    0.0    0.0    0.0   \n",
       "3              0.0  ...    1.0   0.0    0.0    0.0    0.0    0.0    0.0   \n",
       "4              0.0  ...    0.0   0.0    0.0    0.0    0.0    0.0    0.0   \n",
       "5              0.0  ...    0.0   0.0    0.0    0.0    0.0    0.0    0.0   \n",
       "\n",
       "article_id  993.0  996.0  997.0  \n",
       "user_id                          \n",
       "1             0.0    0.0    0.0  \n",
       "2             0.0    0.0    0.0  \n",
       "3             0.0    0.0    0.0  \n",
       "4             0.0    0.0    0.0  \n",
       "5             0.0    0.0    0.0  \n",
       "\n",
       "[5 rows x 714 columns]"
      ]
     },
     "execution_count": 4,
     "metadata": {},
     "output_type": "execute_result"
    }
   ],
   "source": [
    "# quick look at the matrix\n",
    "user_item_matrix.head()"
   ]
  },
  {
   "cell_type": "markdown",
   "metadata": {},
   "source": [
    "`2.` In this situation, you can use Singular Value Decomposition from [numpy](https://docs.scipy.org/doc/numpy-1.14.0/reference/generated/numpy.linalg.svd.html) on the user-item matrix.  Use the cell to perform SVD, and explain why this is different than in the lesson."
   ]
  },
  {
   "cell_type": "code",
   "execution_count": 5,
   "metadata": {
    "ExecuteTime": {
     "end_time": "2019-03-04T10:33:13.540360Z",
     "start_time": "2019-03-04T10:33:12.556991Z"
    }
   },
   "outputs": [
    {
     "data": {
      "text/plain": [
       "['Matrix u shape is: (5149, 5149)',\n",
       " 'Matrix s shape is: (714,)',\n",
       " 'Matrix vt shape is: (714, 714)']"
      ]
     },
     "execution_count": 5,
     "metadata": {},
     "output_type": "execute_result"
    }
   ],
   "source": [
    "# Perform SVD on the User-Item Matrix Here\n",
    "\n",
    "# use the built in to get the three matrices\n",
    "u, s, vt = np.linalg.svd(user_item_matrix)#, full_matrices=False)\n",
    "[f'Matrix {mtrx_l} shape is: {mtrx.shape}' for mtrx_l, mtrx in zip(('u', 's', 'vt'),(u, s, vt))]"
   ]
  },
  {
   "cell_type": "markdown",
   "metadata": {},
   "source": [
    "**Provide your response here.**\n",
    "***\n",
    "***My response***\n",
    "* The `U` matrix is a square matrix contains all the users in the dataset in rows and number of latent features in columns.\n",
    "* The `Vt` matrix is a square matrix contains the number of articles in columns, and equal latent features in rows.\n",
    "* The `s` matrix is a vector contains the diagonal of a square matrix of latent features in rows and columns.\n",
    "\n",
    "In the movie-user dataset, we have the SVD contains ratings of each user to each movie, hence we had some movies that were unrated by some users; hence we had some missing values (NaNs) that we imputed them by Func method to be able to slove the matrices.\n",
    "\n",
    "In this case, we have each user either interacted with an article `(1)` or not `(0)`. Thus we have no NaNs here, and we can apply SVD without Func method."
   ]
  },
  {
   "cell_type": "markdown",
   "metadata": {},
   "source": [
    "`3.` Now for the tricky part, how do we choose the number of latent features to use?  Running the below cell, you can see that as the number of latent features increases, we obtain a lower error rate on making predictions for the 1 and 0 values in the user-item matrix.  Run the cell below to get an idea of how the accuracy improves as we increase the number of latent features."
   ]
  },
  {
   "cell_type": "code",
   "execution_count": 6,
   "metadata": {
    "ExecuteTime": {
     "end_time": "2019-03-04T10:33:23.233427Z",
     "start_time": "2019-03-04T10:33:19.392703Z"
    }
   },
   "outputs": [
    {
     "data": {
      "image/png": "[encoded data removed]",
      "text/plain": [
       "<Figure size 432x288 with 1 Axes>"
      ]
     },
     "metadata": {
      "needs_background": "light"
     },
     "output_type": "display_data"
    }
   ],
   "source": [
    "num_latent_feats = np.arange(10,700+10,20)\n",
    "sum_errs = []\n",
    "\n",
    "for k in num_latent_feats:\n",
    "    # restructure with k latent features\n",
    "    s_new, u_new, vt_new = np.diag(s[:k]), u[:, :k], vt[:k, :]\n",
    "    \n",
    "    # take dot product\n",
    "    user_item_est = np.around(np.dot(np.dot(u_new, s_new), vt_new))\n",
    "    \n",
    "    # compute error for each prediction to actual value\n",
    "    diffs = np.subtract(user_item_matrix, user_item_est)\n",
    "    \n",
    "    # total errors and keep track of them\n",
    "    err = np.sum(np.sum(np.abs(diffs)))\n",
    "    sum_errs.append(err)\n",
    "    \n",
    "    \n",
    "plt.plot(num_latent_feats, 1 - np.array(sum_errs)/df.shape[0]);\n",
    "plt.xlabel('Number of Latent Features');\n",
    "plt.ylabel('Accuracy');\n",
    "plt.title('Accuracy vs. Number of Latent Features');"
   ]
  },
  {
   "cell_type": "markdown",
   "metadata": {},
   "source": [
    "`4.` From the above, we can't really be sure how many features to use, because simply having a better way to predict the 1's and 0's of the matrix doesn't exactly give us an indication of if we are able to make good recommendations.  Instead, we might split our dataset into a training and test set of data, as shown in the cell below.  \n",
    "\n",
    "Use the code from question 3 to understand the impact on accuracy of the training and test sets of data with different numbers of latent features. Using the split below: \n",
    "\n",
    "* How many users can we make predictions for in the test set?  \n",
    "* How many users are we not able to make predictions for because of the cold start problem?\n",
    "* How many articles can we make predictions for in the test set?  \n",
    "* How many articles are we not able to make predictions for because of the cold start problem?"
   ]
  },
  {
   "cell_type": "code",
   "execution_count": 7,
   "metadata": {
    "ExecuteTime": {
     "end_time": "2019-03-04T10:34:41.919912Z",
     "start_time": "2019-03-04T10:34:41.915921Z"
    }
   },
   "outputs": [],
   "source": [
    "df_train = df.head(40000)\n",
    "df_test = df.tail(5993)"
   ]
  },
  {
   "cell_type": "code",
   "execution_count": 9,
   "metadata": {
    "ExecuteTime": {
     "end_time": "2019-03-04T10:35:57.539599Z",
     "start_time": "2019-03-04T10:35:57.518655Z"
    }
   },
   "outputs": [
    {
     "ename": "KeyError",
     "evalue": "'user_id'",
     "output_type": "error",
     "traceback": [
      "\u001b[1;31m---------------------------------------------------------------------------\u001b[0m",
      "\u001b[1;31mKeyError\u001b[0m                                  Traceback (most recent call last)",
      "\u001b[1;32m<ipython-input-9-66803e98dc97>\u001b[0m in \u001b[0;36m<module>\u001b[1;34m\u001b[0m\n\u001b[0;32m     23\u001b[0m \u001b[1;33m\u001b[0m\u001b[0m\n\u001b[0;32m     24\u001b[0m \u001b[0muser_item_train\u001b[0m\u001b[1;33m,\u001b[0m \u001b[0muser_item_test\u001b[0m\u001b[1;33m,\u001b[0m \u001b[0mtest_idx\u001b[0m\u001b[1;33m,\u001b[0m \u001b[0mtest_arts\u001b[0m \u001b[1;33m=\u001b[0m\u001b[0;31m \u001b[0m\u001b[0;31m\\\u001b[0m\u001b[1;33m\u001b[0m\u001b[1;33m\u001b[0m\u001b[0m\n\u001b[1;32m---> 25\u001b[1;33m \u001b[0mcreate_test_and_train_user_item\u001b[0m\u001b[1;33m(\u001b[0m\u001b[0mdf_train\u001b[0m\u001b[1;33m,\u001b[0m \u001b[0mdf_test\u001b[0m\u001b[1;33m)\u001b[0m\u001b[1;33m\u001b[0m\u001b[1;33m\u001b[0m\u001b[0m\n\u001b[0m\u001b[0;32m     26\u001b[0m \u001b[1;33m[\u001b[0m\u001b[0mj\u001b[0m\u001b[1;33m.\u001b[0m\u001b[0mshape\u001b[0m \u001b[1;32mfor\u001b[0m \u001b[0mj\u001b[0m \u001b[1;32min\u001b[0m \u001b[1;33m(\u001b[0m\u001b[0muser_item_train\u001b[0m\u001b[1;33m,\u001b[0m \u001b[0muser_item_test\u001b[0m\u001b[1;33m,\u001b[0m \u001b[0mtest_idx\u001b[0m\u001b[1;33m,\u001b[0m \u001b[0mtest_arts\u001b[0m\u001b[1;33m)\u001b[0m\u001b[1;33m]\u001b[0m\u001b[1;33m\u001b[0m\u001b[1;33m\u001b[0m\u001b[0m\n",
      "\u001b[1;32m<ipython-input-9-66803e98dc97>\u001b[0m in \u001b[0;36mcreate_test_and_train_user_item\u001b[1;34m(df_train, df_test)\u001b[0m\n\u001b[0;32m     15\u001b[0m     '''\n\u001b[0;32m     16\u001b[0m     \u001b[1;31m# Your code here\u001b[0m\u001b[1;33m\u001b[0m\u001b[1;33m\u001b[0m\u001b[1;33m\u001b[0m\u001b[0m\n\u001b[1;32m---> 17\u001b[1;33m     \u001b[0muser_item_train\u001b[0m \u001b[1;33m=\u001b[0m \u001b[0mcreate_user_item_matrix\u001b[0m\u001b[1;33m(\u001b[0m\u001b[0mdf_train\u001b[0m\u001b[1;33m)\u001b[0m\u001b[1;33m\u001b[0m\u001b[1;33m\u001b[0m\u001b[0m\n\u001b[0m\u001b[0;32m     18\u001b[0m     \u001b[0muser_item_test\u001b[0m \u001b[1;33m=\u001b[0m \u001b[0mcreate_user_item_matrix\u001b[0m\u001b[1;33m(\u001b[0m\u001b[0mdf_test\u001b[0m\u001b[1;33m)\u001b[0m\u001b[1;33m\u001b[0m\u001b[1;33m\u001b[0m\u001b[0m\n\u001b[0;32m     19\u001b[0m     \u001b[0mtest_idx\u001b[0m \u001b[1;33m=\u001b[0m \u001b[0muser_item_test\u001b[0m\u001b[1;33m.\u001b[0m\u001b[0mindex\u001b[0m  \u001b[1;31m#.unique()  #.tolist()\u001b[0m\u001b[1;33m\u001b[0m\u001b[1;33m\u001b[0m\u001b[0m\n",
      "\u001b[1;32m<ipython-input-8-09a7fa046c4c>\u001b[0m in \u001b[0;36mcreate_user_item_matrix\u001b[1;34m(df)\u001b[0m\n\u001b[0;32m     20\u001b[0m         \u001b[0mindex\u001b[0m\u001b[1;33m=\u001b[0m\u001b[1;33m[\u001b[0m\u001b[1;34m'user_id'\u001b[0m\u001b[1;33m]\u001b[0m\u001b[1;33m,\u001b[0m\u001b[1;33m\u001b[0m\u001b[1;33m\u001b[0m\u001b[0m\n\u001b[0;32m     21\u001b[0m         \u001b[0mcolumns\u001b[0m\u001b[1;33m=\u001b[0m\u001b[1;33m[\u001b[0m\u001b[1;34m'article_id'\u001b[0m\u001b[1;33m]\u001b[0m\u001b[1;33m,\u001b[0m\u001b[1;33m\u001b[0m\u001b[1;33m\u001b[0m\u001b[0m\n\u001b[1;32m---> 22\u001b[1;33m         aggfunc=lambda x: 1 if len(x) > 0 else 0).fillna(0).astype(int)\n\u001b[0m\u001b[0;32m     23\u001b[0m     \u001b[1;32mreturn\u001b[0m \u001b[0muser_item\u001b[0m\u001b[1;31m#.values  # return the user_item matrix\u001b[0m\u001b[1;33m\u001b[0m\u001b[1;33m\u001b[0m\u001b[0m\n\u001b[0;32m     24\u001b[0m \u001b[1;33m\u001b[0m\u001b[0m\n",
      "\u001b[1;32mC:\\ProgramData\\Anaconda3\\lib\\site-packages\\pandas\\core\\reshape\\pivot.py\u001b[0m in \u001b[0;36mpivot_table\u001b[1;34m(data, values, index, columns, aggfunc, fill_value, margins, dropna, margins_name)\u001b[0m\n\u001b[0;32m     79\u001b[0m         \u001b[0mvalues\u001b[0m \u001b[1;33m=\u001b[0m \u001b[0mlist\u001b[0m\u001b[1;33m(\u001b[0m\u001b[0mvalues\u001b[0m\u001b[1;33m)\u001b[0m\u001b[1;33m\u001b[0m\u001b[1;33m\u001b[0m\u001b[0m\n\u001b[0;32m     80\u001b[0m \u001b[1;33m\u001b[0m\u001b[0m\n\u001b[1;32m---> 81\u001b[1;33m     \u001b[0mgrouped\u001b[0m \u001b[1;33m=\u001b[0m \u001b[0mdata\u001b[0m\u001b[1;33m.\u001b[0m\u001b[0mgroupby\u001b[0m\u001b[1;33m(\u001b[0m\u001b[0mkeys\u001b[0m\u001b[1;33m,\u001b[0m \u001b[0mobserved\u001b[0m\u001b[1;33m=\u001b[0m\u001b[1;32mFalse\u001b[0m\u001b[1;33m)\u001b[0m\u001b[1;33m\u001b[0m\u001b[1;33m\u001b[0m\u001b[0m\n\u001b[0m\u001b[0;32m     82\u001b[0m     \u001b[0magged\u001b[0m \u001b[1;33m=\u001b[0m \u001b[0mgrouped\u001b[0m\u001b[1;33m.\u001b[0m\u001b[0magg\u001b[0m\u001b[1;33m(\u001b[0m\u001b[0maggfunc\u001b[0m\u001b[1;33m)\u001b[0m\u001b[1;33m\u001b[0m\u001b[1;33m\u001b[0m\u001b[0m\n\u001b[0;32m     83\u001b[0m     \u001b[1;32mif\u001b[0m \u001b[0mdropna\u001b[0m \u001b[1;32mand\u001b[0m \u001b[0misinstance\u001b[0m\u001b[1;33m(\u001b[0m\u001b[0magged\u001b[0m\u001b[1;33m,\u001b[0m \u001b[0mABCDataFrame\u001b[0m\u001b[1;33m)\u001b[0m \u001b[1;32mand\u001b[0m \u001b[0mlen\u001b[0m\u001b[1;33m(\u001b[0m\u001b[0magged\u001b[0m\u001b[1;33m.\u001b[0m\u001b[0mcolumns\u001b[0m\u001b[1;33m)\u001b[0m\u001b[1;33m:\u001b[0m\u001b[1;33m\u001b[0m\u001b[1;33m\u001b[0m\u001b[0m\n",
      "\u001b[1;32mC:\\ProgramData\\Anaconda3\\lib\\site-packages\\pandas\\core\\generic.py\u001b[0m in \u001b[0;36mgroupby\u001b[1;34m(self, by, axis, level, as_index, sort, group_keys, squeeze, observed, **kwargs)\u001b[0m\n\u001b[0;32m   7630\u001b[0m         return groupby(self, by=by, axis=axis, level=level, as_index=as_index,\n\u001b[0;32m   7631\u001b[0m                        \u001b[0msort\u001b[0m\u001b[1;33m=\u001b[0m\u001b[0msort\u001b[0m\u001b[1;33m,\u001b[0m \u001b[0mgroup_keys\u001b[0m\u001b[1;33m=\u001b[0m\u001b[0mgroup_keys\u001b[0m\u001b[1;33m,\u001b[0m \u001b[0msqueeze\u001b[0m\u001b[1;33m=\u001b[0m\u001b[0msqueeze\u001b[0m\u001b[1;33m,\u001b[0m\u001b[1;33m\u001b[0m\u001b[1;33m\u001b[0m\u001b[0m\n\u001b[1;32m-> 7632\u001b[1;33m                        observed=observed, **kwargs)\n\u001b[0m\u001b[0;32m   7633\u001b[0m \u001b[1;33m\u001b[0m\u001b[0m\n\u001b[0;32m   7634\u001b[0m     def asfreq(self, freq, method=None, how=None, normalize=False,\n",
      "\u001b[1;32mC:\\ProgramData\\Anaconda3\\lib\\site-packages\\pandas\\core\\groupby\\groupby.py\u001b[0m in \u001b[0;36mgroupby\u001b[1;34m(obj, by, **kwds)\u001b[0m\n\u001b[0;32m   2108\u001b[0m         \u001b[1;32mraise\u001b[0m \u001b[0mTypeError\u001b[0m\u001b[1;33m(\u001b[0m\u001b[1;34m'invalid type: {}'\u001b[0m\u001b[1;33m.\u001b[0m\u001b[0mformat\u001b[0m\u001b[1;33m(\u001b[0m\u001b[0mobj\u001b[0m\u001b[1;33m)\u001b[0m\u001b[1;33m)\u001b[0m\u001b[1;33m\u001b[0m\u001b[1;33m\u001b[0m\u001b[0m\n\u001b[0;32m   2109\u001b[0m \u001b[1;33m\u001b[0m\u001b[0m\n\u001b[1;32m-> 2110\u001b[1;33m     \u001b[1;32mreturn\u001b[0m \u001b[0mklass\u001b[0m\u001b[1;33m(\u001b[0m\u001b[0mobj\u001b[0m\u001b[1;33m,\u001b[0m \u001b[0mby\u001b[0m\u001b[1;33m,\u001b[0m \u001b[1;33m**\u001b[0m\u001b[0mkwds\u001b[0m\u001b[1;33m)\u001b[0m\u001b[1;33m\u001b[0m\u001b[1;33m\u001b[0m\u001b[0m\n\u001b[0m",
      "\u001b[1;32mC:\\ProgramData\\Anaconda3\\lib\\site-packages\\pandas\\core\\groupby\\groupby.py\u001b[0m in \u001b[0;36m__init__\u001b[1;34m(self, obj, keys, axis, level, grouper, exclusions, selection, as_index, sort, group_keys, squeeze, observed, **kwargs)\u001b[0m\n\u001b[0;32m    358\u001b[0m                                                     \u001b[0msort\u001b[0m\u001b[1;33m=\u001b[0m\u001b[0msort\u001b[0m\u001b[1;33m,\u001b[0m\u001b[1;33m\u001b[0m\u001b[1;33m\u001b[0m\u001b[0m\n\u001b[0;32m    359\u001b[0m                                                     \u001b[0mobserved\u001b[0m\u001b[1;33m=\u001b[0m\u001b[0mobserved\u001b[0m\u001b[1;33m,\u001b[0m\u001b[1;33m\u001b[0m\u001b[1;33m\u001b[0m\u001b[0m\n\u001b[1;32m--> 360\u001b[1;33m                                                     mutated=self.mutated)\n\u001b[0m\u001b[0;32m    361\u001b[0m \u001b[1;33m\u001b[0m\u001b[0m\n\u001b[0;32m    362\u001b[0m         \u001b[0mself\u001b[0m\u001b[1;33m.\u001b[0m\u001b[0mobj\u001b[0m \u001b[1;33m=\u001b[0m \u001b[0mobj\u001b[0m\u001b[1;33m\u001b[0m\u001b[1;33m\u001b[0m\u001b[0m\n",
      "\u001b[1;32mC:\\ProgramData\\Anaconda3\\lib\\site-packages\\pandas\\core\\groupby\\grouper.py\u001b[0m in \u001b[0;36m_get_grouper\u001b[1;34m(obj, key, axis, level, sort, observed, mutated, validate)\u001b[0m\n\u001b[0;32m    576\u001b[0m                 \u001b[0min_axis\u001b[0m\u001b[1;33m,\u001b[0m \u001b[0mname\u001b[0m\u001b[1;33m,\u001b[0m \u001b[0mlevel\u001b[0m\u001b[1;33m,\u001b[0m \u001b[0mgpr\u001b[0m \u001b[1;33m=\u001b[0m \u001b[1;32mFalse\u001b[0m\u001b[1;33m,\u001b[0m \u001b[1;32mNone\u001b[0m\u001b[1;33m,\u001b[0m \u001b[0mgpr\u001b[0m\u001b[1;33m,\u001b[0m \u001b[1;32mNone\u001b[0m\u001b[1;33m\u001b[0m\u001b[1;33m\u001b[0m\u001b[0m\n\u001b[0;32m    577\u001b[0m             \u001b[1;32melse\u001b[0m\u001b[1;33m:\u001b[0m\u001b[1;33m\u001b[0m\u001b[1;33m\u001b[0m\u001b[0m\n\u001b[1;32m--> 578\u001b[1;33m                 \u001b[1;32mraise\u001b[0m \u001b[0mKeyError\u001b[0m\u001b[1;33m(\u001b[0m\u001b[0mgpr\u001b[0m\u001b[1;33m)\u001b[0m\u001b[1;33m\u001b[0m\u001b[1;33m\u001b[0m\u001b[0m\n\u001b[0m\u001b[0;32m    579\u001b[0m         \u001b[1;32melif\u001b[0m \u001b[0misinstance\u001b[0m\u001b[1;33m(\u001b[0m\u001b[0mgpr\u001b[0m\u001b[1;33m,\u001b[0m \u001b[0mGrouper\u001b[0m\u001b[1;33m)\u001b[0m \u001b[1;32mand\u001b[0m \u001b[0mgpr\u001b[0m\u001b[1;33m.\u001b[0m\u001b[0mkey\u001b[0m \u001b[1;32mis\u001b[0m \u001b[1;32mnot\u001b[0m \u001b[1;32mNone\u001b[0m\u001b[1;33m:\u001b[0m\u001b[1;33m\u001b[0m\u001b[1;33m\u001b[0m\u001b[0m\n\u001b[0;32m    580\u001b[0m             \u001b[1;31m# Add key to exclusions\u001b[0m\u001b[1;33m\u001b[0m\u001b[1;33m\u001b[0m\u001b[1;33m\u001b[0m\u001b[0m\n",
      "\u001b[1;31mKeyError\u001b[0m: 'user_id'"
     ]
    }
   ],
   "source": [
    "def create_test_and_train_user_item(df_train, df_test):\n",
    "    '''\n",
    "    INPUT:\n",
    "    df_train - training dataframe\n",
    "    df_test - test dataframe\n",
    "    \n",
    "    OUTPUT:\n",
    "    user_item_train - a user-item matrix of the training dataframe \n",
    "                      (unique users for each row and unique articles for each column)\n",
    "    user_item_test - a user-item matrix of the testing dataframe \n",
    "                    (unique users for each row and unique articles for each column)\n",
    "    test_idx - all of the test user ids\n",
    "    test_arts - all of the test article ids\n",
    "    \n",
    "    '''\n",
    "    # Your code here\n",
    "    user_item_train = create_user_item_matrix(df_train)\n",
    "    user_item_test = create_user_item_matrix(df_test)\n",
    "    test_idx = user_item_test.index  #.unique()  #.tolist()\n",
    "    test_arts = user_item_test.columns  #.unique()  #.tolist()\n",
    "    return user_item_train, user_item_test, test_idx, test_arts\n",
    "\n",
    "\n",
    "user_item_train, user_item_test, test_idx, test_arts = \\\n",
    "create_test_and_train_user_item(df_train, df_test)\n",
    "[j.shape for j in (user_item_train, user_item_test, test_idx, test_arts)]"
   ]
  },
  {
   "cell_type": "code",
   "execution_count": 67,
   "metadata": {
    "ExecuteTime": {
     "end_time": "2019-03-04T07:38:00.442742Z",
     "start_time": "2019-03-04T07:38:00.437754Z"
    }
   },
   "outputs": [],
   "source": [
    "train_idx, train_arts = user_item_train.index.unique(\n",
    "), user_item_train.columns.unique()"
   ]
  },
  {
   "cell_type": "code",
   "execution_count": 68,
   "metadata": {
    "ExecuteTime": {
     "end_time": "2019-03-04T07:38:01.052865Z",
     "start_time": "2019-03-04T07:38:01.047878Z"
    }
   },
   "outputs": [
    {
     "data": {
      "text/plain": [
       "[(4487, 714), (682, 574), (682,), (574,), (4487,), (714,)]"
      ]
     },
     "execution_count": 68,
     "metadata": {},
     "output_type": "execute_result"
    }
   ],
   "source": [
    "[\n",
    "    mtrx.shape for mtrx in (user_item_train, user_item_test, test_idx,\n",
    "                            test_arts, train_idx, train_arts)\n",
    "]"
   ]
  },
  {
   "cell_type": "markdown",
   "metadata": {},
   "source": [
    "To predict articles from a test dataset"
   ]
  },
  {
   "cell_type": "code",
   "execution_count": 69,
   "metadata": {
    "ExecuteTime": {
     "end_time": "2019-03-04T07:38:07.596308Z",
     "start_time": "2019-03-04T07:38:07.590350Z"
    }
   },
   "outputs": [
    {
     "data": {
      "text/plain": [
       "(20, 574)"
      ]
     },
     "execution_count": 69,
     "metadata": {},
     "output_type": "execute_result"
    }
   ],
   "source": [
    "# Common articles and common users in both training and testing datasets\n",
    "common_users= set(train_idx).intersection(test_idx)\n",
    "common_articles= set(train_arts).intersection(test_arts)\n",
    "len(common_users), len(common_articles)"
   ]
  },
  {
   "cell_type": "code",
   "execution_count": 70,
   "metadata": {
    "ExecuteTime": {
     "end_time": "2019-03-04T07:38:08.950675Z",
     "start_time": "2019-03-04T07:38:08.946686Z"
    }
   },
   "outputs": [],
   "source": [
    "# Replace the values in the dictionary below\n",
    "a = 662 \n",
    "b = 574 \n",
    "c = 20 \n",
    "d = 0 "
   ]
  },
  {
   "cell_type": "code",
   "execution_count": 71,
   "metadata": {
    "ExecuteTime": {
     "end_time": "2019-03-04T07:38:09.654897Z",
     "start_time": "2019-03-04T07:38:09.649911Z"
    }
   },
   "outputs": [
    {
     "name": "stdout",
     "output_type": "stream",
     "text": [
      "How many users can we make predictions for in the test set?\n",
      "\tAnswer:  20\n",
      "How many users in the test set are we not able to make predictions for because of the cold start problem?\n",
      "\tAnswer:  662\n",
      "How many articles can we make predictions for in the test set?\n",
      "\tAnswer:  574\n",
      "How many articles in the test set are we not able to make predictions for because of the cold start problem?\n",
      "\tAnswer:  0\n"
     ]
    }
   ],
   "source": [
    "print('How many users can we make predictions '\n",
    "      'for in the test set?\\n\\tAnswer: ',\n",
    "      len(common_users))\n",
    "print('How many users in the test set are we not able to make '\n",
    "       'predictions for because of the cold start problem?\\n\\tAnswer: ', \n",
    "      test_idx.shape[0]- len(common_users) )\n",
    "print('How many articles can we make predictions '\n",
    "      'for in the test set?\\n\\tAnswer: ',\n",
    "      len(common_articles))\n",
    "print('How many articles in the test set are we not able to make '\n",
    "       'predictions for because of the cold start problem?\\n\\tAnswer: ', \n",
    "      test_arts.shape[0]- len(common_articles) )"
   ]
  },
  {
   "cell_type": "markdown",
   "metadata": {
    "ExecuteTime": {
     "end_time": "2019-03-03T09:38:50.618406Z",
     "start_time": "2019-03-03T09:38:50.615418Z"
    },
    "collapsed": true
   },
   "source": [
    "> The dictionary below was containing a mistake; they wrote `articles`, while they check for `movies`!<br>\n",
    "I have changed the correct `articles` word to the mistaken `movies` word to match the *mistaken* testing dictionary."
   ]
  },
  {
   "cell_type": "code",
   "execution_count": 72,
   "metadata": {
    "ExecuteTime": {
     "end_time": "2019-03-04T07:38:14.129091Z",
     "start_time": "2019-03-04T07:38:14.125102Z"
    }
   },
   "outputs": [
    {
     "name": "stdout",
     "output_type": "stream",
     "text": [
      "Awesome job!  That's right!  All of the test movies are in the training data, but there are only 20 test users that were also in the training set.  All of the other users that are in the test set we have no data on.  Therefore, we cannot make predictions for these users using SVD.\n"
     ]
    }
   ],
   "source": [
    "sol_4_dict = {\n",
    "    'How many users can we make predictions for in the test set?':\n",
    "    c,\n",
    "    'How many users in the test set are we not able to make predictions for because of the cold start problem?':\n",
    "    a,\n",
    "    'How many movies can we make predictions for in the test set?':\n",
    "    b,\n",
    "    'How many movies in the test set are we not able to make predictions for because of the cold start problem?':\n",
    "    d\n",
    "}\n",
    "\n",
    "t.sol_4_test(sol_4_dict)"
   ]
  },
  {
   "cell_type": "markdown",
   "metadata": {},
   "source": [
    "`5.` Now use the **user_item_train** dataset from above to find U, S, and V transpose using SVD. Then find the subset of rows in the **user_item_test** dataset that you can predict using this matrix decomposition with different numbers of latent features to see how many features makes sense to keep based on the accuracy on the test data. This will require combining what was done in questions `2` - `4`.\n",
    "\n",
    "Use the cells below to explore how well SVD works towards making predictions for recommendations on the test data.  "
   ]
  },
  {
   "cell_type": "code",
   "execution_count": 73,
   "metadata": {
    "ExecuteTime": {
     "end_time": "2019-03-04T07:38:25.300975Z",
     "start_time": "2019-03-04T07:38:25.006480Z"
    }
   },
   "outputs": [],
   "source": [
    "# Use these cells to see how well you can use the training\n",
    "# decomposition to predict on test data\n",
    "\n",
    "# fit SVD on the user_item_train matrix\n",
    "# fit svd similar to above then use the cells below\n",
    "u_train, s_train, vt_train = np.linalg.svd(\n",
    "    user_item_train, full_matrices=False)"
   ]
  },
  {
   "cell_type": "code",
   "execution_count": 74,
   "metadata": {
    "ExecuteTime": {
     "end_time": "2019-03-04T07:38:30.730915Z",
     "start_time": "2019-03-04T07:38:30.725803Z"
    },
    "code_folding": []
   },
   "outputs": [],
   "source": [
    "# Get the training matrix of the common users\n",
    "common_users= set(train_idx).intersection(test_idx)"
   ]
  },
  {
   "cell_type": "code",
   "execution_count": 75,
   "metadata": {
    "ExecuteTime": {
     "end_time": "2019-03-04T07:38:33.487536Z",
     "start_time": "2019-03-04T07:38:33.476564Z"
    },
    "code_folding": []
   },
   "outputs": [
    {
     "data": {
      "text/plain": [
       "((20, 714), (20, 574))"
      ]
     },
     "execution_count": 75,
     "metadata": {},
     "output_type": "execute_result"
    }
   ],
   "source": [
    "# Get prediction of the common users\n",
    "common_users_locations = user_item_train.index.isin(user_item_test.index)\n",
    "# common_users_matrix\n",
    "common_users_matrix = u_train[common_users_locations,:]#.shape\n",
    "# get the predictions\n",
    "# A= U.s.Vt\n",
    "pred = np.dot(np.dot(common_users_matrix,np.diag(s_train)), vt_train)\n",
    "# sum(sum(pred))\n",
    "\n",
    "# get common items with the test dataset\n",
    "common_items_locations = user_item_train.columns.isin(user_item_test.columns)\n",
    "# the adapted pred matrix\n",
    "pred_adapted = pred[:,common_items_locations]\n",
    "# Check\n",
    "pred.shape, pred_adapted.shape"
   ]
  },
  {
   "cell_type": "code",
   "execution_count": 76,
   "metadata": {
    "ExecuteTime": {
     "end_time": "2019-03-04T07:38:38.733788Z",
     "start_time": "2019-03-04T07:38:38.727804Z"
    },
    "code_folding": []
   },
   "outputs": [
    {
     "data": {
      "text/plain": [
       "(20, 574)"
      ]
     },
     "execution_count": 76,
     "metadata": {},
     "output_type": "execute_result"
    }
   ],
   "source": [
    "# Get actual values of the common users\n",
    "\n",
    "user_item_subset = user_item_test.loc[common_users,:]\n",
    "user_item_subset.values.shape"
   ]
  },
  {
   "cell_type": "code",
   "execution_count": 77,
   "metadata": {
    "ExecuteTime": {
     "end_time": "2019-03-04T07:38:40.247405Z",
     "start_time": "2019-03-04T07:38:40.156587Z"
    },
    "code_folding": []
   },
   "outputs": [
    {
     "data": {
      "text/plain": [
       "430.0"
      ]
     },
     "execution_count": 77,
     "metadata": {},
     "output_type": "execute_result"
    }
   ],
   "source": [
    "# Calculate the error in prediction\n",
    "sum_square_errors = np.round(\n",
    "    np.sum(np.sum((user_item_subset - pred_adapted)**2)), 2)\n",
    "sum_square_errors"
   ]
  },
  {
   "cell_type": "code",
   "execution_count": 78,
   "metadata": {
    "ExecuteTime": {
     "end_time": "2019-03-04T07:38:42.066189Z",
     "start_time": "2019-03-04T07:38:42.063196Z"
    },
    "code_folding": [
     0
    ]
   },
   "outputs": [],
   "source": [
    "# # Calculate the goodness of prediction\n",
    "\n",
    "# # Total sum squares\n",
    "# data_mean = np.mean(np.mean(user_item_subset))\n",
    "# sum_square_total = np.round(\n",
    "#     np.sum(np.sum((user_item_subset - data_mean)**2)), 2)\n",
    "# sum_square_total\n",
    "\n",
    "# # Determination coefficient \n",
    "# r_squared = 1- sum_square_errors/sum_square_total"
   ]
  },
  {
   "cell_type": "code",
   "execution_count": 80,
   "metadata": {
    "ExecuteTime": {
     "end_time": "2019-03-04T07:39:12.108920Z",
     "start_time": "2019-03-04T07:39:11.321516Z"
    }
   },
   "outputs": [
    {
     "name": "stdout",
     "output_type": "stream",
     "text": [
      "[(4487, 4487), (714,), (714, 714)]\n",
      "[(20, 4487), (714,), (714, 574)]\n"
     ]
    }
   ],
   "source": [
    "# repeating the above lines to be in one place\n",
    "u_train, s_train, vt_train = np.linalg.svd(\n",
    "    user_item_train, full_matrices=True)\n",
    "print([j.shape for j in [u_train, s_train, vt_train]])\n",
    "\n",
    "common_users_locations_tr = user_item_train.index.isin(user_item_test.index)\n",
    "common_items_locations_tr = user_item_train.columns.isin(\n",
    "    user_item_test.columns)\n",
    "\n",
    "common_users_locations_ts = user_item_test.index.isin(user_item_train.index)\n",
    "common_items_locations_ts = user_item_test.columns.isin(\n",
    "    user_item_train.columns)\n",
    "\n",
    "u_test_common = u_train[common_users_locations_tr, :]\n",
    "vt_test_common = vt_train[:, common_items_locations_tr]\n",
    "# u_test, s_test, vt_test = np.linalg.svd(user_item_test, full_matrices=True)\n",
    "# u_test_common = u_test[common_users_locations_ts, :]\n",
    "# vt_test_common = vt_test[:, common_items_locations_ts]\n",
    "print([j.shape for j in [u_test_common, s_train, vt_test_common]])\n",
    "# user_item_test_common = user_item_test.loc[common_users, :]"
   ]
  },
  {
   "cell_type": "code",
   "execution_count": 82,
   "metadata": {
    "ExecuteTime": {
     "end_time": "2019-03-04T07:39:54.561708Z",
     "start_time": "2019-03-04T07:39:50.358804Z"
    }
   },
   "outputs": [],
   "source": [
    "num_latent_feats = np.arange(10, 710, 20)\n",
    "sum_errs_test = []\n",
    "sum_errs_train = []\n",
    "sum_errs_total = []\n",
    "for k in num_latent_feats:\n",
    "    # restructure with k latent features\n",
    "    s_train_latent, u_train_latent, vt_train_latent = np.diag(\n",
    "        s_train[:k]), u_train[:, :k], vt_train[:k, :]\n",
    "    u_test_latent, vt_test_latent = u_test_common[:, :k], vt_test_common[:k, :]\n",
    "\n",
    "    # take dot product\n",
    "    user_item_est_train = np.around(\n",
    "        np.dot(np.dot(u_train_latent, s_train_latent), vt_train_latent))\n",
    "    user_item_est_test = np.around(\n",
    "        np.dot(np.dot(u_test_latent, s_train_latent), vt_test_latent))\n",
    "\n",
    "    # compute error for each prediction to actual value\n",
    "    diffs_train = np.subtract(user_item_train, user_item_est_train)\n",
    "    diffs_test = np.subtract(user_item_test.loc[common_users, :],\n",
    "                             user_item_est_test)\n",
    "\n",
    "    # total errors and keep track of them\n",
    "    err_train = np.sum(np.sum(np.abs(diffs_train)))\n",
    "    sum_errs_train.append(err_train)\n",
    "    err_test = np.sum(np.sum(np.abs(diffs_test)))\n",
    "    sum_errs_test.append(err_test)\n",
    "\n",
    "    #     sum_errs_total.append(1-((np.sum(user_item_test)+np.sum(user_item_est_test))/user_item_test.size))\n",
    "    sum_errs_total.append(np.sum(user_item_test) + np.sum(user_item_est_test))"
   ]
  },
  {
   "cell_type": "code",
   "execution_count": 83,
   "metadata": {
    "ExecuteTime": {
     "end_time": "2019-03-04T07:39:55.913483Z",
     "start_time": "2019-03-04T07:39:55.849030Z"
    },
    "collapsed": true
   },
   "outputs": [
    {
     "data": {
      "text/plain": [
       "[article_id\n",
       " 0.0        52.0\n",
       " 2.0        59.0\n",
       " 4.0        51.0\n",
       " 8.0        62.0\n",
       " 9.0        51.0\n",
       " 12.0       65.0\n",
       " 14.0       64.0\n",
       " 15.0       60.0\n",
       " 16.0       63.0\n",
       " 18.0       60.0\n",
       " 20.0       69.0\n",
       " 25.0       54.0\n",
       " 26.0       64.0\n",
       " 28.0       61.0\n",
       " 29.0       54.0\n",
       " 30.0       51.0\n",
       " 32.0       58.0\n",
       " 33.0       66.0\n",
       " 34.0       60.0\n",
       " 36.0       54.0\n",
       " 39.0       57.0\n",
       " 40.0       61.0\n",
       " 43.0       94.0\n",
       " 48.0       55.0\n",
       " 50.0       61.0\n",
       " 51.0       62.0\n",
       " 53.0       61.0\n",
       " 54.0       55.0\n",
       " 57.0       68.0\n",
       " 58.0       53.0\n",
       "           ...  \n",
       " 1409.0     56.0\n",
       " 1410.0     57.0\n",
       " 1411.0     55.0\n",
       " 1412.0     52.0\n",
       " 1414.0     51.0\n",
       " 1415.0     51.0\n",
       " 1416.0     62.0\n",
       " 1418.0     57.0\n",
       " 1419.0     51.0\n",
       " 1420.0     65.0\n",
       " 1422.0     61.0\n",
       " 1423.0     58.0\n",
       " 1424.0     61.0\n",
       " 1425.0     56.0\n",
       " 1426.0     62.0\n",
       " 1427.0     86.0\n",
       " 1428.0     56.0\n",
       " 1429.0    104.0\n",
       " 1430.0     75.0\n",
       " 1431.0     93.0\n",
       " 1432.0     75.0\n",
       " 1433.0     62.0\n",
       " 1434.0     56.0\n",
       " 1435.0     60.0\n",
       " 1436.0     95.0\n",
       " 1437.0     62.0\n",
       " 1439.0     53.0\n",
       " 1440.0     53.0\n",
       " 1441.0     51.0\n",
       " 1443.0     53.0\n",
       " Length: 574, dtype: float64, article_id\n",
       " 0.0        91.0\n",
       " 2.0        98.0\n",
       " 4.0        90.0\n",
       " 8.0       101.0\n",
       " 9.0        90.0\n",
       " 12.0      104.0\n",
       " 14.0      103.0\n",
       " 15.0       99.0\n",
       " 16.0      102.0\n",
       " 18.0       99.0\n",
       " 20.0      108.0\n",
       " 25.0       93.0\n",
       " 26.0      103.0\n",
       " 28.0      100.0\n",
       " 29.0       93.0\n",
       " 30.0       90.0\n",
       " 32.0       97.0\n",
       " 33.0      105.0\n",
       " 34.0       99.0\n",
       " 36.0       93.0\n",
       " 39.0       96.0\n",
       " 40.0      100.0\n",
       " 43.0      133.0\n",
       " 48.0       94.0\n",
       " 50.0      100.0\n",
       " 51.0      101.0\n",
       " 53.0      100.0\n",
       " 54.0       94.0\n",
       " 57.0      107.0\n",
       " 58.0       92.0\n",
       "           ...  \n",
       " 1409.0     95.0\n",
       " 1410.0     96.0\n",
       " 1411.0     94.0\n",
       " 1412.0     91.0\n",
       " 1414.0     90.0\n",
       " 1415.0     90.0\n",
       " 1416.0    101.0\n",
       " 1418.0     96.0\n",
       " 1419.0     90.0\n",
       " 1420.0    104.0\n",
       " 1422.0    100.0\n",
       " 1423.0     97.0\n",
       " 1424.0    100.0\n",
       " 1425.0     95.0\n",
       " 1426.0    101.0\n",
       " 1427.0    125.0\n",
       " 1428.0     95.0\n",
       " 1429.0    143.0\n",
       " 1430.0    114.0\n",
       " 1431.0    132.0\n",
       " 1432.0    114.0\n",
       " 1433.0    101.0\n",
       " 1434.0     95.0\n",
       " 1435.0     99.0\n",
       " 1436.0    134.0\n",
       " 1437.0    101.0\n",
       " 1439.0     92.0\n",
       " 1440.0     92.0\n",
       " 1441.0     90.0\n",
       " 1443.0     92.0\n",
       " Length: 574, dtype: float64, article_id\n",
       " 0.0       109.0\n",
       " 2.0       116.0\n",
       " 4.0       108.0\n",
       " 8.0       119.0\n",
       " 9.0       108.0\n",
       " 12.0      122.0\n",
       " 14.0      121.0\n",
       " 15.0      117.0\n",
       " 16.0      120.0\n",
       " 18.0      117.0\n",
       " 20.0      126.0\n",
       " 25.0      111.0\n",
       " 26.0      121.0\n",
       " 28.0      118.0\n",
       " 29.0      111.0\n",
       " 30.0      108.0\n",
       " 32.0      115.0\n",
       " 33.0      123.0\n",
       " 34.0      117.0\n",
       " 36.0      111.0\n",
       " 39.0      114.0\n",
       " 40.0      118.0\n",
       " 43.0      151.0\n",
       " 48.0      112.0\n",
       " 50.0      118.0\n",
       " 51.0      119.0\n",
       " 53.0      118.0\n",
       " 54.0      112.0\n",
       " 57.0      125.0\n",
       " 58.0      110.0\n",
       "           ...  \n",
       " 1409.0    113.0\n",
       " 1410.0    114.0\n",
       " 1411.0    112.0\n",
       " 1412.0    109.0\n",
       " 1414.0    108.0\n",
       " 1415.0    108.0\n",
       " 1416.0    119.0\n",
       " 1418.0    114.0\n",
       " 1419.0    108.0\n",
       " 1420.0    122.0\n",
       " 1422.0    118.0\n",
       " 1423.0    115.0\n",
       " 1424.0    118.0\n",
       " 1425.0    113.0\n",
       " 1426.0    119.0\n",
       " 1427.0    143.0\n",
       " 1428.0    113.0\n",
       " 1429.0    161.0\n",
       " 1430.0    132.0\n",
       " 1431.0    150.0\n",
       " 1432.0    132.0\n",
       " 1433.0    119.0\n",
       " 1434.0    113.0\n",
       " 1435.0    117.0\n",
       " 1436.0    152.0\n",
       " 1437.0    119.0\n",
       " 1439.0    110.0\n",
       " 1440.0    110.0\n",
       " 1441.0    108.0\n",
       " 1443.0    110.0\n",
       " Length: 574, dtype: float64, article_id\n",
       " 0.0       131.0\n",
       " 2.0       138.0\n",
       " 4.0       130.0\n",
       " 8.0       141.0\n",
       " 9.0       130.0\n",
       " 12.0      144.0\n",
       " 14.0      143.0\n",
       " 15.0      139.0\n",
       " 16.0      142.0\n",
       " 18.0      139.0\n",
       " 20.0      148.0\n",
       " 25.0      133.0\n",
       " 26.0      143.0\n",
       " 28.0      140.0\n",
       " 29.0      133.0\n",
       " 30.0      130.0\n",
       " 32.0      137.0\n",
       " 33.0      145.0\n",
       " 34.0      139.0\n",
       " 36.0      133.0\n",
       " 39.0      136.0\n",
       " 40.0      140.0\n",
       " 43.0      173.0\n",
       " 48.0      134.0\n",
       " 50.0      140.0\n",
       " 51.0      141.0\n",
       " 53.0      140.0\n",
       " 54.0      134.0\n",
       " 57.0      147.0\n",
       " 58.0      132.0\n",
       "           ...  \n",
       " 1409.0    135.0\n",
       " 1410.0    136.0\n",
       " 1411.0    134.0\n",
       " 1412.0    131.0\n",
       " 1414.0    130.0\n",
       " 1415.0    130.0\n",
       " 1416.0    141.0\n",
       " 1418.0    136.0\n",
       " 1419.0    130.0\n",
       " 1420.0    144.0\n",
       " 1422.0    140.0\n",
       " 1423.0    137.0\n",
       " 1424.0    140.0\n",
       " 1425.0    135.0\n",
       " 1426.0    141.0\n",
       " 1427.0    165.0\n",
       " 1428.0    135.0\n",
       " 1429.0    183.0\n",
       " 1430.0    154.0\n",
       " 1431.0    172.0\n",
       " 1432.0    154.0\n",
       " 1433.0    141.0\n",
       " 1434.0    135.0\n",
       " 1435.0    139.0\n",
       " 1436.0    174.0\n",
       " 1437.0    141.0\n",
       " 1439.0    132.0\n",
       " 1440.0    132.0\n",
       " 1441.0    130.0\n",
       " 1443.0    132.0\n",
       " Length: 574, dtype: float64, article_id\n",
       " 0.0       150.0\n",
       " 2.0       157.0\n",
       " 4.0       149.0\n",
       " 8.0       160.0\n",
       " 9.0       149.0\n",
       " 12.0      163.0\n",
       " 14.0      162.0\n",
       " 15.0      158.0\n",
       " 16.0      161.0\n",
       " 18.0      158.0\n",
       " 20.0      167.0\n",
       " 25.0      152.0\n",
       " 26.0      162.0\n",
       " 28.0      159.0\n",
       " 29.0      152.0\n",
       " 30.0      149.0\n",
       " 32.0      156.0\n",
       " 33.0      164.0\n",
       " 34.0      158.0\n",
       " 36.0      152.0\n",
       " 39.0      155.0\n",
       " 40.0      159.0\n",
       " 43.0      192.0\n",
       " 48.0      153.0\n",
       " 50.0      159.0\n",
       " 51.0      160.0\n",
       " 53.0      159.0\n",
       " 54.0      153.0\n",
       " 57.0      166.0\n",
       " 58.0      151.0\n",
       "           ...  \n",
       " 1409.0    154.0\n",
       " 1410.0    155.0\n",
       " 1411.0    153.0\n",
       " 1412.0    150.0\n",
       " 1414.0    149.0\n",
       " 1415.0    149.0\n",
       " 1416.0    160.0\n",
       " 1418.0    155.0\n",
       " 1419.0    149.0\n",
       " 1420.0    163.0\n",
       " 1422.0    159.0\n",
       " 1423.0    156.0\n",
       " 1424.0    159.0\n",
       " 1425.0    154.0\n",
       " 1426.0    160.0\n",
       " 1427.0    184.0\n",
       " 1428.0    154.0\n",
       " 1429.0    202.0\n",
       " 1430.0    173.0\n",
       " 1431.0    191.0\n",
       " 1432.0    173.0\n",
       " 1433.0    160.0\n",
       " 1434.0    154.0\n",
       " 1435.0    158.0\n",
       " 1436.0    193.0\n",
       " 1437.0    160.0\n",
       " 1439.0    151.0\n",
       " 1440.0    151.0\n",
       " 1441.0    149.0\n",
       " 1443.0    151.0\n",
       " Length: 574, dtype: float64, article_id\n",
       " 0.0       171.0\n",
       " 2.0       178.0\n",
       " 4.0       170.0\n",
       " 8.0       181.0\n",
       " 9.0       170.0\n",
       " 12.0      184.0\n",
       " 14.0      183.0\n",
       " 15.0      179.0\n",
       " 16.0      182.0\n",
       " 18.0      179.0\n",
       " 20.0      188.0\n",
       " 25.0      173.0\n",
       " 26.0      183.0\n",
       " 28.0      180.0\n",
       " 29.0      173.0\n",
       " 30.0      170.0\n",
       " 32.0      177.0\n",
       " 33.0      185.0\n",
       " 34.0      179.0\n",
       " 36.0      173.0\n",
       " 39.0      176.0\n",
       " 40.0      180.0\n",
       " 43.0      213.0\n",
       " 48.0      174.0\n",
       " 50.0      180.0\n",
       " 51.0      181.0\n",
       " 53.0      180.0\n",
       " 54.0      174.0\n",
       " 57.0      187.0\n",
       " 58.0      172.0\n",
       "           ...  \n",
       " 1409.0    175.0\n",
       " 1410.0    176.0\n",
       " 1411.0    174.0\n",
       " 1412.0    171.0\n",
       " 1414.0    170.0\n",
       " 1415.0    170.0\n",
       " 1416.0    181.0\n",
       " 1418.0    176.0\n",
       " 1419.0    170.0\n",
       " 1420.0    184.0\n",
       " 1422.0    180.0\n",
       " 1423.0    177.0\n",
       " 1424.0    180.0\n",
       " 1425.0    175.0\n",
       " 1426.0    181.0\n",
       " 1427.0    205.0\n",
       " 1428.0    175.0\n",
       " 1429.0    223.0\n",
       " 1430.0    194.0\n",
       " 1431.0    212.0\n",
       " 1432.0    194.0\n",
       " 1433.0    181.0\n",
       " 1434.0    175.0\n",
       " 1435.0    179.0\n",
       " 1436.0    214.0\n",
       " 1437.0    181.0\n",
       " 1439.0    172.0\n",
       " 1440.0    172.0\n",
       " 1441.0    170.0\n",
       " 1443.0    172.0\n",
       " Length: 574, dtype: float64, article_id\n",
       " 0.0       184.0\n",
       " 2.0       191.0\n",
       " 4.0       183.0\n",
       " 8.0       194.0\n",
       " 9.0       183.0\n",
       " 12.0      197.0\n",
       " 14.0      196.0\n",
       " 15.0      192.0\n",
       " 16.0      195.0\n",
       " 18.0      192.0\n",
       " 20.0      201.0\n",
       " 25.0      186.0\n",
       " 26.0      196.0\n",
       " 28.0      193.0\n",
       " 29.0      186.0\n",
       " 30.0      183.0\n",
       " 32.0      190.0\n",
       " 33.0      198.0\n",
       " 34.0      192.0\n",
       " 36.0      186.0\n",
       " 39.0      189.0\n",
       " 40.0      193.0\n",
       " 43.0      226.0\n",
       " 48.0      187.0\n",
       " 50.0      193.0\n",
       " 51.0      194.0\n",
       " 53.0      193.0\n",
       " 54.0      187.0\n",
       " 57.0      200.0\n",
       " 58.0      185.0\n",
       "           ...  \n",
       " 1409.0    188.0\n",
       " 1410.0    189.0\n",
       " 1411.0    187.0\n",
       " 1412.0    184.0\n",
       " 1414.0    183.0\n",
       " 1415.0    183.0\n",
       " 1416.0    194.0\n",
       " 1418.0    189.0\n",
       " 1419.0    183.0\n",
       " 1420.0    197.0\n",
       " 1422.0    193.0\n",
       " 1423.0    190.0\n",
       " 1424.0    193.0\n",
       " 1425.0    188.0\n",
       " 1426.0    194.0\n",
       " 1427.0    218.0\n",
       " 1428.0    188.0\n",
       " 1429.0    236.0\n",
       " 1430.0    207.0\n",
       " 1431.0    225.0\n",
       " 1432.0    207.0\n",
       " 1433.0    194.0\n",
       " 1434.0    188.0\n",
       " 1435.0    192.0\n",
       " 1436.0    227.0\n",
       " 1437.0    194.0\n",
       " 1439.0    185.0\n",
       " 1440.0    185.0\n",
       " 1441.0    183.0\n",
       " 1443.0    185.0\n",
       " Length: 574, dtype: float64, article_id\n",
       " 0.0       195.0\n",
       " 2.0       202.0\n",
       " 4.0       194.0\n",
       " 8.0       205.0\n",
       " 9.0       194.0\n",
       " 12.0      208.0\n",
       " 14.0      207.0\n",
       " 15.0      203.0\n",
       " 16.0      206.0\n",
       " 18.0      203.0\n",
       " 20.0      212.0\n",
       " 25.0      197.0\n",
       " 26.0      207.0\n",
       " 28.0      204.0\n",
       " 29.0      197.0\n",
       " 30.0      194.0\n",
       " 32.0      201.0\n",
       " 33.0      209.0\n",
       " 34.0      203.0\n",
       " 36.0      197.0\n",
       " 39.0      200.0\n",
       " 40.0      204.0\n",
       " 43.0      237.0\n",
       " 48.0      198.0\n",
       " 50.0      204.0\n",
       " 51.0      205.0\n",
       " 53.0      204.0\n",
       " 54.0      198.0\n",
       " 57.0      211.0\n",
       " 58.0      196.0\n",
       "           ...  \n",
       " 1409.0    199.0\n",
       " 1410.0    200.0\n",
       " 1411.0    198.0\n",
       " 1412.0    195.0\n",
       " 1414.0    194.0\n",
       " 1415.0    194.0\n",
       " 1416.0    205.0\n",
       " 1418.0    200.0\n",
       " 1419.0    194.0\n",
       " 1420.0    208.0\n",
       " 1422.0    204.0\n",
       " 1423.0    201.0\n",
       " 1424.0    204.0\n",
       " 1425.0    199.0\n",
       " 1426.0    205.0\n",
       " 1427.0    229.0\n",
       " 1428.0    199.0\n",
       " 1429.0    247.0\n",
       " 1430.0    218.0\n",
       " 1431.0    236.0\n",
       " 1432.0    218.0\n",
       " 1433.0    205.0\n",
       " 1434.0    199.0\n",
       " 1435.0    203.0\n",
       " 1436.0    238.0\n",
       " 1437.0    205.0\n",
       " 1439.0    196.0\n",
       " 1440.0    196.0\n",
       " 1441.0    194.0\n",
       " 1443.0    196.0\n",
       " Length: 574, dtype: float64, article_id\n",
       " 0.0       205.0\n",
       " 2.0       212.0\n",
       " 4.0       204.0\n",
       " 8.0       215.0\n",
       " 9.0       204.0\n",
       " 12.0      218.0\n",
       " 14.0      217.0\n",
       " 15.0      213.0\n",
       " 16.0      216.0\n",
       " 18.0      213.0\n",
       " 20.0      222.0\n",
       " 25.0      207.0\n",
       " 26.0      217.0\n",
       " 28.0      214.0\n",
       " 29.0      207.0\n",
       " 30.0      204.0\n",
       " 32.0      211.0\n",
       " 33.0      219.0\n",
       " 34.0      213.0\n",
       " 36.0      207.0\n",
       " 39.0      210.0\n",
       " 40.0      214.0\n",
       " 43.0      247.0\n",
       " 48.0      208.0\n",
       " 50.0      214.0\n",
       " 51.0      215.0\n",
       " 53.0      214.0\n",
       " 54.0      208.0\n",
       " 57.0      221.0\n",
       " 58.0      206.0\n",
       "           ...  \n",
       " 1409.0    209.0\n",
       " 1410.0    210.0\n",
       " 1411.0    208.0\n",
       " 1412.0    205.0\n",
       " 1414.0    204.0\n",
       " 1415.0    204.0\n",
       " 1416.0    215.0\n",
       " 1418.0    210.0\n",
       " 1419.0    204.0\n",
       " 1420.0    218.0\n",
       " 1422.0    214.0\n",
       " 1423.0    211.0\n",
       " 1424.0    214.0\n",
       " 1425.0    209.0\n",
       " 1426.0    215.0\n",
       " 1427.0    239.0\n",
       " 1428.0    209.0\n",
       " 1429.0    257.0\n",
       " 1430.0    228.0\n",
       " 1431.0    246.0\n",
       " 1432.0    228.0\n",
       " 1433.0    215.0\n",
       " 1434.0    209.0\n",
       " 1435.0    213.0\n",
       " 1436.0    248.0\n",
       " 1437.0    215.0\n",
       " 1439.0    206.0\n",
       " 1440.0    206.0\n",
       " 1441.0    204.0\n",
       " 1443.0    206.0\n",
       " Length: 574, dtype: float64, article_id\n",
       " 0.0       213.0\n",
       " 2.0       220.0\n",
       " 4.0       212.0\n",
       " 8.0       223.0\n",
       " 9.0       212.0\n",
       " 12.0      226.0\n",
       " 14.0      225.0\n",
       " 15.0      221.0\n",
       " 16.0      224.0\n",
       " 18.0      221.0\n",
       " 20.0      230.0\n",
       " 25.0      215.0\n",
       " 26.0      225.0\n",
       " 28.0      222.0\n",
       " 29.0      215.0\n",
       " 30.0      212.0\n",
       " 32.0      219.0\n",
       " 33.0      227.0\n",
       " 34.0      221.0\n",
       " 36.0      215.0\n",
       " 39.0      218.0\n",
       " 40.0      222.0\n",
       " 43.0      255.0\n",
       " 48.0      216.0\n",
       " 50.0      222.0\n",
       " 51.0      223.0\n",
       " 53.0      222.0\n",
       " 54.0      216.0\n",
       " 57.0      229.0\n",
       " 58.0      214.0\n",
       "           ...  \n",
       " 1409.0    217.0\n",
       " 1410.0    218.0\n",
       " 1411.0    216.0\n",
       " 1412.0    213.0\n",
       " 1414.0    212.0\n",
       " 1415.0    212.0\n",
       " 1416.0    223.0\n",
       " 1418.0    218.0\n",
       " 1419.0    212.0\n",
       " 1420.0    226.0\n",
       " 1422.0    222.0\n",
       " 1423.0    219.0\n",
       " 1424.0    222.0\n",
       " 1425.0    217.0\n",
       " 1426.0    223.0\n",
       " 1427.0    247.0\n",
       " 1428.0    217.0\n",
       " 1429.0    265.0\n",
       " 1430.0    236.0\n",
       " 1431.0    254.0\n",
       " 1432.0    236.0\n",
       " 1433.0    223.0\n",
       " 1434.0    217.0\n",
       " 1435.0    221.0\n",
       " 1436.0    256.0\n",
       " 1437.0    223.0\n",
       " 1439.0    214.0\n",
       " 1440.0    214.0\n",
       " 1441.0    212.0\n",
       " 1443.0    214.0\n",
       " Length: 574, dtype: float64, article_id\n",
       " 0.0       221.0\n",
       " 2.0       228.0\n",
       " 4.0       220.0\n",
       " 8.0       231.0\n",
       " 9.0       220.0\n",
       " 12.0      234.0\n",
       " 14.0      233.0\n",
       " 15.0      229.0\n",
       " 16.0      232.0\n",
       " 18.0      229.0\n",
       " 20.0      238.0\n",
       " 25.0      223.0\n",
       " 26.0      233.0\n",
       " 28.0      230.0\n",
       " 29.0      223.0\n",
       " 30.0      220.0\n",
       " 32.0      227.0\n",
       " 33.0      235.0\n",
       " 34.0      229.0\n",
       " 36.0      223.0\n",
       " 39.0      226.0\n",
       " 40.0      230.0\n",
       " 43.0      263.0\n",
       " 48.0      224.0\n",
       " 50.0      230.0\n",
       " 51.0      231.0\n",
       " 53.0      230.0\n",
       " 54.0      224.0\n",
       " 57.0      237.0\n",
       " 58.0      222.0\n",
       "           ...  \n",
       " 1409.0    225.0\n",
       " 1410.0    226.0\n",
       " 1411.0    224.0\n",
       " 1412.0    221.0\n",
       " 1414.0    220.0\n",
       " 1415.0    220.0\n",
       " 1416.0    231.0\n",
       " 1418.0    226.0\n",
       " 1419.0    220.0\n",
       " 1420.0    234.0\n",
       " 1422.0    230.0\n",
       " 1423.0    227.0\n",
       " 1424.0    230.0\n",
       " 1425.0    225.0\n",
       " 1426.0    231.0\n",
       " 1427.0    255.0\n",
       " 1428.0    225.0\n",
       " 1429.0    273.0\n",
       " 1430.0    244.0\n",
       " 1431.0    262.0\n",
       " 1432.0    244.0\n",
       " 1433.0    231.0\n",
       " 1434.0    225.0\n",
       " 1435.0    229.0\n",
       " 1436.0    264.0\n",
       " 1437.0    231.0\n",
       " 1439.0    222.0\n",
       " 1440.0    222.0\n",
       " 1441.0    220.0\n",
       " 1443.0    222.0\n",
       " Length: 574, dtype: float64, article_id\n",
       " 0.0       225.0\n",
       " 2.0       232.0\n",
       " 4.0       224.0\n",
       " 8.0       235.0\n",
       " 9.0       224.0\n",
       " 12.0      238.0\n",
       " 14.0      237.0\n",
       " 15.0      233.0\n",
       " 16.0      236.0\n",
       " 18.0      233.0\n",
       " 20.0      242.0\n",
       " 25.0      227.0\n",
       " 26.0      237.0\n",
       " 28.0      234.0\n",
       " 29.0      227.0\n",
       " 30.0      224.0\n",
       " 32.0      231.0\n",
       " 33.0      239.0\n",
       " 34.0      233.0\n",
       " 36.0      227.0\n",
       " 39.0      230.0\n",
       " 40.0      234.0\n",
       " 43.0      267.0\n",
       " 48.0      228.0\n",
       " 50.0      234.0\n",
       " 51.0      235.0\n",
       " 53.0      234.0\n",
       " 54.0      228.0\n",
       " 57.0      241.0\n",
       " 58.0      226.0\n",
       "           ...  \n",
       " 1409.0    229.0\n",
       " 1410.0    230.0\n",
       " 1411.0    228.0\n",
       " 1412.0    225.0\n",
       " 1414.0    224.0\n",
       " 1415.0    224.0\n",
       " 1416.0    235.0\n",
       " 1418.0    230.0\n",
       " 1419.0    224.0\n",
       " 1420.0    238.0\n",
       " 1422.0    234.0\n",
       " 1423.0    231.0\n",
       " 1424.0    234.0\n",
       " 1425.0    229.0\n",
       " 1426.0    235.0\n",
       " 1427.0    259.0\n",
       " 1428.0    229.0\n",
       " 1429.0    277.0\n",
       " 1430.0    248.0\n",
       " 1431.0    266.0\n",
       " 1432.0    248.0\n",
       " 1433.0    235.0\n",
       " 1434.0    229.0\n",
       " 1435.0    233.0\n",
       " 1436.0    268.0\n",
       " 1437.0    235.0\n",
       " 1439.0    226.0\n",
       " 1440.0    226.0\n",
       " 1441.0    224.0\n",
       " 1443.0    226.0\n",
       " Length: 574, dtype: float64, article_id\n",
       " 0.0       231.0\n",
       " 2.0       238.0\n",
       " 4.0       230.0\n",
       " 8.0       241.0\n",
       " 9.0       230.0\n",
       " 12.0      244.0\n",
       " 14.0      243.0\n",
       " 15.0      239.0\n",
       " 16.0      242.0\n",
       " 18.0      239.0\n",
       " 20.0      248.0\n",
       " 25.0      233.0\n",
       " 26.0      243.0\n",
       " 28.0      240.0\n",
       " 29.0      233.0\n",
       " 30.0      230.0\n",
       " 32.0      237.0\n",
       " 33.0      245.0\n",
       " 34.0      239.0\n",
       " 36.0      233.0\n",
       " 39.0      236.0\n",
       " 40.0      240.0\n",
       " 43.0      273.0\n",
       " 48.0      234.0\n",
       " 50.0      240.0\n",
       " 51.0      241.0\n",
       " 53.0      240.0\n",
       " 54.0      234.0\n",
       " 57.0      247.0\n",
       " 58.0      232.0\n",
       "           ...  \n",
       " 1409.0    235.0\n",
       " 1410.0    236.0\n",
       " 1411.0    234.0\n",
       " 1412.0    231.0\n",
       " 1414.0    230.0\n",
       " 1415.0    230.0\n",
       " 1416.0    241.0\n",
       " 1418.0    236.0\n",
       " 1419.0    230.0\n",
       " 1420.0    244.0\n",
       " 1422.0    240.0\n",
       " 1423.0    237.0\n",
       " 1424.0    240.0\n",
       " 1425.0    235.0\n",
       " 1426.0    241.0\n",
       " 1427.0    265.0\n",
       " 1428.0    235.0\n",
       " 1429.0    283.0\n",
       " 1430.0    254.0\n",
       " 1431.0    272.0\n",
       " 1432.0    254.0\n",
       " 1433.0    241.0\n",
       " 1434.0    235.0\n",
       " 1435.0    239.0\n",
       " 1436.0    274.0\n",
       " 1437.0    241.0\n",
       " 1439.0    232.0\n",
       " 1440.0    232.0\n",
       " 1441.0    230.0\n",
       " 1443.0    232.0\n",
       " Length: 574, dtype: float64, article_id\n",
       " 0.0       235.0\n",
       " 2.0       242.0\n",
       " 4.0       234.0\n",
       " 8.0       245.0\n",
       " 9.0       234.0\n",
       " 12.0      248.0\n",
       " 14.0      247.0\n",
       " 15.0      243.0\n",
       " 16.0      246.0\n",
       " 18.0      243.0\n",
       " 20.0      252.0\n",
       " 25.0      237.0\n",
       " 26.0      247.0\n",
       " 28.0      244.0\n",
       " 29.0      237.0\n",
       " 30.0      234.0\n",
       " 32.0      241.0\n",
       " 33.0      249.0\n",
       " 34.0      243.0\n",
       " 36.0      237.0\n",
       " 39.0      240.0\n",
       " 40.0      244.0\n",
       " 43.0      277.0\n",
       " 48.0      238.0\n",
       " 50.0      244.0\n",
       " 51.0      245.0\n",
       " 53.0      244.0\n",
       " 54.0      238.0\n",
       " 57.0      251.0\n",
       " 58.0      236.0\n",
       "           ...  \n",
       " 1409.0    239.0\n",
       " 1410.0    240.0\n",
       " 1411.0    238.0\n",
       " 1412.0    235.0\n",
       " 1414.0    234.0\n",
       " 1415.0    234.0\n",
       " 1416.0    245.0\n",
       " 1418.0    240.0\n",
       " 1419.0    234.0\n",
       " 1420.0    248.0\n",
       " 1422.0    244.0\n",
       " 1423.0    241.0\n",
       " 1424.0    244.0\n",
       " 1425.0    239.0\n",
       " 1426.0    245.0\n",
       " 1427.0    269.0\n",
       " 1428.0    239.0\n",
       " 1429.0    287.0\n",
       " 1430.0    258.0\n",
       " 1431.0    276.0\n",
       " 1432.0    258.0\n",
       " 1433.0    245.0\n",
       " 1434.0    239.0\n",
       " 1435.0    243.0\n",
       " 1436.0    278.0\n",
       " 1437.0    245.0\n",
       " 1439.0    236.0\n",
       " 1440.0    236.0\n",
       " 1441.0    234.0\n",
       " 1443.0    236.0\n",
       " Length: 574, dtype: float64, article_id\n",
       " 0.0       238.0\n",
       " 2.0       245.0\n",
       " 4.0       237.0\n",
       " 8.0       248.0\n",
       " 9.0       237.0\n",
       " 12.0      251.0\n",
       " 14.0      250.0\n",
       " 15.0      246.0\n",
       " 16.0      249.0\n",
       " 18.0      246.0\n",
       " 20.0      255.0\n",
       " 25.0      240.0\n",
       " 26.0      250.0\n",
       " 28.0      247.0\n",
       " 29.0      240.0\n",
       " 30.0      237.0\n",
       " 32.0      244.0\n",
       " 33.0      252.0\n",
       " 34.0      246.0\n",
       " 36.0      240.0\n",
       " 39.0      243.0\n",
       " 40.0      247.0\n",
       " 43.0      280.0\n",
       " 48.0      241.0\n",
       " 50.0      247.0\n",
       " 51.0      248.0\n",
       " 53.0      247.0\n",
       " 54.0      241.0\n",
       " 57.0      254.0\n",
       " 58.0      239.0\n",
       "           ...  \n",
       " 1409.0    242.0\n",
       " 1410.0    243.0\n",
       " 1411.0    241.0\n",
       " 1412.0    238.0\n",
       " 1414.0    237.0\n",
       " 1415.0    237.0\n",
       " 1416.0    248.0\n",
       " 1418.0    243.0\n",
       " 1419.0    237.0\n",
       " 1420.0    251.0\n",
       " 1422.0    247.0\n",
       " 1423.0    244.0\n",
       " 1424.0    247.0\n",
       " 1425.0    242.0\n",
       " 1426.0    248.0\n",
       " 1427.0    272.0\n",
       " 1428.0    242.0\n",
       " 1429.0    290.0\n",
       " 1430.0    261.0\n",
       " 1431.0    279.0\n",
       " 1432.0    261.0\n",
       " 1433.0    248.0\n",
       " 1434.0    242.0\n",
       " 1435.0    246.0\n",
       " 1436.0    281.0\n",
       " 1437.0    248.0\n",
       " 1439.0    239.0\n",
       " 1440.0    239.0\n",
       " 1441.0    237.0\n",
       " 1443.0    239.0\n",
       " Length: 574, dtype: float64, article_id\n",
       " 0.0       242.0\n",
       " 2.0       249.0\n",
       " 4.0       241.0\n",
       " 8.0       252.0\n",
       " 9.0       241.0\n",
       " 12.0      255.0\n",
       " 14.0      254.0\n",
       " 15.0      250.0\n",
       " 16.0      253.0\n",
       " 18.0      250.0\n",
       " 20.0      259.0\n",
       " 25.0      244.0\n",
       " 26.0      254.0\n",
       " 28.0      251.0\n",
       " 29.0      244.0\n",
       " 30.0      241.0\n",
       " 32.0      248.0\n",
       " 33.0      256.0\n",
       " 34.0      250.0\n",
       " 36.0      244.0\n",
       " 39.0      247.0\n",
       " 40.0      251.0\n",
       " 43.0      284.0\n",
       " 48.0      245.0\n",
       " 50.0      251.0\n",
       " 51.0      252.0\n",
       " 53.0      251.0\n",
       " 54.0      245.0\n",
       " 57.0      258.0\n",
       " 58.0      243.0\n",
       "           ...  \n",
       " 1409.0    246.0\n",
       " 1410.0    247.0\n",
       " 1411.0    245.0\n",
       " 1412.0    242.0\n",
       " 1414.0    241.0\n",
       " 1415.0    241.0\n",
       " 1416.0    252.0\n",
       " 1418.0    247.0\n",
       " 1419.0    241.0\n",
       " 1420.0    255.0\n",
       " 1422.0    251.0\n",
       " 1423.0    248.0\n",
       " 1424.0    251.0\n",
       " 1425.0    246.0\n",
       " 1426.0    252.0\n",
       " 1427.0    276.0\n",
       " 1428.0    246.0\n",
       " 1429.0    294.0\n",
       " 1430.0    265.0\n",
       " 1431.0    283.0\n",
       " 1432.0    265.0\n",
       " 1433.0    252.0\n",
       " 1434.0    246.0\n",
       " 1435.0    250.0\n",
       " 1436.0    285.0\n",
       " 1437.0    252.0\n",
       " 1439.0    243.0\n",
       " 1440.0    243.0\n",
       " 1441.0    241.0\n",
       " 1443.0    243.0\n",
       " Length: 574, dtype: float64, article_id\n",
       " 0.0       242.0\n",
       " 2.0       249.0\n",
       " 4.0       241.0\n",
       " 8.0       252.0\n",
       " 9.0       241.0\n",
       " 12.0      255.0\n",
       " 14.0      254.0\n",
       " 15.0      250.0\n",
       " 16.0      253.0\n",
       " 18.0      250.0\n",
       " 20.0      259.0\n",
       " 25.0      244.0\n",
       " 26.0      254.0\n",
       " 28.0      251.0\n",
       " 29.0      244.0\n",
       " 30.0      241.0\n",
       " 32.0      248.0\n",
       " 33.0      256.0\n",
       " 34.0      250.0\n",
       " 36.0      244.0\n",
       " 39.0      247.0\n",
       " 40.0      251.0\n",
       " 43.0      284.0\n",
       " 48.0      245.0\n",
       " 50.0      251.0\n",
       " 51.0      252.0\n",
       " 53.0      251.0\n",
       " 54.0      245.0\n",
       " 57.0      258.0\n",
       " 58.0      243.0\n",
       "           ...  \n",
       " 1409.0    246.0\n",
       " 1410.0    247.0\n",
       " 1411.0    245.0\n",
       " 1412.0    242.0\n",
       " 1414.0    241.0\n",
       " 1415.0    241.0\n",
       " 1416.0    252.0\n",
       " 1418.0    247.0\n",
       " 1419.0    241.0\n",
       " 1420.0    255.0\n",
       " 1422.0    251.0\n",
       " 1423.0    248.0\n",
       " 1424.0    251.0\n",
       " 1425.0    246.0\n",
       " 1426.0    252.0\n",
       " 1427.0    276.0\n",
       " 1428.0    246.0\n",
       " 1429.0    294.0\n",
       " 1430.0    265.0\n",
       " 1431.0    283.0\n",
       " 1432.0    265.0\n",
       " 1433.0    252.0\n",
       " 1434.0    246.0\n",
       " 1435.0    250.0\n",
       " 1436.0    285.0\n",
       " 1437.0    252.0\n",
       " 1439.0    243.0\n",
       " 1440.0    243.0\n",
       " 1441.0    241.0\n",
       " 1443.0    243.0\n",
       " Length: 574, dtype: float64, article_id\n",
       " 0.0       244.0\n",
       " 2.0       251.0\n",
       " 4.0       243.0\n",
       " 8.0       254.0\n",
       " 9.0       243.0\n",
       " 12.0      257.0\n",
       " 14.0      256.0\n",
       " 15.0      252.0\n",
       " 16.0      255.0\n",
       " 18.0      252.0\n",
       " 20.0      261.0\n",
       " 25.0      246.0\n",
       " 26.0      256.0\n",
       " 28.0      253.0\n",
       " 29.0      246.0\n",
       " 30.0      243.0\n",
       " 32.0      250.0\n",
       " 33.0      258.0\n",
       " 34.0      252.0\n",
       " 36.0      246.0\n",
       " 39.0      249.0\n",
       " 40.0      253.0\n",
       " 43.0      286.0\n",
       " 48.0      247.0\n",
       " 50.0      253.0\n",
       " 51.0      254.0\n",
       " 53.0      253.0\n",
       " 54.0      247.0\n",
       " 57.0      260.0\n",
       " 58.0      245.0\n",
       "           ...  \n",
       " 1409.0    248.0\n",
       " 1410.0    249.0\n",
       " 1411.0    247.0\n",
       " 1412.0    244.0\n",
       " 1414.0    243.0\n",
       " 1415.0    243.0\n",
       " 1416.0    254.0\n",
       " 1418.0    249.0\n",
       " 1419.0    243.0\n",
       " 1420.0    257.0\n",
       " 1422.0    253.0\n",
       " 1423.0    250.0\n",
       " 1424.0    253.0\n",
       " 1425.0    248.0\n",
       " 1426.0    254.0\n",
       " 1427.0    278.0\n",
       " 1428.0    248.0\n",
       " 1429.0    296.0\n",
       " 1430.0    267.0\n",
       " 1431.0    285.0\n",
       " 1432.0    267.0\n",
       " 1433.0    254.0\n",
       " 1434.0    248.0\n",
       " 1435.0    252.0\n",
       " 1436.0    287.0\n",
       " 1437.0    254.0\n",
       " 1439.0    245.0\n",
       " 1440.0    245.0\n",
       " 1441.0    243.0\n",
       " 1443.0    245.0\n",
       " Length: 574, dtype: float64, article_id\n",
       " 0.0       244.0\n",
       " 2.0       251.0\n",
       " 4.0       243.0\n",
       " 8.0       254.0\n",
       " 9.0       243.0\n",
       " 12.0      257.0\n",
       " 14.0      256.0\n",
       " 15.0      252.0\n",
       " 16.0      255.0\n",
       " 18.0      252.0\n",
       " 20.0      261.0\n",
       " 25.0      246.0\n",
       " 26.0      256.0\n",
       " 28.0      253.0\n",
       " 29.0      246.0\n",
       " 30.0      243.0\n",
       " 32.0      250.0\n",
       " 33.0      258.0\n",
       " 34.0      252.0\n",
       " 36.0      246.0\n",
       " 39.0      249.0\n",
       " 40.0      253.0\n",
       " 43.0      286.0\n",
       " 48.0      247.0\n",
       " 50.0      253.0\n",
       " 51.0      254.0\n",
       " 53.0      253.0\n",
       " 54.0      247.0\n",
       " 57.0      260.0\n",
       " 58.0      245.0\n",
       "           ...  \n",
       " 1409.0    248.0\n",
       " 1410.0    249.0\n",
       " 1411.0    247.0\n",
       " 1412.0    244.0\n",
       " 1414.0    243.0\n",
       " 1415.0    243.0\n",
       " 1416.0    254.0\n",
       " 1418.0    249.0\n",
       " 1419.0    243.0\n",
       " 1420.0    257.0\n",
       " 1422.0    253.0\n",
       " 1423.0    250.0\n",
       " 1424.0    253.0\n",
       " 1425.0    248.0\n",
       " 1426.0    254.0\n",
       " 1427.0    278.0\n",
       " 1428.0    248.0\n",
       " 1429.0    296.0\n",
       " 1430.0    267.0\n",
       " 1431.0    285.0\n",
       " 1432.0    267.0\n",
       " 1433.0    254.0\n",
       " 1434.0    248.0\n",
       " 1435.0    252.0\n",
       " 1436.0    287.0\n",
       " 1437.0    254.0\n",
       " 1439.0    245.0\n",
       " 1440.0    245.0\n",
       " 1441.0    243.0\n",
       " 1443.0    245.0\n",
       " Length: 574, dtype: float64, article_id\n",
       " 0.0       246.0\n",
       " 2.0       253.0\n",
       " 4.0       245.0\n",
       " 8.0       256.0\n",
       " 9.0       245.0\n",
       " 12.0      259.0\n",
       " 14.0      258.0\n",
       " 15.0      254.0\n",
       " 16.0      257.0\n",
       " 18.0      254.0\n",
       " 20.0      263.0\n",
       " 25.0      248.0\n",
       " 26.0      258.0\n",
       " 28.0      255.0\n",
       " 29.0      248.0\n",
       " 30.0      245.0\n",
       " 32.0      252.0\n",
       " 33.0      260.0\n",
       " 34.0      254.0\n",
       " 36.0      248.0\n",
       " 39.0      251.0\n",
       " 40.0      255.0\n",
       " 43.0      288.0\n",
       " 48.0      249.0\n",
       " 50.0      255.0\n",
       " 51.0      256.0\n",
       " 53.0      255.0\n",
       " 54.0      249.0\n",
       " 57.0      262.0\n",
       " 58.0      247.0\n",
       "           ...  \n",
       " 1409.0    250.0\n",
       " 1410.0    251.0\n",
       " 1411.0    249.0\n",
       " 1412.0    246.0\n",
       " 1414.0    245.0\n",
       " 1415.0    245.0\n",
       " 1416.0    256.0\n",
       " 1418.0    251.0\n",
       " 1419.0    245.0\n",
       " 1420.0    259.0\n",
       " 1422.0    255.0\n",
       " 1423.0    252.0\n",
       " 1424.0    255.0\n",
       " 1425.0    250.0\n",
       " 1426.0    256.0\n",
       " 1427.0    280.0\n",
       " 1428.0    250.0\n",
       " 1429.0    298.0\n",
       " 1430.0    269.0\n",
       " 1431.0    287.0\n",
       " 1432.0    269.0\n",
       " 1433.0    256.0\n",
       " 1434.0    250.0\n",
       " 1435.0    254.0\n",
       " 1436.0    289.0\n",
       " 1437.0    256.0\n",
       " 1439.0    247.0\n",
       " 1440.0    247.0\n",
       " 1441.0    245.0\n",
       " 1443.0    247.0\n",
       " Length: 574, dtype: float64, article_id\n",
       " 0.0       246.0\n",
       " 2.0       253.0\n",
       " 4.0       245.0\n",
       " 8.0       256.0\n",
       " 9.0       245.0\n",
       " 12.0      259.0\n",
       " 14.0      258.0\n",
       " 15.0      254.0\n",
       " 16.0      257.0\n",
       " 18.0      254.0\n",
       " 20.0      263.0\n",
       " 25.0      248.0\n",
       " 26.0      258.0\n",
       " 28.0      255.0\n",
       " 29.0      248.0\n",
       " 30.0      245.0\n",
       " 32.0      252.0\n",
       " 33.0      260.0\n",
       " 34.0      254.0\n",
       " 36.0      248.0\n",
       " 39.0      251.0\n",
       " 40.0      255.0\n",
       " 43.0      288.0\n",
       " 48.0      249.0\n",
       " 50.0      255.0\n",
       " 51.0      256.0\n",
       " 53.0      255.0\n",
       " 54.0      249.0\n",
       " 57.0      262.0\n",
       " 58.0      247.0\n",
       "           ...  \n",
       " 1409.0    250.0\n",
       " 1410.0    251.0\n",
       " 1411.0    249.0\n",
       " 1412.0    246.0\n",
       " 1414.0    245.0\n",
       " 1415.0    245.0\n",
       " 1416.0    256.0\n",
       " 1418.0    251.0\n",
       " 1419.0    245.0\n",
       " 1420.0    259.0\n",
       " 1422.0    255.0\n",
       " 1423.0    252.0\n",
       " 1424.0    255.0\n",
       " 1425.0    250.0\n",
       " 1426.0    256.0\n",
       " 1427.0    280.0\n",
       " 1428.0    250.0\n",
       " 1429.0    298.0\n",
       " 1430.0    269.0\n",
       " 1431.0    287.0\n",
       " 1432.0    269.0\n",
       " 1433.0    256.0\n",
       " 1434.0    250.0\n",
       " 1435.0    254.0\n",
       " 1436.0    289.0\n",
       " 1437.0    256.0\n",
       " 1439.0    247.0\n",
       " 1440.0    247.0\n",
       " 1441.0    245.0\n",
       " 1443.0    247.0\n",
       " Length: 574, dtype: float64, article_id\n",
       " 0.0       246.0\n",
       " 2.0       253.0\n",
       " 4.0       245.0\n",
       " 8.0       256.0\n",
       " 9.0       245.0\n",
       " 12.0      259.0\n",
       " 14.0      258.0\n",
       " 15.0      254.0\n",
       " 16.0      257.0\n",
       " 18.0      254.0\n",
       " 20.0      263.0\n",
       " 25.0      248.0\n",
       " 26.0      258.0\n",
       " 28.0      255.0\n",
       " 29.0      248.0\n",
       " 30.0      245.0\n",
       " 32.0      252.0\n",
       " 33.0      260.0\n",
       " 34.0      254.0\n",
       " 36.0      248.0\n",
       " 39.0      251.0\n",
       " 40.0      255.0\n",
       " 43.0      288.0\n",
       " 48.0      249.0\n",
       " 50.0      255.0\n",
       " 51.0      256.0\n",
       " 53.0      255.0\n",
       " 54.0      249.0\n",
       " 57.0      262.0\n",
       " 58.0      247.0\n",
       "           ...  \n",
       " 1409.0    250.0\n",
       " 1410.0    251.0\n",
       " 1411.0    249.0\n",
       " 1412.0    246.0\n",
       " 1414.0    245.0\n",
       " 1415.0    245.0\n",
       " 1416.0    256.0\n",
       " 1418.0    251.0\n",
       " 1419.0    245.0\n",
       " 1420.0    259.0\n",
       " 1422.0    255.0\n",
       " 1423.0    252.0\n",
       " 1424.0    255.0\n",
       " 1425.0    250.0\n",
       " 1426.0    256.0\n",
       " 1427.0    280.0\n",
       " 1428.0    250.0\n",
       " 1429.0    298.0\n",
       " 1430.0    269.0\n",
       " 1431.0    287.0\n",
       " 1432.0    269.0\n",
       " 1433.0    256.0\n",
       " 1434.0    250.0\n",
       " 1435.0    254.0\n",
       " 1436.0    289.0\n",
       " 1437.0    256.0\n",
       " 1439.0    247.0\n",
       " 1440.0    247.0\n",
       " 1441.0    245.0\n",
       " 1443.0    247.0\n",
       " Length: 574, dtype: float64, article_id\n",
       " 0.0       246.0\n",
       " 2.0       253.0\n",
       " 4.0       245.0\n",
       " 8.0       256.0\n",
       " 9.0       245.0\n",
       " 12.0      259.0\n",
       " 14.0      258.0\n",
       " 15.0      254.0\n",
       " 16.0      257.0\n",
       " 18.0      254.0\n",
       " 20.0      263.0\n",
       " 25.0      248.0\n",
       " 26.0      258.0\n",
       " 28.0      255.0\n",
       " 29.0      248.0\n",
       " 30.0      245.0\n",
       " 32.0      252.0\n",
       " 33.0      260.0\n",
       " 34.0      254.0\n",
       " 36.0      248.0\n",
       " 39.0      251.0\n",
       " 40.0      255.0\n",
       " 43.0      288.0\n",
       " 48.0      249.0\n",
       " 50.0      255.0\n",
       " 51.0      256.0\n",
       " 53.0      255.0\n",
       " 54.0      249.0\n",
       " 57.0      262.0\n",
       " 58.0      247.0\n",
       "           ...  \n",
       " 1409.0    250.0\n",
       " 1410.0    251.0\n",
       " 1411.0    249.0\n",
       " 1412.0    246.0\n",
       " 1414.0    245.0\n",
       " 1415.0    245.0\n",
       " 1416.0    256.0\n",
       " 1418.0    251.0\n",
       " 1419.0    245.0\n",
       " 1420.0    259.0\n",
       " 1422.0    255.0\n",
       " 1423.0    252.0\n",
       " 1424.0    255.0\n",
       " 1425.0    250.0\n",
       " 1426.0    256.0\n",
       " 1427.0    280.0\n",
       " 1428.0    250.0\n",
       " 1429.0    298.0\n",
       " 1430.0    269.0\n",
       " 1431.0    287.0\n",
       " 1432.0    269.0\n",
       " 1433.0    256.0\n",
       " 1434.0    250.0\n",
       " 1435.0    254.0\n",
       " 1436.0    289.0\n",
       " 1437.0    256.0\n",
       " 1439.0    247.0\n",
       " 1440.0    247.0\n",
       " 1441.0    245.0\n",
       " 1443.0    247.0\n",
       " Length: 574, dtype: float64, article_id\n",
       " 0.0       246.0\n",
       " 2.0       253.0\n",
       " 4.0       245.0\n",
       " 8.0       256.0\n",
       " 9.0       245.0\n",
       " 12.0      259.0\n",
       " 14.0      258.0\n",
       " 15.0      254.0\n",
       " 16.0      257.0\n",
       " 18.0      254.0\n",
       " 20.0      263.0\n",
       " 25.0      248.0\n",
       " 26.0      258.0\n",
       " 28.0      255.0\n",
       " 29.0      248.0\n",
       " 30.0      245.0\n",
       " 32.0      252.0\n",
       " 33.0      260.0\n",
       " 34.0      254.0\n",
       " 36.0      248.0\n",
       " 39.0      251.0\n",
       " 40.0      255.0\n",
       " 43.0      288.0\n",
       " 48.0      249.0\n",
       " 50.0      255.0\n",
       " 51.0      256.0\n",
       " 53.0      255.0\n",
       " 54.0      249.0\n",
       " 57.0      262.0\n",
       " 58.0      247.0\n",
       "           ...  \n",
       " 1409.0    250.0\n",
       " 1410.0    251.0\n",
       " 1411.0    249.0\n",
       " 1412.0    246.0\n",
       " 1414.0    245.0\n",
       " 1415.0    245.0\n",
       " 1416.0    256.0\n",
       " 1418.0    251.0\n",
       " 1419.0    245.0\n",
       " 1420.0    259.0\n",
       " 1422.0    255.0\n",
       " 1423.0    252.0\n",
       " 1424.0    255.0\n",
       " 1425.0    250.0\n",
       " 1426.0    256.0\n",
       " 1427.0    280.0\n",
       " 1428.0    250.0\n",
       " 1429.0    298.0\n",
       " 1430.0    269.0\n",
       " 1431.0    287.0\n",
       " 1432.0    269.0\n",
       " 1433.0    256.0\n",
       " 1434.0    250.0\n",
       " 1435.0    254.0\n",
       " 1436.0    289.0\n",
       " 1437.0    256.0\n",
       " 1439.0    247.0\n",
       " 1440.0    247.0\n",
       " 1441.0    245.0\n",
       " 1443.0    247.0\n",
       " Length: 574, dtype: float64, article_id\n",
       " 0.0       246.0\n",
       " 2.0       253.0\n",
       " 4.0       245.0\n",
       " 8.0       256.0\n",
       " 9.0       245.0\n",
       " 12.0      259.0\n",
       " 14.0      258.0\n",
       " 15.0      254.0\n",
       " 16.0      257.0\n",
       " 18.0      254.0\n",
       " 20.0      263.0\n",
       " 25.0      248.0\n",
       " 26.0      258.0\n",
       " 28.0      255.0\n",
       " 29.0      248.0\n",
       " 30.0      245.0\n",
       " 32.0      252.0\n",
       " 33.0      260.0\n",
       " 34.0      254.0\n",
       " 36.0      248.0\n",
       " 39.0      251.0\n",
       " 40.0      255.0\n",
       " 43.0      288.0\n",
       " 48.0      249.0\n",
       " 50.0      255.0\n",
       " 51.0      256.0\n",
       " 53.0      255.0\n",
       " 54.0      249.0\n",
       " 57.0      262.0\n",
       " 58.0      247.0\n",
       "           ...  \n",
       " 1409.0    250.0\n",
       " 1410.0    251.0\n",
       " 1411.0    249.0\n",
       " 1412.0    246.0\n",
       " 1414.0    245.0\n",
       " 1415.0    245.0\n",
       " 1416.0    256.0\n",
       " 1418.0    251.0\n",
       " 1419.0    245.0\n",
       " 1420.0    259.0\n",
       " 1422.0    255.0\n",
       " 1423.0    252.0\n",
       " 1424.0    255.0\n",
       " 1425.0    250.0\n",
       " 1426.0    256.0\n",
       " 1427.0    280.0\n",
       " 1428.0    250.0\n",
       " 1429.0    298.0\n",
       " 1430.0    269.0\n",
       " 1431.0    287.0\n",
       " 1432.0    269.0\n",
       " 1433.0    256.0\n",
       " 1434.0    250.0\n",
       " 1435.0    254.0\n",
       " 1436.0    289.0\n",
       " 1437.0    256.0\n",
       " 1439.0    247.0\n",
       " 1440.0    247.0\n",
       " 1441.0    245.0\n",
       " 1443.0    247.0\n",
       " Length: 574, dtype: float64, article_id\n",
       " 0.0       246.0\n",
       " 2.0       253.0\n",
       " 4.0       245.0\n",
       " 8.0       256.0\n",
       " 9.0       245.0\n",
       " 12.0      259.0\n",
       " 14.0      258.0\n",
       " 15.0      254.0\n",
       " 16.0      257.0\n",
       " 18.0      254.0\n",
       " 20.0      263.0\n",
       " 25.0      248.0\n",
       " 26.0      258.0\n",
       " 28.0      255.0\n",
       " 29.0      248.0\n",
       " 30.0      245.0\n",
       " 32.0      252.0\n",
       " 33.0      260.0\n",
       " 34.0      254.0\n",
       " 36.0      248.0\n",
       " 39.0      251.0\n",
       " 40.0      255.0\n",
       " 43.0      288.0\n",
       " 48.0      249.0\n",
       " 50.0      255.0\n",
       " 51.0      256.0\n",
       " 53.0      255.0\n",
       " 54.0      249.0\n",
       " 57.0      262.0\n",
       " 58.0      247.0\n",
       "           ...  \n",
       " 1409.0    250.0\n",
       " 1410.0    251.0\n",
       " 1411.0    249.0\n",
       " 1412.0    246.0\n",
       " 1414.0    245.0\n",
       " 1415.0    245.0\n",
       " 1416.0    256.0\n",
       " 1418.0    251.0\n",
       " 1419.0    245.0\n",
       " 1420.0    259.0\n",
       " 1422.0    255.0\n",
       " 1423.0    252.0\n",
       " 1424.0    255.0\n",
       " 1425.0    250.0\n",
       " 1426.0    256.0\n",
       " 1427.0    280.0\n",
       " 1428.0    250.0\n",
       " 1429.0    298.0\n",
       " 1430.0    269.0\n",
       " 1431.0    287.0\n",
       " 1432.0    269.0\n",
       " 1433.0    256.0\n",
       " 1434.0    250.0\n",
       " 1435.0    254.0\n",
       " 1436.0    289.0\n",
       " 1437.0    256.0\n",
       " 1439.0    247.0\n",
       " 1440.0    247.0\n",
       " 1441.0    245.0\n",
       " 1443.0    247.0\n",
       " Length: 574, dtype: float64, article_id\n",
       " 0.0       246.0\n",
       " 2.0       253.0\n",
       " 4.0       245.0\n",
       " 8.0       256.0\n",
       " 9.0       245.0\n",
       " 12.0      259.0\n",
       " 14.0      258.0\n",
       " 15.0      254.0\n",
       " 16.0      257.0\n",
       " 18.0      254.0\n",
       " 20.0      263.0\n",
       " 25.0      248.0\n",
       " 26.0      258.0\n",
       " 28.0      255.0\n",
       " 29.0      248.0\n",
       " 30.0      245.0\n",
       " 32.0      252.0\n",
       " 33.0      260.0\n",
       " 34.0      254.0\n",
       " 36.0      248.0\n",
       " 39.0      251.0\n",
       " 40.0      255.0\n",
       " 43.0      288.0\n",
       " 48.0      249.0\n",
       " 50.0      255.0\n",
       " 51.0      256.0\n",
       " 53.0      255.0\n",
       " 54.0      249.0\n",
       " 57.0      262.0\n",
       " 58.0      247.0\n",
       "           ...  \n",
       " 1409.0    250.0\n",
       " 1410.0    251.0\n",
       " 1411.0    249.0\n",
       " 1412.0    246.0\n",
       " 1414.0    245.0\n",
       " 1415.0    245.0\n",
       " 1416.0    256.0\n",
       " 1418.0    251.0\n",
       " 1419.0    245.0\n",
       " 1420.0    259.0\n",
       " 1422.0    255.0\n",
       " 1423.0    252.0\n",
       " 1424.0    255.0\n",
       " 1425.0    250.0\n",
       " 1426.0    256.0\n",
       " 1427.0    280.0\n",
       " 1428.0    250.0\n",
       " 1429.0    298.0\n",
       " 1430.0    269.0\n",
       " 1431.0    287.0\n",
       " 1432.0    269.0\n",
       " 1433.0    256.0\n",
       " 1434.0    250.0\n",
       " 1435.0    254.0\n",
       " 1436.0    289.0\n",
       " 1437.0    256.0\n",
       " 1439.0    247.0\n",
       " 1440.0    247.0\n",
       " 1441.0    245.0\n",
       " 1443.0    247.0\n",
       " Length: 574, dtype: float64, article_id\n",
       " 0.0       246.0\n",
       " 2.0       253.0\n",
       " 4.0       245.0\n",
       " 8.0       256.0\n",
       " 9.0       245.0\n",
       " 12.0      259.0\n",
       " 14.0      258.0\n",
       " 15.0      254.0\n",
       " 16.0      257.0\n",
       " 18.0      254.0\n",
       " 20.0      263.0\n",
       " 25.0      248.0\n",
       " 26.0      258.0\n",
       " 28.0      255.0\n",
       " 29.0      248.0\n",
       " 30.0      245.0\n",
       " 32.0      252.0\n",
       " 33.0      260.0\n",
       " 34.0      254.0\n",
       " 36.0      248.0\n",
       " 39.0      251.0\n",
       " 40.0      255.0\n",
       " 43.0      288.0\n",
       " 48.0      249.0\n",
       " 50.0      255.0\n",
       " 51.0      256.0\n",
       " 53.0      255.0\n",
       " 54.0      249.0\n",
       " 57.0      262.0\n",
       " 58.0      247.0\n",
       "           ...  \n",
       " 1409.0    250.0\n",
       " 1410.0    251.0\n",
       " 1411.0    249.0\n",
       " 1412.0    246.0\n",
       " 1414.0    245.0\n",
       " 1415.0    245.0\n",
       " 1416.0    256.0\n",
       " 1418.0    251.0\n",
       " 1419.0    245.0\n",
       " 1420.0    259.0\n",
       " 1422.0    255.0\n",
       " 1423.0    252.0\n",
       " 1424.0    255.0\n",
       " 1425.0    250.0\n",
       " 1426.0    256.0\n",
       " 1427.0    280.0\n",
       " 1428.0    250.0\n",
       " 1429.0    298.0\n",
       " 1430.0    269.0\n",
       " 1431.0    287.0\n",
       " 1432.0    269.0\n",
       " 1433.0    256.0\n",
       " 1434.0    250.0\n",
       " 1435.0    254.0\n",
       " 1436.0    289.0\n",
       " 1437.0    256.0\n",
       " 1439.0    247.0\n",
       " 1440.0    247.0\n",
       " 1441.0    245.0\n",
       " 1443.0    247.0\n",
       " Length: 574, dtype: float64, article_id\n",
       " 0.0       246.0\n",
       " 2.0       253.0\n",
       " 4.0       245.0\n",
       " 8.0       256.0\n",
       " 9.0       245.0\n",
       " 12.0      259.0\n",
       " 14.0      258.0\n",
       " 15.0      254.0\n",
       " 16.0      257.0\n",
       " 18.0      254.0\n",
       " 20.0      263.0\n",
       " 25.0      248.0\n",
       " 26.0      258.0\n",
       " 28.0      255.0\n",
       " 29.0      248.0\n",
       " 30.0      245.0\n",
       " 32.0      252.0\n",
       " 33.0      260.0\n",
       " 34.0      254.0\n",
       " 36.0      248.0\n",
       " 39.0      251.0\n",
       " 40.0      255.0\n",
       " 43.0      288.0\n",
       " 48.0      249.0\n",
       " 50.0      255.0\n",
       " 51.0      256.0\n",
       " 53.0      255.0\n",
       " 54.0      249.0\n",
       " 57.0      262.0\n",
       " 58.0      247.0\n",
       "           ...  \n",
       " 1409.0    250.0\n",
       " 1410.0    251.0\n",
       " 1411.0    249.0\n",
       " 1412.0    246.0\n",
       " 1414.0    245.0\n",
       " 1415.0    245.0\n",
       " 1416.0    256.0\n",
       " 1418.0    251.0\n",
       " 1419.0    245.0\n",
       " 1420.0    259.0\n",
       " 1422.0    255.0\n",
       " 1423.0    252.0\n",
       " 1424.0    255.0\n",
       " 1425.0    250.0\n",
       " 1426.0    256.0\n",
       " 1427.0    280.0\n",
       " 1428.0    250.0\n",
       " 1429.0    298.0\n",
       " 1430.0    269.0\n",
       " 1431.0    287.0\n",
       " 1432.0    269.0\n",
       " 1433.0    256.0\n",
       " 1434.0    250.0\n",
       " 1435.0    254.0\n",
       " 1436.0    289.0\n",
       " 1437.0    256.0\n",
       " 1439.0    247.0\n",
       " 1440.0    247.0\n",
       " 1441.0    245.0\n",
       " 1443.0    247.0\n",
       " Length: 574, dtype: float64, article_id\n",
       " 0.0       246.0\n",
       " 2.0       253.0\n",
       " 4.0       245.0\n",
       " 8.0       256.0\n",
       " 9.0       245.0\n",
       " 12.0      259.0\n",
       " 14.0      258.0\n",
       " 15.0      254.0\n",
       " 16.0      257.0\n",
       " 18.0      254.0\n",
       " 20.0      263.0\n",
       " 25.0      248.0\n",
       " 26.0      258.0\n",
       " 28.0      255.0\n",
       " 29.0      248.0\n",
       " 30.0      245.0\n",
       " 32.0      252.0\n",
       " 33.0      260.0\n",
       " 34.0      254.0\n",
       " 36.0      248.0\n",
       " 39.0      251.0\n",
       " 40.0      255.0\n",
       " 43.0      288.0\n",
       " 48.0      249.0\n",
       " 50.0      255.0\n",
       " 51.0      256.0\n",
       " 53.0      255.0\n",
       " 54.0      249.0\n",
       " 57.0      262.0\n",
       " 58.0      247.0\n",
       "           ...  \n",
       " 1409.0    250.0\n",
       " 1410.0    251.0\n",
       " 1411.0    249.0\n",
       " 1412.0    246.0\n",
       " 1414.0    245.0\n",
       " 1415.0    245.0\n",
       " 1416.0    256.0\n",
       " 1418.0    251.0\n",
       " 1419.0    245.0\n",
       " 1420.0    259.0\n",
       " 1422.0    255.0\n",
       " 1423.0    252.0\n",
       " 1424.0    255.0\n",
       " 1425.0    250.0\n",
       " 1426.0    256.0\n",
       " 1427.0    280.0\n",
       " 1428.0    250.0\n",
       " 1429.0    298.0\n",
       " 1430.0    269.0\n",
       " 1431.0    287.0\n",
       " 1432.0    269.0\n",
       " 1433.0    256.0\n",
       " 1434.0    250.0\n",
       " 1435.0    254.0\n",
       " 1436.0    289.0\n",
       " 1437.0    256.0\n",
       " 1439.0    247.0\n",
       " 1440.0    247.0\n",
       " 1441.0    245.0\n",
       " 1443.0    247.0\n",
       " Length: 574, dtype: float64, article_id\n",
       " 0.0       246.0\n",
       " 2.0       253.0\n",
       " 4.0       245.0\n",
       " 8.0       256.0\n",
       " 9.0       245.0\n",
       " 12.0      259.0\n",
       " 14.0      258.0\n",
       " 15.0      254.0\n",
       " 16.0      257.0\n",
       " 18.0      254.0\n",
       " 20.0      263.0\n",
       " 25.0      248.0\n",
       " 26.0      258.0\n",
       " 28.0      255.0\n",
       " 29.0      248.0\n",
       " 30.0      245.0\n",
       " 32.0      252.0\n",
       " 33.0      260.0\n",
       " 34.0      254.0\n",
       " 36.0      248.0\n",
       " 39.0      251.0\n",
       " 40.0      255.0\n",
       " 43.0      288.0\n",
       " 48.0      249.0\n",
       " 50.0      255.0\n",
       " 51.0      256.0\n",
       " 53.0      255.0\n",
       " 54.0      249.0\n",
       " 57.0      262.0\n",
       " 58.0      247.0\n",
       "           ...  \n",
       " 1409.0    250.0\n",
       " 1410.0    251.0\n",
       " 1411.0    249.0\n",
       " 1412.0    246.0\n",
       " 1414.0    245.0\n",
       " 1415.0    245.0\n",
       " 1416.0    256.0\n",
       " 1418.0    251.0\n",
       " 1419.0    245.0\n",
       " 1420.0    259.0\n",
       " 1422.0    255.0\n",
       " 1423.0    252.0\n",
       " 1424.0    255.0\n",
       " 1425.0    250.0\n",
       " 1426.0    256.0\n",
       " 1427.0    280.0\n",
       " 1428.0    250.0\n",
       " 1429.0    298.0\n",
       " 1430.0    269.0\n",
       " 1431.0    287.0\n",
       " 1432.0    269.0\n",
       " 1433.0    256.0\n",
       " 1434.0    250.0\n",
       " 1435.0    254.0\n",
       " 1436.0    289.0\n",
       " 1437.0    256.0\n",
       " 1439.0    247.0\n",
       " 1440.0    247.0\n",
       " 1441.0    245.0\n",
       " 1443.0    247.0\n",
       " Length: 574, dtype: float64, article_id\n",
       " 0.0       246.0\n",
       " 2.0       253.0\n",
       " 4.0       245.0\n",
       " 8.0       256.0\n",
       " 9.0       245.0\n",
       " 12.0      259.0\n",
       " 14.0      258.0\n",
       " 15.0      254.0\n",
       " 16.0      257.0\n",
       " 18.0      254.0\n",
       " 20.0      263.0\n",
       " 25.0      248.0\n",
       " 26.0      258.0\n",
       " 28.0      255.0\n",
       " 29.0      248.0\n",
       " 30.0      245.0\n",
       " 32.0      252.0\n",
       " 33.0      260.0\n",
       " 34.0      254.0\n",
       " 36.0      248.0\n",
       " 39.0      251.0\n",
       " 40.0      255.0\n",
       " 43.0      288.0\n",
       " 48.0      249.0\n",
       " 50.0      255.0\n",
       " 51.0      256.0\n",
       " 53.0      255.0\n",
       " 54.0      249.0\n",
       " 57.0      262.0\n",
       " 58.0      247.0\n",
       "           ...  \n",
       " 1409.0    250.0\n",
       " 1410.0    251.0\n",
       " 1411.0    249.0\n",
       " 1412.0    246.0\n",
       " 1414.0    245.0\n",
       " 1415.0    245.0\n",
       " 1416.0    256.0\n",
       " 1418.0    251.0\n",
       " 1419.0    245.0\n",
       " 1420.0    259.0\n",
       " 1422.0    255.0\n",
       " 1423.0    252.0\n",
       " 1424.0    255.0\n",
       " 1425.0    250.0\n",
       " 1426.0    256.0\n",
       " 1427.0    280.0\n",
       " 1428.0    250.0\n",
       " 1429.0    298.0\n",
       " 1430.0    269.0\n",
       " 1431.0    287.0\n",
       " 1432.0    269.0\n",
       " 1433.0    256.0\n",
       " 1434.0    250.0\n",
       " 1435.0    254.0\n",
       " 1436.0    289.0\n",
       " 1437.0    256.0\n",
       " 1439.0    247.0\n",
       " 1440.0    247.0\n",
       " 1441.0    245.0\n",
       " 1443.0    247.0\n",
       " Length: 574, dtype: float64, article_id\n",
       " 0.0       246.0\n",
       " 2.0       253.0\n",
       " 4.0       245.0\n",
       " 8.0       256.0\n",
       " 9.0       245.0\n",
       " 12.0      259.0\n",
       " 14.0      258.0\n",
       " 15.0      254.0\n",
       " 16.0      257.0\n",
       " 18.0      254.0\n",
       " 20.0      263.0\n",
       " 25.0      248.0\n",
       " 26.0      258.0\n",
       " 28.0      255.0\n",
       " 29.0      248.0\n",
       " 30.0      245.0\n",
       " 32.0      252.0\n",
       " 33.0      260.0\n",
       " 34.0      254.0\n",
       " 36.0      248.0\n",
       " 39.0      251.0\n",
       " 40.0      255.0\n",
       " 43.0      288.0\n",
       " 48.0      249.0\n",
       " 50.0      255.0\n",
       " 51.0      256.0\n",
       " 53.0      255.0\n",
       " 54.0      249.0\n",
       " 57.0      262.0\n",
       " 58.0      247.0\n",
       "           ...  \n",
       " 1409.0    250.0\n",
       " 1410.0    251.0\n",
       " 1411.0    249.0\n",
       " 1412.0    246.0\n",
       " 1414.0    245.0\n",
       " 1415.0    245.0\n",
       " 1416.0    256.0\n",
       " 1418.0    251.0\n",
       " 1419.0    245.0\n",
       " 1420.0    259.0\n",
       " 1422.0    255.0\n",
       " 1423.0    252.0\n",
       " 1424.0    255.0\n",
       " 1425.0    250.0\n",
       " 1426.0    256.0\n",
       " 1427.0    280.0\n",
       " 1428.0    250.0\n",
       " 1429.0    298.0\n",
       " 1430.0    269.0\n",
       " 1431.0    287.0\n",
       " 1432.0    269.0\n",
       " 1433.0    256.0\n",
       " 1434.0    250.0\n",
       " 1435.0    254.0\n",
       " 1436.0    289.0\n",
       " 1437.0    256.0\n",
       " 1439.0    247.0\n",
       " 1440.0    247.0\n",
       " 1441.0    245.0\n",
       " 1443.0    247.0\n",
       " Length: 574, dtype: float64, article_id\n",
       " 0.0       246.0\n",
       " 2.0       253.0\n",
       " 4.0       245.0\n",
       " 8.0       256.0\n",
       " 9.0       245.0\n",
       " 12.0      259.0\n",
       " 14.0      258.0\n",
       " 15.0      254.0\n",
       " 16.0      257.0\n",
       " 18.0      254.0\n",
       " 20.0      263.0\n",
       " 25.0      248.0\n",
       " 26.0      258.0\n",
       " 28.0      255.0\n",
       " 29.0      248.0\n",
       " 30.0      245.0\n",
       " 32.0      252.0\n",
       " 33.0      260.0\n",
       " 34.0      254.0\n",
       " 36.0      248.0\n",
       " 39.0      251.0\n",
       " 40.0      255.0\n",
       " 43.0      288.0\n",
       " 48.0      249.0\n",
       " 50.0      255.0\n",
       " 51.0      256.0\n",
       " 53.0      255.0\n",
       " 54.0      249.0\n",
       " 57.0      262.0\n",
       " 58.0      247.0\n",
       "           ...  \n",
       " 1409.0    250.0\n",
       " 1410.0    251.0\n",
       " 1411.0    249.0\n",
       " 1412.0    246.0\n",
       " 1414.0    245.0\n",
       " 1415.0    245.0\n",
       " 1416.0    256.0\n",
       " 1418.0    251.0\n",
       " 1419.0    245.0\n",
       " 1420.0    259.0\n",
       " 1422.0    255.0\n",
       " 1423.0    252.0\n",
       " 1424.0    255.0\n",
       " 1425.0    250.0\n",
       " 1426.0    256.0\n",
       " 1427.0    280.0\n",
       " 1428.0    250.0\n",
       " 1429.0    298.0\n",
       " 1430.0    269.0\n",
       " 1431.0    287.0\n",
       " 1432.0    269.0\n",
       " 1433.0    256.0\n",
       " 1434.0    250.0\n",
       " 1435.0    254.0\n",
       " 1436.0    289.0\n",
       " 1437.0    256.0\n",
       " 1439.0    247.0\n",
       " 1440.0    247.0\n",
       " 1441.0    245.0\n",
       " 1443.0    247.0\n",
       " Length: 574, dtype: float64, article_id\n",
       " 0.0       246.0\n",
       " 2.0       253.0\n",
       " 4.0       245.0\n",
       " 8.0       256.0\n",
       " 9.0       245.0\n",
       " 12.0      259.0\n",
       " 14.0      258.0\n",
       " 15.0      254.0\n",
       " 16.0      257.0\n",
       " 18.0      254.0\n",
       " 20.0      263.0\n",
       " 25.0      248.0\n",
       " 26.0      258.0\n",
       " 28.0      255.0\n",
       " 29.0      248.0\n",
       " 30.0      245.0\n",
       " 32.0      252.0\n",
       " 33.0      260.0\n",
       " 34.0      254.0\n",
       " 36.0      248.0\n",
       " 39.0      251.0\n",
       " 40.0      255.0\n",
       " 43.0      288.0\n",
       " 48.0      249.0\n",
       " 50.0      255.0\n",
       " 51.0      256.0\n",
       " 53.0      255.0\n",
       " 54.0      249.0\n",
       " 57.0      262.0\n",
       " 58.0      247.0\n",
       "           ...  \n",
       " 1409.0    250.0\n",
       " 1410.0    251.0\n",
       " 1411.0    249.0\n",
       " 1412.0    246.0\n",
       " 1414.0    245.0\n",
       " 1415.0    245.0\n",
       " 1416.0    256.0\n",
       " 1418.0    251.0\n",
       " 1419.0    245.0\n",
       " 1420.0    259.0\n",
       " 1422.0    255.0\n",
       " 1423.0    252.0\n",
       " 1424.0    255.0\n",
       " 1425.0    250.0\n",
       " 1426.0    256.0\n",
       " 1427.0    280.0\n",
       " 1428.0    250.0\n",
       " 1429.0    298.0\n",
       " 1430.0    269.0\n",
       " 1431.0    287.0\n",
       " 1432.0    269.0\n",
       " 1433.0    256.0\n",
       " 1434.0    250.0\n",
       " 1435.0    254.0\n",
       " 1436.0    289.0\n",
       " 1437.0    256.0\n",
       " 1439.0    247.0\n",
       " 1440.0    247.0\n",
       " 1441.0    245.0\n",
       " 1443.0    247.0\n",
       " Length: 574, dtype: float64]"
      ]
     },
     "execution_count": 83,
     "metadata": {},
     "output_type": "execute_result"
    }
   ],
   "source": [
    "sum_errs_total"
   ]
  },
  {
   "cell_type": "code",
   "execution_count": 85,
   "metadata": {
    "ExecuteTime": {
     "end_time": "2019-03-04T07:40:26.883334Z",
     "start_time": "2019-03-04T07:40:26.754610Z"
    }
   },
   "outputs": [
    {
     "data": {
      "image/png": "[encoded data removed]",
      "text/plain": [
       "<Figure size 432x288 with 1 Axes>"
      ]
     },
     "metadata": {
      "needs_background": "light"
     },
     "output_type": "display_data"
    }
   ],
   "source": [
    "plt.plot(\n",
    "    num_latent_feats,\n",
    "    1 - np.array(sum_errs_train) / user_item_train.size,\n",
    "    label='Train')\n",
    "plt.plot(\n",
    "    num_latent_feats,\n",
    "    1 - np.array(sum_errs_test) / user_item_test.size,\n",
    "    label='Test')\n",
    "# plt.plot(\n",
    "#     num_latent_feats,\n",
    "#     1 - np.array(sum_errs_total) / user_item_test.size,\n",
    "#     label='Total')\n",
    "plt.xlabel('Number of Latent Features')\n",
    "plt.ylabel('Accuracy')\n",
    "plt.title('Accuracy vs. Number of Latent Features')\n",
    "plt.legend();"
   ]
  },
  {
   "cell_type": "markdown",
   "metadata": {
    "collapsed": true
   },
   "source": [
    "`6.` Use the cell below to comment on the results you found in the previous question. Given the circumstances of your results, discuss what you might do to determine if the recommendations you make with any of the above recommendation systems are an improvement to how users currently find articles? "
   ]
  },
  {
   "cell_type": "markdown",
   "metadata": {},
   "source": [
    "**Your response here.**\n",
    "***\n",
    "***My comments***\n",
    "The results show that the training prediction accuracy increases with the increase with the number of latent features, till it approaches 1.00 when the number of latent features equals the number of items.\n",
    "\n",
    "On the other hand, the prediction accuracy decreases slightly with the increase of the latent features, which is a bit strange! However it could be attributed to the small number of common users and articles between the training and testing datasets, which might lead to overfitting problems (we use the data of about 4000 users to test for 20 users only)\n",
    "\n",
    "In all ways, the accuracy is above 0.998 for the testing dataset, which is very good. Nevertheless, it is advised to \n",
    "1. use small number  of latent features\n",
    "2. increase the size of the training and testing datasets.\n",
    "3. perform several trainings and testing on random interactions (not as we did hhere by selecting head and tail of a dataset), we could select using `df.sample(0.8 * df.shape[0])` for training and the same for testing by replacing `0.2` by the `0.8` in the formula."
   ]
  },
  {
   "cell_type": "markdown",
   "metadata": {
    "collapsed": true
   },
   "source": [
    "<a id='conclusions'></a>\n",
    "### Extras\n",
    "Using your workbook, you could now save your recommendations for each user, develop a class to make new predictions and update your results, and make a flask app to deploy your results.  These tasks are beyond what is required for this project.  However, from what you learned in the lessons, you certainly capable of taking these tasks on to improve upon your work here!\n",
    "\n",
    "\n",
    "## Conclusion\n",
    "\n",
    "> Congratulations!  You have reached the end of the Recommendations with IBM project! \n",
    "\n",
    "> **Tip**: Once you are satisfied with your work here, check over your report to make sure that it is satisfies all the areas of the [rubric](https://review.udacity.com/#!/rubrics/2322/view). You should also probably remove all of the \"Tips\" like this one so that the presentation is as polished as possible.\n",
    "\n",
    "\n",
    "## Directions to Submit\n",
    "\n",
    "> Before you submit your project, you need to create a .html or .pdf version of this notebook in the workspace here. To do that, run the code cell below. If it worked correctly, you should get a return code of 0, and you should see the generated .html file in the workspace directory (click on the orange Jupyter icon in the upper left).\n",
    "\n",
    "> Alternatively, you can download this report as .html via the **File** > **Download as** submenu, and then manually upload it into the workspace directory by clicking on the orange Jupyter icon in the upper left, then using the Upload button.\n",
    "\n",
    "> Once you've done this, you can submit your project by clicking on the \"Submit Project\" button in the lower right here. This will create and submit a zip file with this .ipynb doc and the .html or .pdf version you created. Congratulations! "
   ]
  },
  {
   "cell_type": "code",
   "execution_count": null,
   "metadata": {
    "ExecuteTime": {
     "end_time": "2019-03-03T13:03:27.069520Z",
     "start_time": "2019-03-03T13:03:25.140679Z"
    }
   },
   "outputs": [],
   "source": [
    "from subprocess import call\n",
    "call(['python', '-m', 'nbconvert', 'Recommendations_with_IBM.ipynb'])"
   ]
  },
  {
   "cell_type": "markdown",
   "metadata": {},
   "source": [
    "# mmmm\n"
   ]
  },
  {
   "cell_type": "code",
   "execution_count": 3,
   "metadata": {
    "ExecuteTime": {
     "end_time": "2019-03-04T10:37:13.482426Z",
     "start_time": "2019-03-04T10:37:13.450513Z"
    }
   },
   "outputs": [
    {
     "data": {
      "text/html": [
       "<div>\n",
       "<style scoped>\n",
       "    .dataframe tbody tr th:only-of-type {\n",
       "        vertical-align: middle;\n",
       "    }\n",
       "\n",
       "    .dataframe tbody tr th {\n",
       "        vertical-align: top;\n",
       "    }\n",
       "\n",
       "    .dataframe thead th {\n",
       "        text-align: right;\n",
       "    }\n",
       "</style>\n",
       "<table border=\"1\" class=\"dataframe\">\n",
       "  <thead>\n",
       "    <tr style=\"text-align: right;\">\n",
       "      <th>article_id</th>\n",
       "      <th>0.0</th>\n",
       "      <th>100.0</th>\n",
       "      <th>1000.0</th>\n",
       "      <th>1004.0</th>\n",
       "      <th>1006.0</th>\n",
       "      <th>1008.0</th>\n",
       "      <th>101.0</th>\n",
       "      <th>1014.0</th>\n",
       "      <th>1015.0</th>\n",
       "      <th>1016.0</th>\n",
       "      <th>...</th>\n",
       "      <th>977.0</th>\n",
       "      <th>98.0</th>\n",
       "      <th>981.0</th>\n",
       "      <th>984.0</th>\n",
       "      <th>985.0</th>\n",
       "      <th>986.0</th>\n",
       "      <th>990.0</th>\n",
       "      <th>993.0</th>\n",
       "      <th>996.0</th>\n",
       "      <th>997.0</th>\n",
       "    </tr>\n",
       "    <tr>\n",
       "      <th>user_id</th>\n",
       "      <th></th>\n",
       "      <th></th>\n",
       "      <th></th>\n",
       "      <th></th>\n",
       "      <th></th>\n",
       "      <th></th>\n",
       "      <th></th>\n",
       "      <th></th>\n",
       "      <th></th>\n",
       "      <th></th>\n",
       "      <th></th>\n",
       "      <th></th>\n",
       "      <th></th>\n",
       "      <th></th>\n",
       "      <th></th>\n",
       "      <th></th>\n",
       "      <th></th>\n",
       "      <th></th>\n",
       "      <th></th>\n",
       "      <th></th>\n",
       "      <th></th>\n",
       "    </tr>\n",
       "  </thead>\n",
       "  <tbody>\n",
       "    <tr>\n",
       "      <th>1</th>\n",
       "      <td>0.0</td>\n",
       "      <td>0.0</td>\n",
       "      <td>0.0</td>\n",
       "      <td>0.0</td>\n",
       "      <td>0.0</td>\n",
       "      <td>0.0</td>\n",
       "      <td>0.0</td>\n",
       "      <td>0.0</td>\n",
       "      <td>0.0</td>\n",
       "      <td>0.0</td>\n",
       "      <td>...</td>\n",
       "      <td>0.0</td>\n",
       "      <td>0.0</td>\n",
       "      <td>1.0</td>\n",
       "      <td>0.0</td>\n",
       "      <td>0.0</td>\n",
       "      <td>0.0</td>\n",
       "      <td>0.0</td>\n",
       "      <td>0.0</td>\n",
       "      <td>0.0</td>\n",
       "      <td>0.0</td>\n",
       "    </tr>\n",
       "    <tr>\n",
       "      <th>2</th>\n",
       "      <td>0.0</td>\n",
       "      <td>0.0</td>\n",
       "      <td>0.0</td>\n",
       "      <td>0.0</td>\n",
       "      <td>0.0</td>\n",
       "      <td>0.0</td>\n",
       "      <td>0.0</td>\n",
       "      <td>0.0</td>\n",
       "      <td>0.0</td>\n",
       "      <td>0.0</td>\n",
       "      <td>...</td>\n",
       "      <td>0.0</td>\n",
       "      <td>0.0</td>\n",
       "      <td>0.0</td>\n",
       "      <td>0.0</td>\n",
       "      <td>0.0</td>\n",
       "      <td>0.0</td>\n",
       "      <td>0.0</td>\n",
       "      <td>0.0</td>\n",
       "      <td>0.0</td>\n",
       "      <td>0.0</td>\n",
       "    </tr>\n",
       "  </tbody>\n",
       "</table>\n",
       "<p>2 rows × 714 columns</p>\n",
       "</div>"
      ],
      "text/plain": [
       "article_id  0.0  100.0  1000.0  1004.0  1006.0  1008.0  101.0  1014.0  1015.0  \\\n",
       "user_id                                                                         \n",
       "1           0.0    0.0     0.0     0.0     0.0     0.0    0.0     0.0     0.0   \n",
       "2           0.0    0.0     0.0     0.0     0.0     0.0    0.0     0.0     0.0   \n",
       "\n",
       "article_id  1016.0  ...  977.0  98.0  981.0  984.0  985.0  986.0  990.0  \\\n",
       "user_id             ...                                                   \n",
       "1              0.0  ...    0.0   0.0    1.0    0.0    0.0    0.0    0.0   \n",
       "2              0.0  ...    0.0   0.0    0.0    0.0    0.0    0.0    0.0   \n",
       "\n",
       "article_id  993.0  996.0  997.0  \n",
       "user_id                          \n",
       "1             0.0    0.0    0.0  \n",
       "2             0.0    0.0    0.0  \n",
       "\n",
       "[2 rows x 714 columns]"
      ]
     },
     "execution_count": 3,
     "metadata": {},
     "output_type": "execute_result"
    }
   ],
   "source": [
    "user_item_matrix = pd.read_pickle('user_item_matrix.p')\n",
    "user_item_matrix.head(2)"
   ]
  },
  {
   "cell_type": "code",
   "execution_count": 4,
   "metadata": {
    "ExecuteTime": {
     "end_time": "2019-03-04T10:37:15.563857Z",
     "start_time": "2019-03-04T10:37:14.577496Z"
    }
   },
   "outputs": [
    {
     "data": {
      "text/plain": [
       "((5149, 5149), (714,), (714, 714))"
      ]
     },
     "execution_count": 4,
     "metadata": {},
     "output_type": "execute_result"
    }
   ],
   "source": [
    "# Perform SVD on the User-Item Matrix \n",
    "u, s, vt = np.linalg.svd(user_item_matrix)\n",
    "u.shape, s.shape, vt.shape"
   ]
  },
  {
   "cell_type": "code",
   "execution_count": 5,
   "metadata": {
    "ExecuteTime": {
     "end_time": "2019-03-04T10:37:30.539790Z",
     "start_time": "2019-03-04T10:37:26.839690Z"
    }
   },
   "outputs": [],
   "source": [
    "sum_errs = []\n",
    "num_latent_feats=np.arange(10,710,20)\n",
    "for k in num_latent_feats:\n",
    "    # restructure with k latent features\n",
    "    u_new = u[:, :k]\n",
    "    s_new = np.diag(s[:k])\n",
    "    vt_new = vt[:k, :]\n",
    "    \n",
    "    est_mtx = np.around(np.dot(np.dot(u_new,s_new), vt_new))\n",
    "\n",
    "    # compute error for each prediction to actual value\n",
    "    diffs = np.subtract(user_item_matrix, est_mtx)\n",
    "    # total errors and keep track of them\n",
    "    err = np.sum(np.sum(np.abs(diffs))) #first sum cols then rows\n",
    "    sum_errs.append(err)"
   ]
  },
  {
   "cell_type": "code",
   "execution_count": 6,
   "metadata": {
    "ExecuteTime": {
     "end_time": "2019-03-04T10:37:31.412455Z",
     "start_time": "2019-03-04T10:37:31.256872Z"
    }
   },
   "outputs": [
    {
     "data": {
      "image/png": "[encoded data removed]",
      "text/plain": [
       "<Figure size 432x288 with 1 Axes>"
      ]
     },
     "metadata": {
      "needs_background": "light"
     },
     "output_type": "display_data"
    }
   ],
   "source": [
    "plt.plot(num_latent_feats, 1 - (np.array(sum_errs)/(user_item_matrix.shape[0]*user_item_matrix.shape[1])),\n",
    "        label='all');\n",
    "plt.legend(loc='best')\n",
    "plt.xlabel('Number of Latent Features');\n",
    "plt.ylabel('Accuracy');\n",
    "plt.title('Accuracy vs. Number of Latent Features');\n",
    "plt.show();"
   ]
  },
  {
   "cell_type": "code",
   "execution_count": 7,
   "metadata": {
    "ExecuteTime": {
     "end_time": "2019-03-04T10:37:33.063040Z",
     "start_time": "2019-03-04T10:37:33.038107Z"
    }
   },
   "outputs": [
    {
     "data": {
      "text/html": [
       "<div>\n",
       "<style scoped>\n",
       "    .dataframe tbody tr th:only-of-type {\n",
       "        vertical-align: middle;\n",
       "    }\n",
       "\n",
       "    .dataframe tbody tr th {\n",
       "        vertical-align: top;\n",
       "    }\n",
       "\n",
       "    .dataframe thead th {\n",
       "        text-align: right;\n",
       "    }\n",
       "</style>\n",
       "<table border=\"1\" class=\"dataframe\">\n",
       "  <thead>\n",
       "    <tr style=\"text-align: right;\">\n",
       "      <th></th>\n",
       "      <th>article_id</th>\n",
       "      <th>title</th>\n",
       "      <th>user_id</th>\n",
       "    </tr>\n",
       "  </thead>\n",
       "  <tbody>\n",
       "    <tr>\n",
       "      <th>0</th>\n",
       "      <td>1430.0</td>\n",
       "      <td>using pixiedust for fast, flexible, and easier...</td>\n",
       "      <td>1</td>\n",
       "    </tr>\n",
       "    <tr>\n",
       "      <th>1</th>\n",
       "      <td>1314.0</td>\n",
       "      <td>healthcare python streaming application demo</td>\n",
       "      <td>2</td>\n",
       "    </tr>\n",
       "    <tr>\n",
       "      <th>2</th>\n",
       "      <td>1429.0</td>\n",
       "      <td>use deep learning for image classification</td>\n",
       "      <td>3</td>\n",
       "    </tr>\n",
       "    <tr>\n",
       "      <th>3</th>\n",
       "      <td>1338.0</td>\n",
       "      <td>ml optimization using cognitive assistant</td>\n",
       "      <td>4</td>\n",
       "    </tr>\n",
       "    <tr>\n",
       "      <th>4</th>\n",
       "      <td>1276.0</td>\n",
       "      <td>deploy your python model as a restful api</td>\n",
       "      <td>5</td>\n",
       "    </tr>\n",
       "  </tbody>\n",
       "</table>\n",
       "</div>"
      ],
      "text/plain": [
       "   article_id                                              title  user_id\n",
       "0      1430.0  using pixiedust for fast, flexible, and easier...        1\n",
       "1      1314.0       healthcare python streaming application demo        2\n",
       "2      1429.0         use deep learning for image classification        3\n",
       "3      1338.0          ml optimization using cognitive assistant        4\n",
       "4      1276.0          deploy your python model as a restful api        5"
      ]
     },
     "execution_count": 7,
     "metadata": {},
     "output_type": "execute_result"
    }
   ],
   "source": [
    "def email_mapper():\n",
    "    coded_dict = dict()\n",
    "    cter = 1\n",
    "    email_encoded = []\n",
    "    \n",
    "    for val in df['email']:\n",
    "        if val not in coded_dict:\n",
    "            coded_dict[val] = cter\n",
    "            cter+=1\n",
    "        \n",
    "        email_encoded.append(coded_dict[val])\n",
    "    return email_encoded\n",
    "\n",
    "email_encoded = email_mapper()\n",
    "del df['email']\n",
    "df['user_id'] = email_encoded\n",
    "\n",
    "# show header\n",
    "df.head()"
   ]
  },
  {
   "cell_type": "code",
   "execution_count": 8,
   "metadata": {
    "ExecuteTime": {
     "end_time": "2019-03-04T10:37:35.106573Z",
     "start_time": "2019-03-04T10:37:35.101586Z"
    }
   },
   "outputs": [],
   "source": [
    "df_train = df.head(40000)\n",
    "df_test = df.tail(5993)"
   ]
  },
  {
   "cell_type": "code",
   "execution_count": 9,
   "metadata": {
    "ExecuteTime": {
     "end_time": "2019-03-04T10:37:36.442000Z",
     "start_time": "2019-03-04T10:37:36.435020Z"
    }
   },
   "outputs": [
    {
     "data": {
      "text/html": [
       "<div>\n",
       "<style scoped>\n",
       "    .dataframe tbody tr th:only-of-type {\n",
       "        vertical-align: middle;\n",
       "    }\n",
       "\n",
       "    .dataframe tbody tr th {\n",
       "        vertical-align: top;\n",
       "    }\n",
       "\n",
       "    .dataframe thead th {\n",
       "        text-align: right;\n",
       "    }\n",
       "</style>\n",
       "<table border=\"1\" class=\"dataframe\">\n",
       "  <thead>\n",
       "    <tr style=\"text-align: right;\">\n",
       "      <th></th>\n",
       "      <th>article_id</th>\n",
       "      <th>title</th>\n",
       "      <th>user_id</th>\n",
       "    </tr>\n",
       "  </thead>\n",
       "  <tbody>\n",
       "    <tr>\n",
       "      <th>0</th>\n",
       "      <td>1430.0</td>\n",
       "      <td>using pixiedust for fast, flexible, and easier...</td>\n",
       "      <td>1</td>\n",
       "    </tr>\n",
       "  </tbody>\n",
       "</table>\n",
       "</div>"
      ],
      "text/plain": [
       "   article_id                                              title  user_id\n",
       "0      1430.0  using pixiedust for fast, flexible, and easier...        1"
      ]
     },
     "execution_count": 9,
     "metadata": {},
     "output_type": "execute_result"
    }
   ],
   "source": [
    "df.head(1)"
   ]
  },
  {
   "cell_type": "code",
   "execution_count": 10,
   "metadata": {
    "ExecuteTime": {
     "end_time": "2019-03-04T10:37:40.560980Z",
     "start_time": "2019-03-04T10:37:40.556990Z"
    }
   },
   "outputs": [],
   "source": [
    "def create_user_item_matrix(df):\n",
    "    '''\n",
    "    INPUT:\n",
    "    df - pandas dataframe with article_id, title, user_id columns\n",
    "    \n",
    "    OUTPUT:\n",
    "    user_item - user item matrix \n",
    "    \n",
    "    Description:\n",
    "    Return a matrix with user ids as rows and article ids on the columns with 1 values where a user interacted with \n",
    "    an article and a 0 otherwise\n",
    "    '''\n",
    "    mapping = {True:1, False:0}\n",
    "    \n",
    "    user_item_df = df.groupby(['user_id', 'article_id'])['title'].max().unstack()\n",
    "    user_item_df = ~user_item_df.isnull() #True is not empty, false is empty\n",
    "    user_item = user_item_df.applymap(lambda x: mapping[x])\n",
    "    \n",
    "    return user_item # return the user_item matrix \n",
    "\n",
    "# user_item = create_user_item_matrix(df)"
   ]
  },
  {
   "cell_type": "code",
   "execution_count": 11,
   "metadata": {
    "ExecuteTime": {
     "end_time": "2019-03-04T10:37:46.124123Z",
     "start_time": "2019-03-04T10:37:42.466882Z"
    }
   },
   "outputs": [
    {
     "data": {
      "text/plain": [
       "((4487, 714), (682, 574))"
      ]
     },
     "execution_count": 11,
     "metadata": {},
     "output_type": "execute_result"
    }
   ],
   "source": [
    "def create_test_and_train_user_item(df_train, df_test):\n",
    "    '''\n",
    "    INPUT:\n",
    "    df_train - training dataframe\n",
    "    df_test - test dataframe\n",
    "    \n",
    "    OUTPUT:\n",
    "    user_item_train - a user-item matrix of the training dataframe \n",
    "                      (unique users for each row and unique articles for each column)\n",
    "    user_item_test - a user-item matrix of the testing dataframe \n",
    "                    (unique users for each row and unique articles for each column)\n",
    "    test_idx - all of the test user ids\n",
    "    test_arts - all of the test article ids\n",
    "    \n",
    "    '''\n",
    "    user_item_train = create_user_item_matrix(df_train)\n",
    "    user_item_test = create_user_item_matrix(df_test)\n",
    "\n",
    "    test_idx = user_item_test.index\n",
    "    test_arts = user_item_test.columns\n",
    "    return user_item_train, user_item_test, test_idx, test_arts\n",
    "\n",
    "user_item_train, user_item_test, test_idx, test_arts = create_test_and_train_user_item(df_train, df_test)\n",
    "user_item_train.shape, user_item_test.shape"
   ]
  },
  {
   "cell_type": "code",
   "execution_count": 12,
   "metadata": {
    "ExecuteTime": {
     "end_time": "2019-03-04T10:37:47.809587Z",
     "start_time": "2019-03-04T10:37:47.762713Z"
    }
   },
   "outputs": [
    {
     "data": {
      "text/plain": [
       "(29264, 4445, 3265571, 431455.0)"
      ]
     },
     "execution_count": 12,
     "metadata": {},
     "output_type": "execute_result"
    }
   ],
   "source": [
    "user_item_train.sum().sum(), user_item_test.sum().sum(), sum(test_idx), sum(test_arts)"
   ]
  },
  {
   "cell_type": "code",
   "execution_count": 13,
   "metadata": {
    "ExecuteTime": {
     "end_time": "2019-03-04T10:37:49.176929Z",
     "start_time": "2019-03-04T10:37:49.169977Z"
    }
   },
   "outputs": [
    {
     "name": "stdout",
     "output_type": "stream",
     "text": [
      "common idx\n",
      " [3968, 4487, 4231, 3093, 3989, 3990, 3740, 3998, 4002, 4274, 3777, 4293, 3527, 3532, 3024, 3801, 3684, 2917, 4204, 3193] len:  20\n",
      "\n",
      "common cols\n",
      " Float64Index([   0.0,    2.0,    4.0,    8.0,    9.0,   12.0,   14.0,   15.0,\n",
      "                16.0,   18.0,\n",
      "              ...\n",
      "              1432.0, 1433.0, 1434.0, 1435.0, 1436.0, 1437.0, 1439.0, 1440.0,\n",
      "              1441.0, 1443.0],\n",
      "             dtype='float64', name='article_id', length=574) len:  574\n"
     ]
    }
   ],
   "source": [
    "train_idx = user_item_train.index\n",
    "common_idx = list(set(train_idx)&set(test_idx)) #users in both train and test set\n",
    "common_cols = user_item_train.columns.intersection(test_arts)\n",
    "print(\"common idx\\n\",common_idx, \"len: \", len(common_idx))\n",
    "print(\"\\ncommon cols\\n\",common_cols, \"len: \", len(common_cols))"
   ]
  },
  {
   "cell_type": "code",
   "execution_count": 14,
   "metadata": {
    "ExecuteTime": {
     "end_time": "2019-03-04T10:37:51.521655Z",
     "start_time": "2019-03-04T10:37:50.607104Z"
    }
   },
   "outputs": [
    {
     "name": "stdout",
     "output_type": "stream",
     "text": [
      "train:  (4487, 4487) (714,) (714, 714)\n",
      "test:  (20, 4487) (714, 574)\n"
     ]
    }
   ],
   "source": [
    "# fit SVD on the user_item_train matrix\n",
    "u_train, s_train, vt_train = np.linalg.svd(user_item_train)\n",
    "print('train: ', u_train.shape, s_train.shape, vt_train.shape)\n",
    "#get the index of the common users in train and test idx\n",
    "train_common_idx = user_item_train.index.isin(test_idx)\n",
    "train_common_col = user_item_train.columns.isin(test_arts)\n",
    "#get the index of the common users in train and test idx\n",
    "# train_common_idx = user_item_train.index.isin(test_idx)\n",
    "# train_common_col = user_item_train.columns.isin(test_arts)\n",
    "u_test = u_train[train_common_idx, :]\n",
    "vt_test= vt_train[:, train_common_col]\n",
    "print('test: ', u_test.shape, vt_test.shape)\n",
    "\n",
    "user_item_test = user_item_test.loc[common_idx]"
   ]
  },
  {
   "cell_type": "code",
   "execution_count": 67,
   "metadata": {
    "ExecuteTime": {
     "end_time": "2019-03-04T10:21:36.844290Z",
     "start_time": "2019-03-04T10:21:35.942702Z"
    }
   },
   "outputs": [
    {
     "data": {
      "text/plain": [
       "count    1148.000000\n",
       "mean       10.000000\n",
       "std        14.142136\n",
       "min         0.000000\n",
       "25%         5.000000\n",
       "50%        10.000000\n",
       "75%        15.000000\n",
       "max        20.000000\n",
       "dtype: float64"
      ]
     },
     "execution_count": 67,
     "metadata": {},
     "output_type": "execute_result"
    }
   ],
   "source": [
    "user_item_test.loc[[4487,4231]].describe().sum(axis=1)"
   ]
  },
  {
   "cell_type": "code",
   "execution_count": 15,
   "metadata": {
    "ExecuteTime": {
     "end_time": "2019-03-04T10:37:59.112347Z",
     "start_time": "2019-03-04T10:37:59.038545Z"
    }
   },
   "outputs": [],
   "source": [
    "k=15\n",
    "u_train_lat, s_train_lat, vt_train_lat = u_train[:, :k], np.diag(s_train[:k]), vt_train[:k, :]\n",
    "u_test_lat, vt_test_lat = u_test[:, :k], vt_test[:k,:]\n",
    "user_item_train_preds = np.around(np.dot(np.dot(u_train_lat, s_train_lat), vt_train_lat))\n",
    "user_item_test_preds = np.around(np.dot(np.dot(u_test_lat, s_train_lat), vt_test_lat))\n",
    "# all_errs.append(1 - ((np.sum(user_item_test_preds)+np.sum(np.sum(user_item_test)))/(user_item_test.shape[0]*user_item_test.shape[1])))\n",
    "#calculate error\n",
    "diffs_train = np.subtract(user_item_train, user_item_train_preds)\n",
    "diffs_test = np.subtract(user_item_test.loc[common_idx, :], user_item_test_preds)\n",
    "train_err = np.sum(np.sum(np.abs(diffs_train))) #first sum cols then rows\n",
    "# sum_train_errs.append(train_err)\n",
    "\n",
    "test_err = np.sum(np.sum(np.abs(diffs_test))) #first sum cols then rows\n",
    "# sum_test_errs.append(test_err)"
   ]
  },
  {
   "cell_type": "code",
   "execution_count": 16,
   "metadata": {
    "ExecuteTime": {
     "end_time": "2019-03-04T10:38:00.265266Z",
     "start_time": "2019-03-04T10:38:00.255290Z"
    }
   },
   "outputs": [
    {
     "name": "stdout",
     "output_type": "stream",
     "text": [
      "[-56.34871625622461, 301.25043576520625, -19.949637744286633, -0.28221490002804894, -20.161143042071448, 5565.0, 58.0] 567618.0 431455.0 24753.0 260.0\n"
     ]
    }
   ],
   "source": [
    "print([\n",
    "    tst.sum()\n",
    "    for tst in (u_train_lat, s_train_lat, vt_train_lat, u_test_lat,\n",
    "                vt_test_lat, user_item_train_preds, user_item_test_preds,\n",
    "               )\n",
    "], sum(diffs_train), sum(diffs_test), train_err, test_err)\n"
   ]
  },
  {
   "cell_type": "code",
   "execution_count": 70,
   "metadata": {
    "ExecuteTime": {
     "end_time": "2019-03-04T10:26:18.411989Z",
     "start_time": "2019-03-04T10:26:18.375087Z"
    }
   },
   "outputs": [
    {
     "data": {
      "text/plain": [
       "(24753.0, 260.0)"
      ]
     },
     "execution_count": 70,
     "metadata": {},
     "output_type": "execute_result"
    }
   ],
   "source": [
    "sum(diffs_train)\n",
    "diffs_train\n",
    "np.sum(np.sum(np.abs(diffs_train))), np.sum(np.sum(np.abs(diffs_test)))"
   ]
  },
  {
   "cell_type": "code",
   "execution_count": 52,
   "metadata": {
    "ExecuteTime": {
     "end_time": "2019-03-04T09:17:23.916567Z",
     "start_time": "2019-03-04T09:17:23.909586Z"
    }
   },
   "outputs": [
    {
     "data": {
      "text/plain": [
       "user_id\n",
       "2917     4.0\n",
       "3024     7.0\n",
       "3093     5.0\n",
       "3193     6.0\n",
       "3527     1.0\n",
       "3532    33.0\n",
       "3684     5.0\n",
       "3740    53.0\n",
       "3777     3.0\n",
       "3801    29.0\n",
       "3968     8.0\n",
       "3989     1.0\n",
       "3990     9.0\n",
       "3998     8.0\n",
       "4002    10.0\n",
       "4204    11.0\n",
       "4231    16.0\n",
       "4274     7.0\n",
       "4293    26.0\n",
       "4487    18.0\n",
       "dtype: float64"
      ]
     },
     "execution_count": 52,
     "metadata": {},
     "output_type": "execute_result"
    }
   ],
   "source": [
    "np.sum(np.abs(diffs_test), axis=1).sort_index()"
   ]
  },
  {
   "cell_type": "code",
   "execution_count": 22,
   "metadata": {
    "ExecuteTime": {
     "end_time": "2019-03-04T07:52:30.851180Z",
     "start_time": "2019-03-04T07:52:22.542347Z"
    }
   },
   "outputs": [],
   "source": [
    "sum_train_errs=[]\n",
    "sum_test_errs=[]\n",
    "all_errs=[]\n",
    "#make predictions based on train_set SVD for the overlapping 20 users that are also in the test set\n",
    "#compare these predictions with the actual test matrix to get errer\n",
    "num_latent_feat=np.arange(5,710,10)\n",
    "for k in num_latent_feat: #iterate thru number of latent features to get predictions\n",
    "    u_train_lat, s_train_lat, vt_train_lat = u_train[:, :k], np.diag(s_train[:k]), vt_train[:k, :]\n",
    "    u_test_lat, vt_test_lat = u_test[:, :k], vt_test[:k,:]\n",
    "    user_item_train_preds = np.around(np.dot(np.dot(u_train_lat, s_train_lat), vt_train_lat))\n",
    "    user_item_test_preds = np.around(np.dot(np.dot(u_test_lat, s_train_lat), vt_test_lat))\n",
    "    all_errs.append(1 - ((np.sum(user_item_test_preds)+np.sum(np.sum(user_item_test)))/(user_item_test.shape[0]*user_item_test.shape[1])))\n",
    "    #calculate error\n",
    "    diffs_train = np.subtract(user_item_train, user_item_train_preds)\n",
    "    diffs_test = np.subtract(user_item_test.loc[common_idx, :], user_item_test_preds)\n",
    "    train_err = np.sum(np.sum(np.abs(diffs_train))) #first sum cols then rows\n",
    "    sum_train_errs.append(train_err)\n",
    "    \n",
    "    test_err = np.sum(np.sum(np.abs(diffs_test))) #first sum cols then rows\n",
    "    sum_test_errs.append(test_err)"
   ]
  },
  {
   "cell_type": "code",
   "execution_count": 27,
   "metadata": {
    "ExecuteTime": {
     "end_time": "2019-03-04T08:48:04.984499Z",
     "start_time": "2019-03-04T08:48:04.979512Z"
    }
   },
   "outputs": [
    {
     "data": {
      "text/plain": [
       "[232.0,\n",
       " 260.0,\n",
       " 281.0,\n",
       " 296.0,\n",
       " 302.0,\n",
       " 314.0,\n",
       " 324.0,\n",
       " 335.0,\n",
       " 348.0,\n",
       " 355.0,\n",
       " 361.0,\n",
       " 369.0,\n",
       " 375.0,\n",
       " 378.0,\n",
       " 385.0,\n",
       " 388.0,\n",
       " 391.0,\n",
       " 397.0,\n",
       " 403.0,\n",
       " 406.0,\n",
       " 409.0,\n",
       " 416.0,\n",
       " 416.0,\n",
       " 417.0,\n",
       " 421.0,\n",
       " 423.0,\n",
       " 424.0,\n",
       " 428.0,\n",
       " 430.0,\n",
       " 432.0,\n",
       " 434.0,\n",
       " 434.0,\n",
       " 434.0,\n",
       " 434.0,\n",
       " 436.0,\n",
       " 436.0,\n",
       " 436.0,\n",
       " 437.0,\n",
       " 438.0,\n",
       " 438.0,\n",
       " 438.0,\n",
       " 438.0,\n",
       " 438.0,\n",
       " 438.0,\n",
       " 438.0,\n",
       " 438.0,\n",
       " 438.0,\n",
       " 438.0,\n",
       " 438.0,\n",
       " 438.0,\n",
       " 438.0,\n",
       " 438.0,\n",
       " 438.0,\n",
       " 438.0,\n",
       " 438.0,\n",
       " 438.0,\n",
       " 438.0,\n",
       " 438.0,\n",
       " 438.0,\n",
       " 438.0,\n",
       " 438.0,\n",
       " 438.0,\n",
       " 438.0,\n",
       " 438.0,\n",
       " 438.0,\n",
       " 438.0,\n",
       " 438.0,\n",
       " 438.0,\n",
       " 438.0,\n",
       " 438.0,\n",
       " 438.0]"
      ]
     },
     "execution_count": 27,
     "metadata": {},
     "output_type": "execute_result"
    }
   ],
   "source": [
    "sum(sum_train_errs),sum(sum_test_errs)\n",
    "sum_test_errs"
   ]
  },
  {
   "cell_type": "code",
   "execution_count": 23,
   "metadata": {
    "ExecuteTime": {
     "end_time": "2019-03-04T07:52:37.116679Z",
     "start_time": "2019-03-04T07:52:36.989018Z"
    }
   },
   "outputs": [
    {
     "data": {
      "image/png": "[encoded data removed]",
      "text/plain": [
       "<Figure size 432x288 with 1 Axes>"
      ]
     },
     "metadata": {
      "needs_background": "light"
     },
     "output_type": "display_data"
    }
   ],
   "source": [
    "#plot errors\n",
    "plt.plot(num_latent_feat, all_errs, label='all');\n",
    "plt.plot(num_latent_feat, 1 - (np.array(sum_train_errs)/(user_item_train.shape[0]*user_item_train.shape[1])), label='train');\n",
    "plt.plot(num_latent_feat, 1 - (np.array(sum_test_errs)/(user_item_test.shape[0]*user_item_test.shape[1])), label='test');\n",
    "plt.legend(loc='best')\n",
    "plt.xlabel('Number of Latent Features');\n",
    "plt.ylabel('Accuracy');\n",
    "plt.title('Accuracy vs. Number of Latent Features');\n",
    "plt.show();"
   ]
  },
  {
   "cell_type": "code",
   "execution_count": null,
   "metadata": {},
   "outputs": [],
   "source": []
  },
  {
   "cell_type": "code",
   "execution_count": null,
   "metadata": {},
   "outputs": [],
   "source": []
  }
 ],
 "metadata": {
  "kernelspec": {
   "display_name": "Python 3",
   "language": "python",
   "name": "python3"
  },
  "language_info": {
   "codemirror_mode": {
    "name": "ipython",
    "version": 3
   },
   "file_extension": ".py",
   "mimetype": "text/x-python",
   "name": "python",
   "nbconvert_exporter": "python",
   "pygments_lexer": "ipython3",
   "version": "3.7.2"
  },
  "varInspector": {
   "cols": {
    "lenName": 16,
    "lenType": 16,
    "lenVar": 40
   },
   "kernels_config": {
    "python": {
     "delete_cmd_postfix": "",
     "delete_cmd_prefix": "del ",
     "library": "var_list.py",
     "varRefreshCmd": "print(var_dic_list())"
    },
    "r": {
     "delete_cmd_postfix": ") ",
     "delete_cmd_prefix": "rm(",
     "library": "var_list.r",
     "varRefreshCmd": "cat(var_dic_list()) "
    }
   },
   "oldHeight": 779.062818,
   "position": {
    "height": "40px",
    "left": "1034.25px",
    "right": "20px",
    "top": "76.9687px",
    "width": "576.321px"
   },
   "types_to_exclude": [
    "module",
    "function",
    "builtin_function_or_method",
    "instance",
    "_Feature"
   ],
   "varInspector_section_display": "none",
   "window_display": false
  }
 },
 "nbformat": 4,
 "nbformat_minor": 2
}
